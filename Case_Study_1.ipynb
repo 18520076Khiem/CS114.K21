{
  "nbformat": 4,
  "nbformat_minor": 0,
  "metadata": {
    "colab": {
      "name": "Copie de Untitled25.ipynb",
      "provenance": [],
      "collapsed_sections": [
        "BwtOf9ORjMjU"
      ],
      "toc_visible": true,
      "include_colab_link": true
    },
    "kernelspec": {
      "name": "python3",
      "display_name": "Python 3"
    }
  },
  "cells": [
    {
      "cell_type": "markdown",
      "metadata": {
        "id": "view-in-github",
        "colab_type": "text"
      },
      "source": [
        "<a href=\"https://colab.research.google.com/github/18520076Khiem/CS114.K21/blob/master/Case_Study_1.ipynb\" target=\"_parent\"><img src=\"https://colab.research.google.com/assets/colab-badge.svg\" alt=\"Open In Colab\"/></a>"
      ]
    },
    {
      "cell_type": "markdown",
      "metadata": {
        "id": "eC9j5CxoNIW_",
        "colab_type": "text"
      },
      "source": [
        "#**Danh sách thành viên**\n",
        "- 18521404 Lê Đại Thành\n",
        "- 18520076 Trần Đỗ Quốc Khiêm\n",
        "- 18521394 Nguyễn Hoàng Thắng\n"
      ]
    },
    {
      "cell_type": "markdown",
      "metadata": {
        "id": "kCD3LFmoNXtd",
        "colab_type": "text"
      },
      "source": [
        "#**Mô tả bài toán**\n",
        "-Giới thiệu bài toán: Hiện nay số lượng thông tin rất nhiều.Vấn nạn về việc lựa chọn tin tức chính xác để đọc là một vấn đề rất nan giải. Cho nên việc phân biệt đâu là thông tin chính thống đâu là thông tin châm biếm để không bị nhầm lẫn thật sự cần thiết. Do đó ý tưởng để cho máy tính có thể phân biệt đâu là thông tin chính xác có thể hữu dụng.\n",
        "\n",
        "- Phát biểu bài toán: Dự đoán bài báo có phải thông tin chính thống hay là thông tin có tính chất mỉa mai châm biếm dựa vào tiêu đề của bài báo\n",
        "\n",
        "- Thu thập dữ liệu data: Dựa trên hai trang web tin tức đó là:\n",
        "    - TheOnion chuyên về những tin tức có tính châm biến không chính thống\n",
        "    - HuffPost chuyên về những tin tức chính thống \n",
        "    - Nội dung dữ liệu bao gồm ba thuộc tính:\n",
        "      - is_sarcastic:\n",
        "        - 1 nếu dữ liệu là tin có tính châm biếm mỉa mai\n",
        "        - 0 nếu dữ liệu là tin chính thống\n",
        "      - headline: là tiêu đề của những bài báo\n",
        "      - article_link: liên kết đến bài báo đó\n",
        "- Input: Tiêu đề của bài báo.\n",
        "\n",
        "- Output: Bài báo có tính châm biếm hay không"
      ]
    },
    {
      "cell_type": "markdown",
      "metadata": {
        "id": "fxcxbDOdo2f3",
        "colab_type": "text"
      },
      "source": [
        "#**Các thư viện được sử dụng trong bài toán**"
      ]
    },
    {
      "cell_type": "code",
      "metadata": {
        "id": "heM3Ji7Aoz_D",
        "colab_type": "code",
        "colab": {
          "base_uri": "https://localhost:8080/",
          "height": 70
        },
        "outputId": "62dcae25-e49a-4ebf-8233-fec9e4174e58"
      },
      "source": [
        "from google.colab import files\n",
        "import pandas as pd\n",
        "import matplotlib.pyplot as plt\n",
        "import seaborn as sns\n",
        "import numpy as np\n",
        "import nltk\n",
        "from nltk.tokenize import RegexpTokenizer\n",
        "from nltk.corpus import stopwords\n",
        "from nltk.stem import PorterStemmer \n",
        "from sklearn.feature_extraction.text import TfidfVectorizer\n",
        "from sklearn.model_selection import train_test_split\n",
        "from sklearn import metrics"
      ],
      "execution_count": 3,
      "outputs": [
        {
          "output_type": "stream",
          "text": [
            "/usr/local/lib/python3.6/dist-packages/statsmodels/tools/_testing.py:19: FutureWarning: pandas.util.testing is deprecated. Use the functions in the public API at pandas.testing instead.\n",
            "  import pandas.util.testing as tm\n"
          ],
          "name": "stderr"
        }
      ]
    },
    {
      "cell_type": "markdown",
      "metadata": {
        "id": "HdXWtrSePPzb",
        "colab_type": "text"
      },
      "source": [
        "#**Lấy datasets trên Kaggle**\n"
      ]
    },
    {
      "cell_type": "markdown",
      "metadata": {
        "id": "gCBSyKq8jErA",
        "colab_type": "text"
      },
      "source": [
        "###Lấy và giải nén file data từ kaggle"
      ]
    },
    {
      "cell_type": "code",
      "metadata": {
        "id": "aLbKOx8s15b1",
        "colab_type": "code",
        "colab": {
          "resources": {
            "http://localhost:8080/nbextensions/google.colab/files.js": {
              "data": "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",
              "ok": true,
              "headers": [
                [
                  "content-type",
                  "application/javascript"
                ]
              ],
              "status": 200,
              "status_text": ""
            }
          },
          "base_uri": "https://localhost:8080/",
          "height": 90
        },
        "outputId": "782c11cd-f47e-494e-b7cd-ef4639c62c6b"
      },
      "source": [
        "from google.colab import files\n",
        "files.upload()"
      ],
      "execution_count": 4,
      "outputs": [
        {
          "output_type": "display_data",
          "data": {
            "text/html": [
              "\n",
              "     <input type=\"file\" id=\"files-604cf94f-5fcf-454b-b090-ebd19bb11e51\" name=\"files[]\" multiple disabled\n",
              "        style=\"border:none\" />\n",
              "     <output id=\"result-604cf94f-5fcf-454b-b090-ebd19bb11e51\">\n",
              "      Upload widget is only available when the cell has been executed in the\n",
              "      current browser session. Please rerun this cell to enable.\n",
              "      </output>\n",
              "      <script src=\"/nbextensions/google.colab/files.js\"></script> "
            ],
            "text/plain": [
              "<IPython.core.display.HTML object>"
            ]
          },
          "metadata": {
            "tags": []
          }
        },
        {
          "output_type": "stream",
          "text": [
            "Saving kaggle.json to kaggle.json\n"
          ],
          "name": "stdout"
        },
        {
          "output_type": "execute_result",
          "data": {
            "text/plain": [
              "{'kaggle.json': b'{\"username\":\"trandoquockhiem\",\"key\":\"94f23ee7b4ed300f910aada801fc5b46\"}'}"
            ]
          },
          "metadata": {
            "tags": []
          },
          "execution_count": 4
        }
      ]
    },
    {
      "cell_type": "code",
      "metadata": {
        "id": "9YDdh8Lz16Qu",
        "colab_type": "code",
        "colab": {
          "base_uri": "https://localhost:8080/",
          "height": 202
        },
        "outputId": "6be92e8a-4092-4dc1-bf51-70d3b7528aef"
      },
      "source": [
        "!pip install kaggle"
      ],
      "execution_count": 6,
      "outputs": [
        {
          "output_type": "stream",
          "text": [
            "Requirement already satisfied: kaggle in /usr/local/lib/python3.6/dist-packages (1.5.6)\n",
            "Requirement already satisfied: certifi in /usr/local/lib/python3.6/dist-packages (from kaggle) (2020.4.5.2)\n",
            "Requirement already satisfied: tqdm in /usr/local/lib/python3.6/dist-packages (from kaggle) (4.41.1)\n",
            "Requirement already satisfied: requests in /usr/local/lib/python3.6/dist-packages (from kaggle) (2.23.0)\n",
            "Requirement already satisfied: six>=1.10 in /usr/local/lib/python3.6/dist-packages (from kaggle) (1.12.0)\n",
            "Requirement already satisfied: urllib3<1.25,>=1.21.1 in /usr/local/lib/python3.6/dist-packages (from kaggle) (1.24.3)\n",
            "Requirement already satisfied: python-slugify in /usr/local/lib/python3.6/dist-packages (from kaggle) (4.0.0)\n",
            "Requirement already satisfied: python-dateutil in /usr/local/lib/python3.6/dist-packages (from kaggle) (2.8.1)\n",
            "Requirement already satisfied: chardet<4,>=3.0.2 in /usr/local/lib/python3.6/dist-packages (from requests->kaggle) (3.0.4)\n",
            "Requirement already satisfied: idna<3,>=2.5 in /usr/local/lib/python3.6/dist-packages (from requests->kaggle) (2.9)\n",
            "Requirement already satisfied: text-unidecode>=1.3 in /usr/local/lib/python3.6/dist-packages (from python-slugify->kaggle) (1.3)\n"
          ],
          "name": "stdout"
        }
      ]
    },
    {
      "cell_type": "code",
      "metadata": {
        "id": "kbVSNUVJ2AKa",
        "colab_type": "code",
        "colab": {}
      },
      "source": [
        "!mkdir -p ~/.kaggle\n",
        "!cp kaggle.json ~/.kaggle/\n",
        "!chmod 600 ~/.kaggle/kaggle.json"
      ],
      "execution_count": 5,
      "outputs": []
    },
    {
      "cell_type": "code",
      "metadata": {
        "id": "BnehCkHJ2Dr2",
        "colab_type": "code",
        "colab": {
          "base_uri": "https://localhost:8080/",
          "height": 403
        },
        "outputId": "51949b35-a11c-4886-a900-fa28120a515c"
      },
      "source": [
        "!kaggle datasets list -s headlines"
      ],
      "execution_count": 7,
      "outputs": [
        {
          "output_type": "stream",
          "text": [
            "Warning: Looks like you're using an outdated API Version, please consider updating (server 1.5.6 / client 1.5.4)\n",
            "ref                                                  title                                          size  lastUpdated          downloadCount  \n",
            "---------------------------------------------------  --------------------------------------------  -----  -------------------  -------------  \n",
            "therohk/million-headlines                            A Million News Headlines                       20MB  2020-04-27 13:07:30           1336  \n",
            "rmisra/news-headlines-dataset-for-sarcasm-detection  News Headlines Dataset For Sarcasm Detection    3MB  2019-07-03 23:52:57           9701  \n",
            "therohk/india-headlines-news-dataset                 India Headlines News Dataset                   68MB  2019-04-12 02:46:04           1995  \n",
            "aaron7sun/stocknews                                  Daily News for Stock Market Prediction          6MB  2019-11-13 18:22:52           4204  \n",
            "rmisra/news-category-dataset                         News Category Dataset                          25MB  2018-12-02 04:09:45          11521  \n",
            "adnanzaidi/urdu-news-headlines                       Urdu / Hindi News Headlines                    64KB  2019-08-06 15:03:48            124  \n",
            "uciml/news-aggregator-dataset                        News Aggregator Dataset                        28MB  2016-10-31 22:22:55           9501  \n",
            "chrisfilo/onion-or-not                               Onion Or Not                                  887KB  2020-02-26 02:34:12            375  \n",
            "therohk/ireland-historical-news                      Irish Times - Waxy-Wany News                   49MB  2020-03-11 19:42:17            110  \n",
            "marlesson/news-of-the-site-folhauol                  News of the Brazilian Newspaper               187MB  2019-06-05 03:33:51            450  \n",
            "ibadia/dawn-news-headlines                           Dawn News Headlines                           787KB  2020-03-04 20:18:14             19  \n",
            "antmarakis/fake-news-data                            Fake News Data                                125MB  2019-07-27 12:11:57            604  \n",
            "ankurzing/sentiment-analysis-for-financial-news      Sentiment Analysis for Financial News         903KB  2020-05-27 18:38:15            229  \n",
            "sunnysai12345/news-summary                           NEWS SUMMARY                                   20MB  2019-11-13 06:29:30           1010  \n",
            "rmisra/clothing-fit-dataset-for-size-recommendation  Clothing Fit Dataset for Size Recommendation   40MB  2018-08-21 19:00:16           3108  \n",
            "therohk/examine-the-examiner                         The Examiner - Spam Clickbait Catalog         142MB  2020-06-14 10:40:21             31  \n",
            "blogdish/election-news-headlines                     Election News Headlines                        18KB  2017-11-17 19:09:39             66  \n",
            "hkapoor/covid19-india-news-headlines-for-nlp         COVID-19 Indian News Headlines                851KB  2020-05-04 06:42:13             16  \n",
            "rmisra/imdb-spoiler-dataset                          IMDB Spoiler Dataset                          331MB  2019-05-22 04:44:43            876  \n",
            "snapcrack/all-the-news                               All the news                                  244MB  2017-08-20 05:58:47          15800  \n"
          ],
          "name": "stdout"
        }
      ]
    },
    {
      "cell_type": "code",
      "metadata": {
        "id": "I8iIrJWa2GWx",
        "colab_type": "code",
        "colab": {
          "base_uri": "https://localhost:8080/",
          "height": 67
        },
        "outputId": "d3e63dea-1545-44e3-d083-c6be09c0da1d"
      },
      "source": [
        "!kaggle datasets download -d rmisra/news-headlines-dataset-for-sarcasm-detection"
      ],
      "execution_count": 8,
      "outputs": [
        {
          "output_type": "stream",
          "text": [
            "Downloading news-headlines-dataset-for-sarcasm-detection.zip to /content\n",
            "\r  0% 0.00/3.30M [00:00<?, ?B/s]\n",
            "\r100% 3.30M/3.30M [00:00<00:00, 111MB/s]\n"
          ],
          "name": "stdout"
        }
      ]
    },
    {
      "cell_type": "code",
      "metadata": {
        "id": "K-JqApF92JN4",
        "colab_type": "code",
        "colab": {
          "base_uri": "https://localhost:8080/",
          "height": 67
        },
        "outputId": "e4f35a4a-ea5b-4ce9-a65b-b9e2e44df848"
      },
      "source": [
        "!unzip news-headlines-dataset-for-sarcasm-detection.zip"
      ],
      "execution_count": 9,
      "outputs": [
        {
          "output_type": "stream",
          "text": [
            "Archive:  news-headlines-dataset-for-sarcasm-detection.zip\n",
            "  inflating: Sarcasm_Headlines_Dataset.json  \n",
            "  inflating: Sarcasm_Headlines_Dataset_v2.json  \n"
          ],
          "name": "stdout"
        }
      ]
    },
    {
      "cell_type": "code",
      "metadata": {
        "id": "SbVr9lPX2MiK",
        "colab_type": "code",
        "colab": {
          "base_uri": "https://localhost:8080/",
          "height": 101
        },
        "outputId": "eb935d63-d18d-4513-bc7c-5904e3d8fa85"
      },
      "source": [
        "ls"
      ],
      "execution_count": 10,
      "outputs": [
        {
          "output_type": "stream",
          "text": [
            "kaggle.json\n",
            "news-headlines-dataset-for-sarcasm-detection.zip\n",
            "\u001b[0m\u001b[01;34msample_data\u001b[0m/\n",
            "Sarcasm_Headlines_Dataset.json\n",
            "Sarcasm_Headlines_Dataset_v2.json\n"
          ],
          "name": "stdout"
        }
      ]
    },
    {
      "cell_type": "markdown",
      "metadata": {
        "id": "BwtOf9ORjMjU",
        "colab_type": "text"
      },
      "source": [
        "###Dùng thư viện pandas để đọc dữ liệu"
      ]
    },
    {
      "cell_type": "code",
      "metadata": {
        "id": "B4OtNVSO2Qu5",
        "colab_type": "code",
        "colab": {}
      },
      "source": [
        "import pandas as pd\n",
        "# đọc file data \n",
        "df1=pd.read_json('Sarcasm_Headlines_Dataset.json',lines=True)\n",
        "df2=pd.read_json('Sarcasm_Headlines_Dataset_v2.json',lines=True)"
      ],
      "execution_count": 11,
      "outputs": []
    },
    {
      "cell_type": "code",
      "metadata": {
        "id": "i2Zu7QR_2TbB",
        "colab_type": "code",
        "colab": {
          "base_uri": "https://localhost:8080/",
          "height": 195
        },
        "outputId": "dd1d4d03-e02c-4eb0-e150-d3e5c7843938"
      },
      "source": [
        "# tạo dataset bằng việc nối 2 file dữ liệu đã được đọc \n",
        "df=pd.concat([df1,df2],axis=0,sort=False)\n",
        "df.head()"
      ],
      "execution_count": 12,
      "outputs": [
        {
          "output_type": "execute_result",
          "data": {
            "text/html": [
              "<div>\n",
              "<style scoped>\n",
              "    .dataframe tbody tr th:only-of-type {\n",
              "        vertical-align: middle;\n",
              "    }\n",
              "\n",
              "    .dataframe tbody tr th {\n",
              "        vertical-align: top;\n",
              "    }\n",
              "\n",
              "    .dataframe thead th {\n",
              "        text-align: right;\n",
              "    }\n",
              "</style>\n",
              "<table border=\"1\" class=\"dataframe\">\n",
              "  <thead>\n",
              "    <tr style=\"text-align: right;\">\n",
              "      <th></th>\n",
              "      <th>article_link</th>\n",
              "      <th>headline</th>\n",
              "      <th>is_sarcastic</th>\n",
              "    </tr>\n",
              "  </thead>\n",
              "  <tbody>\n",
              "    <tr>\n",
              "      <th>0</th>\n",
              "      <td>https://www.huffingtonpost.com/entry/versace-b...</td>\n",
              "      <td>former versace store clerk sues over secret 'b...</td>\n",
              "      <td>0</td>\n",
              "    </tr>\n",
              "    <tr>\n",
              "      <th>1</th>\n",
              "      <td>https://www.huffingtonpost.com/entry/roseanne-...</td>\n",
              "      <td>the 'roseanne' revival catches up to our thorn...</td>\n",
              "      <td>0</td>\n",
              "    </tr>\n",
              "    <tr>\n",
              "      <th>2</th>\n",
              "      <td>https://local.theonion.com/mom-starting-to-fea...</td>\n",
              "      <td>mom starting to fear son's web series closest ...</td>\n",
              "      <td>1</td>\n",
              "    </tr>\n",
              "    <tr>\n",
              "      <th>3</th>\n",
              "      <td>https://politics.theonion.com/boehner-just-wan...</td>\n",
              "      <td>boehner just wants wife to listen, not come up...</td>\n",
              "      <td>1</td>\n",
              "    </tr>\n",
              "    <tr>\n",
              "      <th>4</th>\n",
              "      <td>https://www.huffingtonpost.com/entry/jk-rowlin...</td>\n",
              "      <td>j.k. rowling wishes snape happy birthday in th...</td>\n",
              "      <td>0</td>\n",
              "    </tr>\n",
              "  </tbody>\n",
              "</table>\n",
              "</div>"
            ],
            "text/plain": [
              "                                        article_link  ... is_sarcastic\n",
              "0  https://www.huffingtonpost.com/entry/versace-b...  ...            0\n",
              "1  https://www.huffingtonpost.com/entry/roseanne-...  ...            0\n",
              "2  https://local.theonion.com/mom-starting-to-fea...  ...            1\n",
              "3  https://politics.theonion.com/boehner-just-wan...  ...            1\n",
              "4  https://www.huffingtonpost.com/entry/jk-rowlin...  ...            0\n",
              "\n",
              "[5 rows x 3 columns]"
            ]
          },
          "metadata": {
            "tags": []
          },
          "execution_count": 12
        }
      ]
    },
    {
      "cell_type": "markdown",
      "metadata": {
        "id": "C_I4AN-zPV-L",
        "colab_type": "text"
      },
      "source": [
        "###Lấy dữ liệu cột Headline và cột Is_sarcastic"
      ]
    },
    {
      "cell_type": "code",
      "metadata": {
        "id": "bBN5fZgZ2Xxp",
        "colab_type": "code",
        "colab": {}
      },
      "source": [
        "X=df['headline']\n",
        "y=df['is_sarcastic']"
      ],
      "execution_count": 13,
      "outputs": []
    },
    {
      "cell_type": "markdown",
      "metadata": {
        "id": "umaP7VZpPgXR",
        "colab_type": "text"
      },
      "source": [
        "#**Biểu đồ thống kê số tiêu đề là châm biếm và không châm biếm**"
      ]
    },
    {
      "cell_type": "code",
      "metadata": {
        "id": "gT2bYAiK9Eyp",
        "colab_type": "code",
        "colab": {
          "base_uri": "https://localhost:8080/",
          "height": 313
        },
        "outputId": "35ad3831-f703-44a4-ad9c-f6b7e5790f6c"
      },
      "source": [
        "sns.countplot(x = \"is_sarcastic\", data = df)\n",
        "plt.title(\"Data Distribution\")"
      ],
      "execution_count": 14,
      "outputs": [
        {
          "output_type": "execute_result",
          "data": {
            "text/plain": [
              "Text(0.5, 1.0, 'Data Distribution')"
            ]
          },
          "metadata": {
            "tags": []
          },
          "execution_count": 14
        },
        {
          "output_type": "display_data",
          "data": {
            "image/png": "[encoded data removed]",
            "text/plain": [
              "<Figure size 432x288 with 1 Axes>"
            ]
          },
          "metadata": {
            "tags": [],
            "needs_background": "light"
          }
        }
      ]
    },
    {
      "cell_type": "markdown",
      "metadata": {
        "id": "dssguF_rPkAI",
        "colab_type": "text"
      },
      "source": [
        "#**Tiền xử lí dữ liệu**"
      ]
    },
    {
      "cell_type": "markdown",
      "metadata": {
        "id": "W-sf5_A3WD6W",
        "colab_type": "text"
      },
      "source": [
        "- Ta sẽ sử dụng thư viện nltk để hỗ trợ việc xử lí dữ liệu dạng text \n",
        "  - Thư viện Natural Language Toolkit (tạm dịch là Bộ công cụ Ngôn ngữ Tự nhiên, viết tắt NLTK) là một nền tảng dẫn đầu để xây dựng các chương trình Python làm việc với dữ liệu ngôn ngữ của con người. Thư viện cung cấp giao diện dễ sử dụng với hơn 50 tài nguyên từ vựng và ngữ liệu (corpora), điển hình là WordNet cùng với các thư viện thích hợp để xử lý bài toán phân loại, token hóa (tokenization), tìm từ gốc (stemming),… Thư viện NLTK còn là công cụ tuyệt vời để giảng dạy và giải quyết các bài toán về tính toán ngôn ngữ sử dụng Python.\n",
        "\n",
        "- Trước hết ta sẽ tách các headline thành các token(từng chữ) bằng hàm RegexpTokenizer\n",
        "- Sau đó ta sẽ tìm kiếm các stopwords và loại bỏ chúng\n",
        "  - Stopword là gì? \n",
        "    - Stopword là những từ trong câu khi mất đi không gây ảnh hưởng đến nghĩa của câu.\n",
        "    - Những stopword này đã được thống kê trong corpus của thư viện nltk.\n",
        "- Tiếp đến sử dụng hàm PorterStemmer để đưa các token về dạng chuẩn của từ đó \n",
        "- Sau khi tiến hành xong các bước trên ta sẽ dùng thư viện TfidfVectorizer của sklearn để chuyển các token thành các ma trận TF-IDF và sử dụng hàm fit_transforms để tính tần suất xuất hiện của token này trong câu\n",
        "  - tf–idf(term frequency – inverse document frequence) của một từ ,là một con số thu được qua thống kê thể hiện mức độ quan trọng của từ này trong một văn bản, mà bản thân văn bản đang xét nằm trong một tập hợp các văn bản.\n",
        "- Cuối cùng tiến hành chia dữ liệu thành 2 phần train và test để tránh model bị overfitting"
      ]
    },
    {
      "cell_type": "code",
      "metadata": {
        "id": "Vv_xxf34-N0R",
        "colab_type": "code",
        "colab": {
          "base_uri": "https://localhost:8080/",
          "height": 67
        },
        "outputId": "3242821a-ecfb-4c01-dd3b-8a6130e9626c"
      },
      "source": [
        "# import thư viện nltk và tiến hành download các stopword từ corpus\n",
        "import nltk\n",
        "nltk.download('stopwords')"
      ],
      "execution_count": 15,
      "outputs": [
        {
          "output_type": "stream",
          "text": [
            "[nltk_data] Downloading package stopwords to /root/nltk_data...\n",
            "[nltk_data]   Unzipping corpora/stopwords.zip.\n"
          ],
          "name": "stdout"
        },
        {
          "output_type": "execute_result",
          "data": {
            "text/plain": [
              "True"
            ]
          },
          "metadata": {
            "tags": []
          },
          "execution_count": 15
        }
      ]
    },
    {
      "cell_type": "markdown",
      "metadata": {
        "id": "AaqVOPdWQBuZ",
        "colab_type": "text"
      },
      "source": [
        "## Hàm xóa stopwords ra khỏi data:\n"
      ]
    },
    {
      "cell_type": "code",
      "metadata": {
        "id": "xLlvawJc-SR6",
        "colab_type": "code",
        "colab": {}
      },
      "source": [
        "\n",
        "from nltk.tokenize import RegexpTokenizer\n",
        "from nltk.corpus import stopwords\n",
        "from nltk.stem import PorterStemmer \n",
        "# hàm xóa stopwords\n",
        "\n",
        "# lấy các stopwords của tiếng anh từ thư viện \n",
        "stop_words =set(stopwords.words(\"english\"))\n",
        "\n",
        "# sử dụng hàm PorterStemmer của thư viện nltk để đưa các từ về dạng chuẩn.\n",
        "  # ví dụ như walk , walked , walking đều chuẩn hóa về thành walk.\n",
        "stemmer = PorterStemmer()\n",
        "\n",
        "# dùng RegexpTokenizer để chia các headline thành các token\n",
        "tokenizer = RegexpTokenizer(r'\\w+')\n",
        "\n",
        "#Hàm xóa stopwords \n",
        "def preprocess(text):\n",
        "  word_list = []\n",
        "\n",
        "  # tách thành các token của headline \n",
        "  tok = tokenizer.tokenize(text)\n",
        "\n",
        "  # tìm xem trong các token này có từ nào là stopword không nếu phải loại bỏ , nếu không đưa chúng về dạng chuẩn\n",
        "  for word in tok:\n",
        "    if word not in stop_words:\n",
        "      word_list.append(stemmer.stem(word))\n",
        "\n",
        "  return \" \".join(word_list)"
      ],
      "execution_count": 16,
      "outputs": []
    },
    {
      "cell_type": "markdown",
      "metadata": {
        "id": "l8xL0UusQK8I",
        "colab_type": "text"
      },
      "source": [
        "## Tiến hành xóa những stopwords ra khỏi Data"
      ]
    },
    {
      "cell_type": "code",
      "metadata": {
        "id": "2KGp-FZB8y9s",
        "colab_type": "code",
        "colab": {
          "base_uri": "https://localhost:8080/",
          "height": 118
        },
        "outputId": "6c115ec8-0797-4d6f-e50f-a73f73837248"
      },
      "source": [
        "# preprocess dữ liệu cần train \n",
        "x_data = X.apply(preprocess)\n",
        "x_data.tail()"
      ],
      "execution_count": 17,
      "outputs": [
        {
          "output_type": "execute_result",
          "data": {
            "text/plain": [
              "28614                      jew celebr rosh hashasha someth\n",
              "28615    intern affair investig disappoint conspiraci g...\n",
              "28616          beauti accept speech week came queer korean\n",
              "28617    mar probe destroy orbit spielberg gate space p...\n",
              "28618                                dad clarifi food stop\n",
              "Name: headline, dtype: object"
            ]
          },
          "metadata": {
            "tags": []
          },
          "execution_count": 17
        }
      ]
    },
    {
      "cell_type": "markdown",
      "metadata": {
        "id": "rqzZs2BoQ1Wi",
        "colab_type": "text"
      },
      "source": [
        "## Xử lí dữ liệu chuyển đổi ngôn ngữ tự nhiên thành  thành ma trận TF-IDF "
      ]
    },
    {
      "cell_type": "code",
      "metadata": {
        "id": "oWp8_i14Qa_p",
        "colab_type": "code",
        "colab": {
          "base_uri": "https://localhost:8080/",
          "height": 50
        },
        "outputId": "ab4b6ebd-eed1-4e4e-f279-16e806f2517a"
      },
      "source": [
        "from sklearn.feature_extraction.text import TfidfVectorizer\n",
        "\n",
        "# sử dụng hàm TfidfVectorizer để chuyển các token thành các ma trận tf-idf feature.\n",
        "vectorizer = TfidfVectorizer()\n",
        "\n",
        "# sử dụng hàm fit_transform để tìm tần suất xuất hiện của token trong câu\n",
        "x_data_tfidf=vectorizer.fit_transform(x_data)\n",
        "\n",
        "x_data_tfidf"
      ],
      "execution_count": 18,
      "outputs": [
        {
          "output_type": "execute_result",
          "data": {
            "text/plain": [
              "<55328x17940 sparse matrix of type '<class 'numpy.float64'>'\n",
              "\twith 394323 stored elements in Compressed Sparse Row format>"
            ]
          },
          "metadata": {
            "tags": []
          },
          "execution_count": 18
        }
      ]
    },
    {
      "cell_type": "markdown",
      "metadata": {
        "id": "WGDr8HOg521H",
        "colab_type": "text"
      },
      "source": [
        "Công thức tính tfidf của một từ: tfidf=tf(t,d)*idf(t,D) với TF(t, d) = ( số lần từ t xuất hiện trong văn bản d) / (tổng số từ trong văn bản d) và IDF(t, D) = log_e( Tổng số văn bản trong tập mẫu D/ Số văn bản có chứa từ t )"
      ]
    },
    {
      "cell_type": "markdown",
      "metadata": {
        "id": "vhIvKu3yRhyj",
        "colab_type": "text"
      },
      "source": [
        "##Chia dữ liệu thành 90% để train 10% để test ,sử dụng tham số random_state để để đảm bảo dữ liệu train và test một cách ngẫu nhiên"
      ]
    },
    {
      "cell_type": "code",
      "metadata": {
        "id": "QfAwaK8d-Yzy",
        "colab_type": "code",
        "colab": {}
      },
      "source": [
        "from sklearn.model_selection import train_test_split\n",
        "X_train, X_test, y_train, y_test = train_test_split(x_data_tfidf, df['is_sarcastic'].values, test_size=0.1, random_state=42)"
      ],
      "execution_count": 19,
      "outputs": []
    },
    {
      "cell_type": "markdown",
      "metadata": {
        "id": "LeRjWjI3RsDC",
        "colab_type": "text"
      },
      "source": [
        "#**Chọn model để train cho data**"
      ]
    },
    {
      "cell_type": "markdown",
      "metadata": {
        "id": "qNvgB5EuU4U_",
        "colab_type": "text"
      },
      "source": [
        "## DecisionTree"
      ]
    },
    {
      "cell_type": "code",
      "metadata": {
        "id": "ZjfNsByvVL3i",
        "colab_type": "code",
        "colab": {
          "base_uri": "https://localhost:8080/",
          "height": 50
        },
        "outputId": "dc2521b0-beb7-4580-f81e-123053fcb54b"
      },
      "source": [
        "from sklearn.tree import DecisionTreeClassifier\n",
        "dt=DecisionTreeClassifier()\n",
        "dt.fit(X_train,y_train)\n",
        "print(f\"Training Score : {dt.score(X_train, y_train)}\")\n",
        "print(f\"Test Score : {dt.score(X_test, y_test)}\")"
      ],
      "execution_count": 20,
      "outputs": [
        {
          "output_type": "stream",
          "text": [
            "Training Score : 1.0\n",
            "Test Score : 0.9643954455087655\n"
          ],
          "name": "stdout"
        }
      ]
    },
    {
      "cell_type": "markdown",
      "metadata": {
        "id": "V_WWimefWOB-",
        "colab_type": "text"
      },
      "source": [
        "\n",
        "## K-Nearest neighbors"
      ]
    },
    {
      "cell_type": "code",
      "metadata": {
        "id": "P6fYi_oSWRiO",
        "colab_type": "code",
        "colab": {
          "base_uri": "https://localhost:8080/",
          "height": 50
        },
        "outputId": "ce98af55-5862-4133-d107-cb1ea0a1d50c"
      },
      "source": [
        "from sklearn.neighbors import KNeighborsClassifier\n",
        "KN=KNeighborsClassifier()\n",
        "KN.fit(X_train,y_train)\n",
        "print(f\"Training Score : {KN.score(X_train, y_train)}\")\n",
        "print(f\"Test Score : {KN.score(X_test, y_test)}\")"
      ],
      "execution_count": 22,
      "outputs": [
        {
          "output_type": "stream",
          "text": [
            "Training Score : 0.7865046691434883\n",
            "Test Score : 0.751852521236219\n"
          ],
          "name": "stdout"
        }
      ]
    },
    {
      "cell_type": "markdown",
      "metadata": {
        "id": "BZOZATypKK9Z",
        "colab_type": "text"
      },
      "source": [
        "## Naive Bayes Classifier:"
      ]
    },
    {
      "cell_type": "code",
      "metadata": {
        "id": "WCvzsHtsJrjU",
        "colab_type": "code",
        "colab": {
          "base_uri": "https://localhost:8080/",
          "height": 50
        },
        "outputId": "71772c24-0ae3-42d4-fca8-12b8fb82be1b"
      },
      "source": [
        "from sklearn.naive_bayes import BernoulliNB\n",
        "BernModel = BernoulliNB()\n",
        "BernModel.fit(X_train, y_train)\n",
        "print(f\"Training Score : {BernModel.score(X_train, y_train)}\")\n",
        "print(f\"Test Score : {BernModel.score(X_test, y_test)}\")"
      ],
      "execution_count": 23,
      "outputs": [
        {
          "output_type": "stream",
          "text": [
            "Training Score : 0.889185661210965\n",
            "Test Score : 0.8514368335441894\n"
          ],
          "name": "stdout"
        }
      ]
    },
    {
      "cell_type": "markdown",
      "metadata": {
        "id": "DENT8alcKW3R",
        "colab_type": "text"
      },
      "source": [
        "## Logistic Regression:"
      ]
    },
    {
      "cell_type": "code",
      "metadata": {
        "id": "_RIk9TSQKPQc",
        "colab_type": "code",
        "colab": {
          "base_uri": "https://localhost:8080/",
          "height": 185
        },
        "outputId": "be0f33e6-5c01-4021-83b2-a15bf9c3d583"
      },
      "source": [
        "from sklearn.linear_model import LogisticRegression\n",
        "LogModel = LogisticRegression()\n",
        "LogModel.fit(X_train,y_train)\n",
        "print(f\"Training Score : {LogModel.score(X_train, y_train)}\")\n",
        "print(f\"Test Score : {LogModel.score(X_test, y_test)}\")"
      ],
      "execution_count": 24,
      "outputs": [
        {
          "output_type": "stream",
          "text": [
            "Training Score : 0.8903504367908425\n",
            "Test Score : 0.8449304174950298\n"
          ],
          "name": "stdout"
        },
        {
          "output_type": "stream",
          "text": [
            "/usr/local/lib/python3.6/dist-packages/sklearn/linear_model/_logistic.py:940: ConvergenceWarning: lbfgs failed to converge (status=1):\n",
            "STOP: TOTAL NO. of ITERATIONS REACHED LIMIT.\n",
            "\n",
            "Increase the number of iterations (max_iter) or scale the data as shown in:\n",
            "    https://scikit-learn.org/stable/modules/preprocessing.html\n",
            "Please also refer to the documentation for alternative solver options:\n",
            "    https://scikit-learn.org/stable/modules/linear_model.html#logistic-regression\n",
            "  extra_warning_msg=_LOGISTIC_SOLVER_CONVERGENCE_MSG)\n"
          ],
          "name": "stderr"
        }
      ]
    },
    {
      "cell_type": "markdown",
      "metadata": {
        "id": "_9P1VWFZLNBq",
        "colab_type": "text"
      },
      "source": [
        "## Random Forest Classifier:"
      ]
    },
    {
      "cell_type": "code",
      "metadata": {
        "id": "o4Fhq58mLJGu",
        "colab_type": "code",
        "colab": {
          "base_uri": "https://localhost:8080/",
          "height": 50
        },
        "outputId": "59b036f2-21ac-4622-e65e-cfedf80bff6f"
      },
      "source": [
        "from sklearn.ensemble import RandomForestClassifier\n",
        "rf_model = RandomForestClassifier()\n",
        "rf_model.fit(X_train,y_train)\n",
        "print(f\"Training Score : {rf_model.score(X_train, y_train)}\")\n",
        "print(f\"Test Score : {rf_model.score(X_test, y_test)}\")"
      ],
      "execution_count": 45,
      "outputs": [
        {
          "output_type": "stream",
          "text": [
            "Training Score : 1.0\n",
            "Test Score : 0.9699981926622085\n"
          ],
          "name": "stdout"
        }
      ]
    },
    {
      "cell_type": "code",
      "metadata": {
        "id": "w65dZJ5GNlum",
        "colab_type": "code",
        "colab": {
          "base_uri": "https://localhost:8080/",
          "height": 298
        },
        "outputId": "505fad2a-4e72-47da-e025-b98dce458773"
      },
      "source": [
        "pred = rf_model.predict(X_test)\n",
        "cm=metrics.confusion_matrix(y_test,pred)\n",
        "cm = pd.DataFrame(cm, index = [\"Fake\", \"True\"], columns=[\"Fake\", \"True\"])\n",
        "sns.heatmap(cm, annot = True)\n",
        "plt.title(\"Confusion Matrix for Random Forest Classifier\")"
      ],
      "execution_count": 46,
      "outputs": [
        {
          "output_type": "execute_result",
          "data": {
            "text/plain": [
              "Text(0.5, 1.0, 'Confusion Matrix for Random Forest Classifier')"
            ]
          },
          "metadata": {
            "tags": []
          },
          "execution_count": 46
        },
        {
          "output_type": "display_data",
          "data": {
            "image/png": "[encoded data removed]",
            "text/plain": [
              "<Figure size 432x288 with 2 Axes>"
            ]
          },
          "metadata": {
            "tags": [],
            "needs_background": "light"
          }
        }
      ]
    },
    {
      "cell_type": "markdown",
      "metadata": {
        "id": "BXOJ5GkDNxea",
        "colab_type": "text"
      },
      "source": [
        "Random Forest classifier là model tốt nhất trong các model trên.\n",
        "Vậy ta chọn model Random Forest Classifier để train trên dữ liệu datasets này."
      ]
    },
    {
      "cell_type": "markdown",
      "metadata": {
        "id": "E-qz6jQyYyPa",
        "colab_type": "text"
      },
      "source": [
        "# **Thu thập dữ liệu từ 2 trang web :** \n",
        "  - HuffPost : non-sarcastic\n",
        "  - TheOnion : sarcastic"
      ]
    },
    {
      "cell_type": "markdown",
      "metadata": {
        "id": "-4fY5_C7Y1nZ",
        "colab_type": "text"
      },
      "source": [
        "####**import thư viện :**\n",
        "  - Request : gửi yêu cầu đến url\n",
        "  - urlopen : mở url\n",
        "  - BeautifulSoup : lấy headline từ các thẻ trong source của url"
      ]
    },
    {
      "cell_type": "code",
      "metadata": {
        "id": "_vKceRp-Y8X6",
        "colab_type": "code",
        "colab": {}
      },
      "source": [
        "from urllib.request import Request , urlopen \n",
        "from bs4 import BeautifulSoup"
      ],
      "execution_count": null,
      "outputs": []
    },
    {
      "cell_type": "markdown",
      "metadata": {
        "id": "Ld1Wh17dY8EQ",
        "colab_type": "text"
      },
      "source": [
        "####**Scrap dữ liệu từ trang HuffPost**\n",
        "- Ý tưởng : Scrap dữ liệu từng tab trong mục News của trang HuffPost UK\n",
        "- Thực hiện :\n",
        "  - Sử dụng vòng for để kiểm soát số tab cần scrap để tránh dữ liệu quá ít hoặc quá nhiều\n",
        "  - Sau khi tìm được url của website cần scrap thì ta sẽ gửi yêu cầu đến url đó \n",
        "  - Tiếp đến mở url vừa được yêu cầu\n",
        "  - Sử dụng BeautifullSoup để lấy source của website vừa mới được mở \n",
        "  - Một đoạn code chứa headline : **Judge Rejects White House Demand To Block John Bolton's New Book**\n",
        "\n",
        "      ```<a class=\"card__link yr-card-headline\" href=\"/entry/john-bolton-white-house-trump-book_uk_5eee269bc5b697d43e591553?utm_hp_ref=uk-news\" target=\"_self\" data-cpid=\"0d6874cb-8dbc-355e-89b3-76c1cbedf86a\" data-rapid-pos=\"2\" data-ylk=\"cpos:18;pos:2;elm:hdln;g:0d6874cb-8dbc-355e-89b3-76c1cbedf86a\" data-rapid-sec=\"{&quot;col2&quot;:&quot;col2&quot;}\" data-rapid-elm=\"hdln\" data-rapid-g=\"0d6874cb-8dbc-355e-89b3-76c1cbedf86a\" data-rapid_p=\"37\" data-v9y=\"1\">Judge Rejects White House Demand To Block John Bolton's New Book</a>```\n",
        "\n",
        "  - Sau khi lấy được source của web, ta quan sát thấy các headline của trang này nằm trong thẻ <\\a> với class_name = card__link yr-card-headline \n",
        "  - Vì thế ta dùng hàm find_all của thư viện BeautifullSoup để lấy ra tất các thẻ này\n",
        "  - Tiếp theo ta tách headline bằng hàm text \n",
        "  - Cuối cùng kiểm tra xem headline vừa mới lấy ra có nằm trong Data chưa , nếu chưa thì đẩy nó và label của dữ liệu này là 0 vào data\n",
        "- Kết quả : từ 50 tab của mục News ta lấy được 1600 headline"
      ]
    },
    {
      "cell_type": "code",
      "metadata": {
        "id": "5cW9j3X4ZIOQ",
        "colab_type": "code",
        "colab": {}
      },
      "source": [
        "# scrap data form HuffPost\n",
        "huff_data = []\n",
        "\n",
        "# sử dụng vòng lặp để load trang tiếp theo trong phần news \n",
        "for i in range(50):\n",
        "\n",
        "  # định dạng url của phần news trong trang HuffPost với i tương ứng với số trang\n",
        "  url = 'https://www.huffingtonpost.co.uk/news/'+ str(i) +'/?guccounter=2'\n",
        "\n",
        "  # gửi request HTTP 1.1 đến url với header tự chỉnh \n",
        "  req = Request(url,headers={'User-Agent': 'ScrapData/3.0'})\n",
        "\n",
        "  # mở url với thời gian chờ là 10s \n",
        "  page = urlopen(req,timeout=10)\n",
        "\n",
        "  # sử dụng BeautifulSoup để lấy source của website với định dạng văn bản html\n",
        "  soup = BeautifulSoup(page,\"html.parser\")\n",
        "\n",
        "  # sử dụng hàm find_all để tìm tất cả thẻ a có name_class : card__link yr-card-headline\n",
        "  headlines = soup.find_all('a',attrs={'class':'card__link yr-card-headline'})\n",
        "\n",
        "  # tách headline từ thẻ và gán label cho nó \n",
        "  for hl in range(len(headlines)):\n",
        "\n",
        "    # hàm text sẽ lấy ra phần text trong thẻ \n",
        "    headline = headlines[hl].text\n",
        "\n",
        "    # kiểm tra headline có tồn tại trong data chưa \n",
        "    if headline not in huff_data:\n",
        "      data = [headline,0]\n",
        "      huff_data.append(data)"
      ],
      "execution_count": null,
      "outputs": []
    },
    {
      "cell_type": "code",
      "metadata": {
        "id": "ciz2_ObVZMuh",
        "colab_type": "code",
        "colab": {
          "base_uri": "https://localhost:8080/",
          "height": 70
        },
        "outputId": "cf83e164-c453-4c2a-a573-f87bcc610264"
      },
      "source": [
        "print(huff_data[:10])\n",
        "print(len(huff_data))"
      ],
      "execution_count": null,
      "outputs": [
        {
          "output_type": "stream",
          "text": [
            "[[\"'We Don't Have Time For That' – How Jenrick's Officers Ignored Need For Affordable Housing\", 0], [\"Donald Trump Junior Desperately Tries To Spin His Dad's 'Walk Of Shame' Picture\", 0], ['Coronavirus Cost Councils The Same As Five Years Of Austerity. Now, They Could Go Bust', 0], [\"'Don't Tear The Pants Out Of It!' These Are The Absolute Best Bits From The Coronavirus Briefings\", 0], ['Coronavirus Means These People Will Be On Mental Health Waiting Lists For Nearly A Year', 0], [\"4 Years Later, Only 3 New Miles of 'Wall' And Not A Single Peso From Mexico\", 0], ['Health Leaders Say UK Must Start Preparing For Second Covid-19 Wave', 0], ['Trump Spends Rally Downplaying Coronavirus And Making Racist Jokes', 0], ['Government Announces £85m To Help Rough Sleepers Through Coronavirus Pandemic', 0], ['Black Lives Matter: The History Of Taking A Knee', 0]]\n",
            "1600\n"
          ],
          "name": "stdout"
        }
      ]
    },
    {
      "cell_type": "markdown",
      "metadata": {
        "id": "C1-uXysxZOBZ",
        "colab_type": "text"
      },
      "source": [
        "####**Scrap dữ liệu từ trang TheOnion**\n",
        "- Ý tưởng : tương tự trang HuffPost lấy dữ liệu của từng tab của mục News-in-Brief\n",
        "- Thực hiện : \n",
        "   - Khá giống với scrap dữ liệu của trang HuffPost\n",
        "   - Tuy nhiên phần url của tab mới có dạng url gốc + 1 chuỗi ứng với tab đó \n",
        "   - Code của một More-Stroies button:\n",
        "\n",
        "    ```<a class=\"sc-1out364-0 hMndXN js_link\" data-ga=\"[[&quot;Story type page click&quot;,&quot;More stories click&quot;]]\" href=\"?startTime=1592331480884\" rel=\"next\"><button class=\"j48i5d-2 fUFqcv button button--tertiary\"><div class=\"j48i5d-1 fuDdQ\"><span class=\"j48i5d-0 keLEgo\">More stories</span><span class=\"iyvn34-0 bYIjtl\"><svg xmlns=\"http://www.w3.org/2000/svg\" width=\"18\" height=\"18\" aria-label=\"ChevronRight icon\" viewBox=\"0 0 18 18\"><path fill-rule=\"evenodd\" d=\"M6.16 14.13a.5.5 0 1 0 .68.74l6-5.5a.5.5 0 0 0 0-.74l-6-5.5a.5.5 0 1 0-.68.74L11.76 9l-5.6 5.13z\"></path></svg></span></div></button></a>```\n",
        "\n",
        "   - Từ đây có thể thấy tail_url tab tiếp theo nằm trong href (?startTime=1592331480884)\n",
        "   - Ta có thể tìm thông qua thẻ a và class_name = sc-1out364-0 hMndXN js_link tuy nhiên khi quan sát source có rất nhiều thẻ với class_name như vậy\n",
        "   - Vì thế ta sẽ tìm thông qua data-ga=\"[[&quot;Story type page click&quot;,&quot;More stories click&quot;]]\"\n",
        "   -Từ đó có thể dùng hàm get('href') để lấy tail_url\n",
        "   - Kiểm tra và đẩy dữ liệu vào data với label = 1\n",
        "- Kết quả : sau khi scrap 80 tab ta cũng thu được 1600 headline "
      ]
    },
    {
      "cell_type": "code",
      "metadata": {
        "id": "t9LhaAfxZslJ",
        "colab_type": "code",
        "colab": {}
      },
      "source": [
        "# scrap dữ liệu từ trang onion\n",
        "onion_data= []\n",
        "\n",
        "# đuôi url của mỗi tab \n",
        "tail_url = ''\n",
        "\n",
        "# Sử dụng vòng lặp để scrap từng tab\n",
        "for i in range(80):\n",
        "  # url có định dạng url gốc của mục news-in-brief cộng với tail_url của mỗi tab, tab đầu tiên có đuôi trong từ tab 2 đuôi url sẽ ứng với 1 chuỗi số \n",
        "  url = 'https://www.theonion.com/c/news-in-brief' + tail_url\n",
        "\n",
        "  # gửi yêu cầu đến url\n",
        "  req = Request(url, headers={'ScrapData':'XYZ/3.0'})\n",
        "\n",
        "  # mở url\n",
        "  page = urlopen(req,timeout=10)\n",
        "\n",
        "  # lấy source của web\n",
        "  soup = BeautifulSoup(page,'html.parser')\n",
        "\n",
        "  # tìm tất cả thẻ h2 với class_name = sc-759qgu-0 cYlVdn cw4lnv-6 eXwNRE\n",
        "  headlines = soup.find_all('h2',attrs={'class':'sc-759qgu-0 cYlVdn cw4lnv-6 eXwNRE'})\n",
        "\n",
        "  # tách headline và gắn label\n",
        "  for hl in range(len(headlines)):\n",
        "\n",
        "    # tách headline \n",
        "    headline = headlines[hl].text\n",
        "\n",
        "    # kiểm tra headline có tồn tại trong data chưa \n",
        "    if headline not in onion_data:\n",
        "      data = [headline,1]\n",
        "      onion_data.append(data)\n",
        "\n",
        "  # lấy tail_url của tab tiếp theo nằm trong href của thẻ a với data-ga = [[\"Story type page click\",\"More stories click\"]]\n",
        "  # sử dụng hàm get('href') để lấy dữ liệu của href \n",
        "  tail_url = str(soup.find('a',attrs={'data-ga':'[[\"Story type page click\",\"More stories click\"]]'}).get('href'))"
      ],
      "execution_count": null,
      "outputs": []
    },
    {
      "cell_type": "code",
      "metadata": {
        "id": "HxzjzyqmZ-hx",
        "colab_type": "code",
        "colab": {
          "base_uri": "https://localhost:8080/",
          "height": 70
        },
        "outputId": "5d468f3a-fa08-4ea5-909a-2033b1695e5f"
      },
      "source": [
        "print(onion_data[:10])\n",
        "print(len(onion_data))"
      ],
      "execution_count": null,
      "outputs": [
        {
          "output_type": "stream",
          "text": [
            "[['Nancy Pelosi Calls Jamaal Bowman To Scold Him For Winning Primary', 1], ['Gamers, We Just Spent 4 Days Trapped In A Rolled-Over Minivan And We’re Genuinely Pissed That Nobody Reported Us Missing When We Didn’t Cover The ‘Ratchet & Clank’ News', 1], ['Defiant Florida Officials Announce They Will Ignore Saudi Government Lockdown By Holding Hajj To Mecca', 1], ['Employee Leaves Performance Review With Clear, Identifiable Goal Of Surrendering To The Void', 1], ['Officials Warn Defunding Police Could Lead To Spike In Crime From Ex-Officers With No Outlet For Violence', 1], ['Realtor Thinks Flourishing Neighborhood Full Of Middle-Class Latino Families Has Real Turnaround Potential', 1], ['Study Finds Gap Widening Between Rich Pets And Poor Americans', 1], ['Heavily Armed Self-Help Gurus Demand America Reopens Their Hearts', 1], ['White House Announces Entire U.S. Populace Of 6,200 Attended Trump’s Tulsa Rally', 1], ['Facebook Announces Plan To Break Up U.S. Government Before It Becomes Too Powerful', 1]]\n",
            "1600\n"
          ],
          "name": "stdout"
        }
      ]
    },
    {
      "cell_type": "markdown",
      "metadata": {
        "id": "d9XTrESbaJNi",
        "colab_type": "text"
      },
      "source": [
        "##**Ghi dữ liệu vào file CSV**\n",
        "- Mount đến drive để lấy tệp cần ghi vào\n",
        "- Dùng thư viện csv để chuyển data từ dạng list sang csv"
      ]
    },
    {
      "cell_type": "code",
      "metadata": {
        "id": "YfQcRcYqAhoI",
        "colab_type": "code",
        "colab": {
          "base_uri": "https://localhost:8080/",
          "height": 121
        },
        "outputId": "32b5be72-d2be-4727-ceda-f1002e3a2c50"
      },
      "source": [
        "from google.colab import drive\n",
        "drive.mount('/content/drive')"
      ],
      "execution_count": 28,
      "outputs": [
        {
          "output_type": "stream",
          "text": [
            "Go to this URL in a browser: https://accounts.google.com/o/oauth2/auth?client_id=947318989803-6bn6qk8qdgf4n4g3pfee6491hc0brc4i.apps.googleusercontent.com&redirect_uri=urn%3aietf%3awg%3aoauth%3a2.0%3aoob&response_type=code&scope=email%20https%3a%2f%2fwww.googleapis.com%2fauth%2fdocs.test%20https%3a%2f%2fwww.googleapis.com%2fauth%2fdrive%20https%3a%2f%2fwww.googleapis.com%2fauth%2fdrive.photos.readonly%20https%3a%2f%2fwww.googleapis.com%2fauth%2fpeopleapi.readonly\n",
            "\n",
            "Enter your authorization code:\n",
            "··········\n",
            "Mounted at /content/drive\n"
          ],
          "name": "stdout"
        }
      ]
    },
    {
      "cell_type": "code",
      "metadata": {
        "id": "P2hqirQdaM0j",
        "colab_type": "code",
        "colab": {}
      },
      "source": [
        "# impor thư viện csv\n",
        "import csv\n",
        "\n",
        "# các header của dữ liệu\n",
        "Headers = [[ \"Headline\", \"label\"]]\n",
        "\n",
        "# mở tệp Headlines_Data trong Drive với chế độ ghi\n",
        "with open('/content/drive/My Drive/Sarcasm/Headline_sarcasm.xlsx', 'w', newline='') as file:\n",
        "  # Sử dụng hàm writer để thực hiện ghi vào file   \n",
        "    writer = csv.writer(file)\n",
        "\n",
        "  # sử dụng wrirerows để ghi thành nhiều cột \n",
        "    \n",
        "\n",
        "    # ghi onion data\n",
        "    writer.writerows(onion_data)\n",
        "\n",
        "    # ghi huffpost data\n",
        "    writer.writerows(huff_data)"
      ],
      "execution_count": null,
      "outputs": []
    },
    {
      "cell_type": "code",
      "metadata": {
        "id": "iihkaSO7-0W5",
        "colab_type": "code",
        "colab": {
          "base_uri": "https://localhost:8080/",
          "height": 252
        },
        "outputId": "1fca4882-2e1f-408d-d10f-555be918a53c"
      },
      "source": [
        "import pandas as pd\n",
        "#Đọc file data đã lưu ở google driver\n",
        "dataf=pd.read_csv('/content/drive/My Drive/Sarcasm/Headline_sarcasm.xlsx',header=None)\n",
        "#Đặt tên cho 2 cột của data\n",
        "dataf.columns=['headline','is_sarcastic']\n",
        "print(dataf)"
      ],
      "execution_count": 29,
      "outputs": [
        {
          "output_type": "stream",
          "text": [
            "                                               headline  is_sarcastic\n",
            "0     Officials Warn Defunding Police Could Lead To ...             1\n",
            "1     Realtor Thinks Flourishing Neighborhood Full O...             1\n",
            "2     Study Finds Gap Widening Between Rich Pets And...             1\n",
            "3     Heavily Armed Self-Help Gurus Demand America R...             1\n",
            "4     White House Announces Entire U.S. Populace Of ...             1\n",
            "...                                                 ...           ...\n",
            "3195  I Have Zero Patience For Middle-Class Whinging...             0\n",
            "3196  Why Boris Johnson Doesn’t Want To Peak Too Soo...             0\n",
            "3197  Coronavirus Hides The Budget In Plain Sight, W...             0\n",
            "3198  Why Donald Trump’s Coronavirus Travel Ban Won’...             0\n",
            "3199    Two New Coronavirus Deaths Confirmed In England             0\n",
            "\n",
            "[3200 rows x 2 columns]\n"
          ],
          "name": "stdout"
        }
      ]
    },
    {
      "cell_type": "code",
      "metadata": {
        "id": "REQyCF0nQxqr",
        "colab_type": "code",
        "colab": {}
      },
      "source": [
        "x1=dataf[:1000]\n",
        "x2=dataf[2200:3200]\n",
        "test=pd.concat([x1,x2])"
      ],
      "execution_count": 30,
      "outputs": []
    },
    {
      "cell_type": "code",
      "metadata": {
        "id": "pvA9reOY_7g7",
        "colab_type": "code",
        "colab": {
          "base_uri": "https://localhost:8080/",
          "height": 218
        },
        "outputId": "4369988b-497c-449d-ff7a-0e3b3a4b0b1f"
      },
      "source": [
        "#Tiến hành xóa những stop_words của dữ liệu\n",
        "x1_test=test['headline'].apply(preprocess)\n",
        "x1_test"
      ],
      "execution_count": 31,
      "outputs": [
        {
          "output_type": "execute_result",
          "data": {
            "text/plain": [
              "0       offici warn defund polic could lead To spike I...\n",
              "1       realtor think flourish neighborhood full Of mi...\n",
              "2       studi find gap widen between rich pet and poor...\n",
              "3       heavili arm self help guru demand america reop...\n",
              "4       white hous announc entir U S populac Of 6 200 ...\n",
              "                              ...                        \n",
              "3195    I have zero patienc for middl class whing abou...\n",
              "3196    whi bori johnson doesn want To peak too soon O...\n",
              "3197    coronaviru hide the budget In plain sight with...\n",
              "3198      whi donald trump coronaviru travel ban won work\n",
              "3199          two new coronaviru death confirm In england\n",
              "Name: headline, Length: 2000, dtype: object"
            ]
          },
          "metadata": {
            "tags": []
          },
          "execution_count": 31
        }
      ]
    },
    {
      "cell_type": "code",
      "metadata": {
        "id": "FMZTTAS-Ai5u",
        "colab_type": "code",
        "colab": {
          "base_uri": "https://localhost:8080/",
          "height": 50
        },
        "outputId": "16c9342c-51d5-4be9-bb47-9ffc8b4be14f"
      },
      "source": [
        "#Số hóa dữ liệu: chuyển đổi ngôn ngữ tự nhiên thành thành ma trận các tính năng TF-IDF\n",
        "x1_test_tfidf = vectorizer.transform(x1_test)\n",
        "x1_test_tfidf"
      ],
      "execution_count": 32,
      "outputs": [
        {
          "output_type": "execute_result",
          "data": {
            "text/plain": [
              "<2000x17940 sparse matrix of type '<class 'numpy.float64'>'\n",
              "\twith 17795 stored elements in Compressed Sparse Row format>"
            ]
          },
          "metadata": {
            "tags": []
          },
          "execution_count": 32
        }
      ]
    },
    {
      "cell_type": "code",
      "metadata": {
        "id": "FCAi6fXwMmkb",
        "colab_type": "code",
        "colab": {
          "base_uri": "https://localhost:8080/",
          "height": 874
        },
        "outputId": "cdc115ef-d216-40ff-fbb4-3f8bbcc29c78"
      },
      "source": [
        "print(x1_test_tfidf)"
      ],
      "execution_count": 33,
      "outputs": [
        {
          "output_type": "stream",
          "text": [
            "  (0, 17318)\t0.22963730081650208\n",
            "  (0, 17136)\t0.2463139642013744\n",
            "  (0, 14952)\t0.3402858450536646\n",
            "  (0, 12174)\t0.21235456178068954\n",
            "  (0, 11394)\t0.33790208951111084\n",
            "  (0, 11196)\t0.23140246769349612\n",
            "  (0, 11193)\t0.2140104275805705\n",
            "  (0, 9095)\t0.2343588764350458\n",
            "  (0, 7934)\t0.39973106438218065\n",
            "  (0, 5528)\t0.2549935444844295\n",
            "  (0, 4294)\t0.35174153874423864\n",
            "  (0, 3878)\t0.25913049516121844\n",
            "  (0, 3743)\t0.20391272513240466\n",
            "  (1, 16441)\t0.3867553371048772\n",
            "  (1, 15956)\t0.21121324766918487\n",
            "  (1, 12934)\t0.3691270199107559\n",
            "  (1, 12926)\t0.22604015086485288\n",
            "  (1, 12296)\t0.297506251735453\n",
            "  (1, 10804)\t0.2883125005115685\n",
            "  (1, 10155)\t0.2451651434734154\n",
            "  (1, 9050)\t0.28229856589619673\n",
            "  (1, 6348)\t0.2483973903537935\n",
            "  (1, 6059)\t0.3741353509067004\n",
            "  (1, 5701)\t0.20227754718602428\n",
            "  (1, 3220)\t0.25383683837492277\n",
            "  :\t:\n",
            "  (1995, 7258)\t0.5456109331530601\n",
            "  (1995, 3220)\t0.35809759030373206\n",
            "  (1996, 17296)\t0.29409258863606996\n",
            "  (1996, 14832)\t0.41097635939291577\n",
            "  (1996, 11761)\t0.4837140615664964\n",
            "  (1996, 8482)\t0.43765537690206935\n",
            "  (1996, 2113)\t0.564877384076431\n",
            "  (1997, 14430)\t0.3393788686006577\n",
            "  (1997, 12057)\t0.3815715391814111\n",
            "  (1997, 10551)\t0.43008517572256294\n",
            "  (1997, 8724)\t0.38426336412016915\n",
            "  (1997, 7934)\t0.4513911047890015\n",
            "  (1997, 7437)\t0.3244076958106154\n",
            "  (1997, 2384)\t0.3124088188080171\n",
            "  (1998, 17676)\t0.43769097303055093\n",
            "  (1998, 16374)\t0.30302608794976077\n",
            "  (1998, 16274)\t0.531120570435188\n",
            "  (1998, 4786)\t0.4078989069276843\n",
            "  (1998, 1448)\t0.51781388889951\n",
            "  (1999, 16485)\t0.3343645440204993\n",
            "  (1999, 10856)\t0.20845223471618415\n",
            "  (1999, 7934)\t0.583890170521186\n",
            "  (1999, 5319)\t0.5189336658199436\n",
            "  (1999, 4199)\t0.308197653437834\n",
            "  (1999, 3533)\t0.373553668442194\n"
          ],
          "name": "stdout"
        }
      ]
    },
    {
      "cell_type": "code",
      "metadata": {
        "id": "eHFZmWiTMqBi",
        "colab_type": "code",
        "colab": {
          "base_uri": "https://localhost:8080/",
          "height": 34
        },
        "outputId": "2f9f1b0f-1653-4010-df91-bdf0c805dcd2"
      },
      "source": [
        "y1_test=test['is_sarcastic']\n",
        "y1_test.shape"
      ],
      "execution_count": 34,
      "outputs": [
        {
          "output_type": "execute_result",
          "data": {
            "text/plain": [
              "(2000,)"
            ]
          },
          "metadata": {
            "tags": []
          },
          "execution_count": 34
        }
      ]
    },
    {
      "cell_type": "markdown",
      "metadata": {
        "id": "waHWHvYFa5V9",
        "colab_type": "text"
      },
      "source": [
        "#**Đối chiếu performance của model trên dataset đã cho và trên 2000 headine mới**"
      ]
    },
    {
      "cell_type": "code",
      "metadata": {
        "id": "iwybbOOyMskv",
        "colab_type": "code",
        "colab": {
          "base_uri": "https://localhost:8080/",
          "height": 50
        },
        "outputId": "8665b7d0-97e2-46d1-af65-afa3dd2550cf"
      },
      "source": [
        "print(f\"Test Score : {rf_model.score(X_test, y_test)}\")\n",
        "print(f\"New Test Score : {rf_model.score(x1_test_tfidf, y1_test)}\")"
      ],
      "execution_count": 47,
      "outputs": [
        {
          "output_type": "stream",
          "text": [
            "Test Score : 0.9699981926622085\n",
            "New Test Score : 0.73\n"
          ],
          "name": "stdout"
        }
      ]
    },
    {
      "cell_type": "code",
      "metadata": {
        "id": "O7vcc-IK78BO",
        "colab_type": "code",
        "colab": {
          "base_uri": "https://localhost:8080/",
          "height": 298
        },
        "outputId": "7d26ef82-903a-4495-d972-76baa11b2ee9"
      },
      "source": [
        "pred =rf.predict(x1_test_tfidf)\n",
        "cm=metrics.confusion_matrix(y1_test,pred)\n",
        "cm = pd.DataFrame(cm, index = [\"Fake\", \"True\"], columns=[\"Fake\", \"True\"])\n",
        "sns.heatmap(cm, annot = True)\n",
        "plt.title(\"Confusion Matrix for Voting Classifier\")"
      ],
      "execution_count": 48,
      "outputs": [
        {
          "output_type": "execute_result",
          "data": {
            "text/plain": [
              "Text(0.5, 1.0, 'Confusion Matrix for Voting Classifier')"
            ]
          },
          "metadata": {
            "tags": []
          },
          "execution_count": 48
        },
        {
          "output_type": "display_data",
          "data": {
            "image/png": "[encoded data removed]",
            "text/plain": [
              "<Figure size 432x288 with 2 Axes>"
            ]
          },
          "metadata": {
            "tags": [],
            "needs_background": "light"
          }
        }
      ]
    },
    {
      "cell_type": "markdown",
      "metadata": {
        "id": "vp3Ll0_-bOCi",
        "colab_type": "text"
      },
      "source": [
        "###Nhận xét: performance test trên 2000 headlines tự cào thấp hơn nhiều đối với test_set trên datasets có sẵn: 73% ~ 96%"
      ]
    },
    {
      "cell_type": "markdown",
      "metadata": {
        "id": "RwvRFbDf2LWD",
        "colab_type": "text"
      },
      "source": [
        "### Theo nhóm nghĩ: lí do khiến performance trên 2000 headlines mới thấp hơn\n",
        "\n",
        "\n",
        "*   Có thể xuất hiện nhiều từ mới mà trong dataset không có vì dataset trên kaggle do người ta thu thập lâu rồi còn mình thu thập dữ liệu là gần đây\n",
        "\n",
        "\n"
      ]
    },
    {
      "cell_type": "markdown",
      "metadata": {
        "id": "0x13G4pjbAoi",
        "colab_type": "text"
      },
      "source": [
        "#**Viết ứng dụng**"
      ]
    },
    {
      "cell_type": "markdown",
      "metadata": {
        "id": "v0LbmqJ2lwWI",
        "colab_type": "text"
      },
      "source": [
        "- Yêu cầu người dùng nhập headline cần kiểm tra vào \n",
        "- Chuyển headline từ dạng string sang list để dùng thư viện pandas tạo thành dataframe\n",
        "- Tiền xử lí dữ liệu cho headline giống như data được train\n",
        "- Dùng model của mình để predict headline \n",
        "\t- predict = 1 thì headline có tính chấm biếm\n",
        "\t- predict = 0 thì headline không có tính châm biếm"
      ]
    },
    {
      "cell_type": "code",
      "metadata": {
        "id": "FYgOIxHceuZz",
        "colab_type": "code",
        "colab": {
          "base_uri": "https://localhost:8080/",
          "height": 67
        },
        "outputId": "9b61dd55-55e1-4792-877b-d7c89304c8be"
      },
      "source": [
        "print('Nhập vào headline cần kiểm tra!!!')\n",
        "\n",
        "# Nhập vào headline\n",
        "Headline_str = input()\n",
        "\n",
        "# Chuyển headline thành dạng dataframe\n",
        "Headline_list = [Headline_str]\n",
        "df_app = pd.DataFrame(Headline_list)\n",
        "\n",
        "# Tiền xử lí headline\n",
        "Test_app = df_app[0].apply(preprocess)\n",
        "Test_app_tfidf = vectorizer.transform(Test_app)\n",
        "\n",
        "# Predict healine\n",
        "result_app = rf_model.predict(Test_app_tfidf)\n",
        "\n",
        "# Kết quả \n",
        "if result_app:\n",
        "  print(\"Sarcastic\")\n",
        "else:\n",
        "  print(\"None-Sarcastic\")"
      ],
      "execution_count": 49,
      "outputs": [
        {
          "output_type": "stream",
          "text": [
            "Nhập vào headline cần kiểm tra!!!\n",
            "Medical Staff Share Cheerful Videos During Coronavirus\n",
            "None-Sarcastic\n"
          ],
          "name": "stdout"
        }
      ]
    },
    {
      "cell_type": "markdown",
      "metadata": {
        "id": "2pIKpmCPnYuQ",
        "colab_type": "text"
      },
      "source": [
        "#**Tham khảo**\n",
        "- Dataset : https://www.kaggle.com/rmisra/news-headlines-dataset-for-sarcasm-detection\n",
        "- Code : https://www.kaggle.com/ebshirani/tf-idf-random-forest-nb-logistic-reg-and-lstms"
      ]
    }
  ]
}