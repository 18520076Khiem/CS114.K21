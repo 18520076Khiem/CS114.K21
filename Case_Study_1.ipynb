{
  "nbformat": 4,
  "nbformat_minor": 0,
  "metadata": {
    "colab": {
      "name": "Copie de Untitled25.ipynb",
      "provenance": [],
      "collapsed_sections": [
        "BwtOf9ORjMjU"
      ],
      "toc_visible": true,
      "include_colab_link": true
    },
    "kernelspec": {
      "name": "python3",
      "display_name": "Python 3"
    }
  },
  "cells": [
    {
      "cell_type": "markdown",
      "metadata": {
        "id": "view-in-github",
        "colab_type": "text"
      },
      "source": [
        "<a href=\"https://colab.research.google.com/github/18520076Khiem/CS114.K21/blob/master/Case_Study_1.ipynb\" target=\"_parent\"><img src=\"https://colab.research.google.com/assets/colab-badge.svg\" alt=\"Open In Colab\"/></a>"
      ]
    },
    {
      "cell_type": "markdown",
      "metadata": {
        "id": "eC9j5CxoNIW_",
        "colab_type": "text"
      },
      "source": [
        "#**Danh sách thành viên**\n",
        "- 18521404 Lê Đại Thành\n",
        "- 18520076 Trần Đỗ Quốc Khiêm\n",
        "- 18521394 Nguyễn Hoàng Thắng\n"
      ]
    },
    {
      "cell_type": "markdown",
      "metadata": {
        "id": "kCD3LFmoNXtd",
        "colab_type": "text"
      },
      "source": [
        "#**Mô tả bài toán**\n",
        "-Giới thiệu bài toán: Hiện nay số lượng thông tin rất nhiều.Vấn nạn về việc lựa chọn tin tức chính xác để đọc là một vấn đề rất nan giải. Cho nên việc phân biệt đâu là thông tin chính thống đâu là thông tin châm biếm để không bị nhầm lẫn thật sự cần thiết. Do đó ý tưởng để cho máy tính có thể phân biệt đâu là thông tin chính xác có thể hữu dụng.\n",
        "\n",
        "- Phát biểu bài toán: Dự đoán bài báo có phải thông tin chính thống hay là thông tin có tính chất mỉa mai châm biếm dựa vào tiêu đề của bài báo\n",
        "\n",
        "- Thu thập dữ liệu data: Dựa trên hai trang web tin tức đó là:\n",
        "    - TheOnion chuyên về những tin tức có tính châm biến không chính thống\n",
        "    - HuffPost chuyên về những tin tức chính thống \n",
        "    - Nội dung dữ liệu bao gồm ba thuộc tính:\n",
        "      - is_sarcastic:\n",
        "        - 1 nếu dữ liệu là tin có tính châm biếm mỉa mai\n",
        "        - 0 nếu dữ liệu là tin chính thống\n",
        "      - headline: là tiêu đề của những bài báo\n",
        "      - article_link: liên kết đến bài báo đó\n",
        "- Input: Tiêu đề của bài báo.\n",
        "\n",
        "- Output: Bài báo có tính châm biếm hay không"
      ]
    },
    {
      "cell_type": "markdown",
      "metadata": {
        "id": "HdXWtrSePPzb",
        "colab_type": "text"
      },
      "source": [
        "#**Lấy datasets trên Kaggle**\n"
      ]
    },
    {
      "cell_type": "markdown",
      "metadata": {
        "id": "gCBSyKq8jErA",
        "colab_type": "text"
      },
      "source": [
        "###Lấy và giải nén file data từ kaggle"
      ]
    },
    {
      "cell_type": "code",
      "metadata": {
        "id": "aLbKOx8s15b1",
        "colab_type": "code",
        "colab": {
          "resources": {
            "http://localhost:8080/nbextensions/google.colab/files.js": {
              "data": "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",
              "ok": true,
              "headers": [
                [
                  "content-type",
                  "application/javascript"
                ]
              ],
              "status": 200,
              "status_text": ""
            }
          },
          "base_uri": "https://localhost:8080/",
          "height": 91
        },
        "outputId": "05ccee85-c8c7-46ef-e81a-5026598d055f"
      },
      "source": [
        "from google.colab import files\n",
        "files.upload()"
      ],
      "execution_count": 21,
      "outputs": [
        {
          "output_type": "display_data",
          "data": {
            "text/html": [
              "\n",
              "     <input type=\"file\" id=\"files-559b8a99-5c1d-4dfd-8ac4-e0b8f6541390\" name=\"files[]\" multiple disabled\n",
              "        style=\"border:none\" />\n",
              "     <output id=\"result-559b8a99-5c1d-4dfd-8ac4-e0b8f6541390\">\n",
              "      Upload widget is only available when the cell has been executed in the\n",
              "      current browser session. Please rerun this cell to enable.\n",
              "      </output>\n",
              "      <script src=\"/nbextensions/google.colab/files.js\"></script> "
            ],
            "text/plain": [
              "<IPython.core.display.HTML object>"
            ]
          },
          "metadata": {
            "tags": []
          }
        },
        {
          "output_type": "stream",
          "text": [
            "Saving kaggle.json to kaggle.json\n"
          ],
          "name": "stdout"
        },
        {
          "output_type": "execute_result",
          "data": {
            "text/plain": [
              "{'kaggle.json': b'{\"username\":\"trandoquockhiem\",\"key\":\"94f23ee7b4ed300f910aada801fc5b46\"}'}"
            ]
          },
          "metadata": {
            "tags": []
          },
          "execution_count": 21
        }
      ]
    },
    {
      "cell_type": "code",
      "metadata": {
        "id": "9YDdh8Lz16Qu",
        "colab_type": "code",
        "colab": {
          "base_uri": "https://localhost:8080/",
          "height": 217
        },
        "outputId": "ef03e22a-7589-484e-9c18-bf74cc7a2795"
      },
      "source": [
        "!pip install kaggle"
      ],
      "execution_count": 22,
      "outputs": [
        {
          "output_type": "stream",
          "text": [
            "Requirement already satisfied: kaggle in /usr/local/lib/python3.6/dist-packages (1.5.6)\n",
            "Requirement already satisfied: urllib3<1.25,>=1.21.1 in /usr/local/lib/python3.6/dist-packages (from kaggle) (1.24.3)\n",
            "Requirement already satisfied: python-dateutil in /usr/local/lib/python3.6/dist-packages (from kaggle) (2.8.1)\n",
            "Requirement already satisfied: python-slugify in /usr/local/lib/python3.6/dist-packages (from kaggle) (4.0.0)\n",
            "Requirement already satisfied: six>=1.10 in /usr/local/lib/python3.6/dist-packages (from kaggle) (1.12.0)\n",
            "Requirement already satisfied: certifi in /usr/local/lib/python3.6/dist-packages (from kaggle) (2020.4.5.2)\n",
            "Requirement already satisfied: tqdm in /usr/local/lib/python3.6/dist-packages (from kaggle) (4.41.1)\n",
            "Requirement already satisfied: requests in /usr/local/lib/python3.6/dist-packages (from kaggle) (2.23.0)\n",
            "Requirement already satisfied: text-unidecode>=1.3 in /usr/local/lib/python3.6/dist-packages (from python-slugify->kaggle) (1.3)\n",
            "Requirement already satisfied: chardet<4,>=3.0.2 in /usr/local/lib/python3.6/dist-packages (from requests->kaggle) (3.0.4)\n",
            "Requirement already satisfied: idna<3,>=2.5 in /usr/local/lib/python3.6/dist-packages (from requests->kaggle) (2.9)\n"
          ],
          "name": "stdout"
        }
      ]
    },
    {
      "cell_type": "code",
      "metadata": {
        "id": "kbVSNUVJ2AKa",
        "colab_type": "code",
        "colab": {}
      },
      "source": [
        "!mkdir -p ~/.kaggle\n",
        "!cp kaggle.json ~/.kaggle/\n",
        "!chmod 600 ~/.kaggle/kaggle.json"
      ],
      "execution_count": 23,
      "outputs": []
    },
    {
      "cell_type": "code",
      "metadata": {
        "id": "BnehCkHJ2Dr2",
        "colab_type": "code",
        "colab": {
          "base_uri": "https://localhost:8080/",
          "height": 435
        },
        "outputId": "28089307-faa0-4f14-e752-e700db41a14a"
      },
      "source": [
        "!kaggle datasets list -s headlines"
      ],
      "execution_count": 24,
      "outputs": [
        {
          "output_type": "stream",
          "text": [
            "Warning: Looks like you're using an outdated API Version, please consider updating (server 1.5.6 / client 1.5.4)\n",
            "ref                                                  title                                          size  lastUpdated          downloadCount  \n",
            "---------------------------------------------------  --------------------------------------------  -----  -------------------  -------------  \n",
            "therohk/million-headlines                            A Million News Headlines                       20MB  2020-04-27 13:07:30          20133  \n",
            "rmisra/news-headlines-dataset-for-sarcasm-detection  News Headlines Dataset For Sarcasm Detection    3MB  2019-07-03 23:52:57          15549  \n",
            "therohk/india-headlines-news-dataset                 India Headlines News Dataset                   68MB  2019-04-12 02:46:04           3892  \n",
            "aaron7sun/stocknews                                  Daily News for Stock Market Prediction          6MB  2019-11-13 18:22:52          31160  \n",
            "rmisra/news-category-dataset                         News Category Dataset                          25MB  2018-12-02 04:09:45          13209  \n",
            "adnanzaidi/urdu-news-headlines                       Urdu / Hindi News Headlines                    64KB  2019-08-06 15:03:48            124  \n",
            "uciml/news-aggregator-dataset                        News Aggregator Dataset                        28MB  2016-10-31 22:22:55           9502  \n",
            "chrisfilo/onion-or-not                               Onion Or Not                                  887KB  2020-02-26 02:34:12            376  \n",
            "therohk/ireland-historical-news                      Irish Times - Waxy-Wany News                   49MB  2020-03-11 19:42:17           2692  \n",
            "marlesson/news-of-the-site-folhauol                  News of the Brazilian Newspaper               187MB  2019-06-05 03:33:51           1372  \n",
            "antmarakis/fake-news-data                            Fake News Data                                125MB  2019-07-27 12:11:57            697  \n",
            "ibadia/dawn-news-headlines                           Dawn News Headlines                           787KB  2020-03-04 20:18:14             91  \n",
            "ankurzing/sentiment-analysis-for-financial-news      Sentiment Analysis for Financial News         903KB  2020-05-27 18:38:15            934  \n",
            "sunnysai12345/news-summary                           NEWS SUMMARY                                   20MB  2019-11-13 06:29:30           4037  \n",
            "rmisra/clothing-fit-dataset-for-size-recommendation  Clothing Fit Dataset for Size Recommendation   40MB  2018-08-21 19:00:16           3110  \n",
            "therohk/examine-the-examiner                         The Examiner - Spam Clickbait Catalog         142MB  2020-06-14 10:40:21           1390  \n",
            "blogdish/election-news-headlines                     Election News Headlines                        18KB  2017-11-17 19:09:39             66  \n",
            "hkapoor/covid19-india-news-headlines-for-nlp         COVID-19 Indian News Headlines                851KB  2020-05-04 06:42:13             21  \n",
            "rmisra/imdb-spoiler-dataset                          IMDB Spoiler Dataset                          331MB  2019-05-22 04:44:43            877  \n",
            "snapcrack/all-the-news                               All the news                                  244MB  2017-08-20 05:58:47          16235  \n"
          ],
          "name": "stdout"
        }
      ]
    },
    {
      "cell_type": "code",
      "metadata": {
        "id": "I8iIrJWa2GWx",
        "colab_type": "code",
        "colab": {
          "base_uri": "https://localhost:8080/",
          "height": 72
        },
        "outputId": "958c411b-0164-42c7-da06-294e95fa3e35"
      },
      "source": [
        "!kaggle datasets download -d rmisra/news-headlines-dataset-for-sarcasm-detection"
      ],
      "execution_count": 25,
      "outputs": [
        {
          "output_type": "stream",
          "text": [
            "Downloading news-headlines-dataset-for-sarcasm-detection.zip to /content\n",
            "\r  0% 0.00/3.30M [00:00<?, ?B/s]\n",
            "\r100% 3.30M/3.30M [00:00<00:00, 111MB/s]\n"
          ],
          "name": "stdout"
        }
      ]
    },
    {
      "cell_type": "code",
      "metadata": {
        "id": "K-JqApF92JN4",
        "colab_type": "code",
        "colab": {
          "base_uri": "https://localhost:8080/",
          "height": 72
        },
        "outputId": "917d1df6-b08a-4418-abe4-6701a41a6053"
      },
      "source": [
        "!unzip news-headlines-dataset-for-sarcasm-detection.zip"
      ],
      "execution_count": 26,
      "outputs": [
        {
          "output_type": "stream",
          "text": [
            "Archive:  news-headlines-dataset-for-sarcasm-detection.zip\n",
            "  inflating: Sarcasm_Headlines_Dataset.json  \n",
            "  inflating: Sarcasm_Headlines_Dataset_v2.json  \n"
          ],
          "name": "stdout"
        }
      ]
    },
    {
      "cell_type": "code",
      "metadata": {
        "id": "SbVr9lPX2MiK",
        "colab_type": "code",
        "colab": {
          "base_uri": "https://localhost:8080/",
          "height": 145
        },
        "outputId": "44831684-ddf4-4c8a-cb12-f032ff86a6a8"
      },
      "source": [
        "ls"
      ],
      "execution_count": 27,
      "outputs": [
        {
          "output_type": "stream",
          "text": [
            "\u001b[0m\u001b[01;34mdrive\u001b[0m/\n",
            "Headline_sarcasm.xlsx\n",
            "kaggle.json\n",
            "news-headlines-dataset-for-sarcasm-detection.zip\n",
            "\u001b[01;34msample_data\u001b[0m/\n",
            "Sarcasm_Headlines_Dataset.json\n",
            "Sarcasm_Headlines_Dataset_v2.json\n"
          ],
          "name": "stdout"
        }
      ]
    },
    {
      "cell_type": "markdown",
      "metadata": {
        "id": "BwtOf9ORjMjU",
        "colab_type": "text"
      },
      "source": [
        "###Dùng thư viện pandas để đọc dữ liệu"
      ]
    },
    {
      "cell_type": "code",
      "metadata": {
        "id": "B4OtNVSO2Qu5",
        "colab_type": "code",
        "colab": {}
      },
      "source": [
        "import pandas as pd\n",
        "# đọc file data \n",
        "df1=pd.read_json('Sarcasm_Headlines_Dataset.json',lines=True)\n",
        "df2=pd.read_json('Sarcasm_Headlines_Dataset_v2.json',lines=True)"
      ],
      "execution_count": 28,
      "outputs": []
    },
    {
      "cell_type": "code",
      "metadata": {
        "id": "i2Zu7QR_2TbB",
        "colab_type": "code",
        "colab": {
          "base_uri": "https://localhost:8080/",
          "height": 198
        },
        "outputId": "c3ac56e6-43eb-4bc5-8afe-9545294d6fa0"
      },
      "source": [
        "# tạo dataset bằng việc nối 2 file dữ liệu đã được đọc \n",
        "df=pd.concat([df1,df2],axis=0,sort=False)\n",
        "df.head()"
      ],
      "execution_count": 29,
      "outputs": [
        {
          "output_type": "execute_result",
          "data": {
            "text/html": [
              "<div>\n",
              "<style scoped>\n",
              "    .dataframe tbody tr th:only-of-type {\n",
              "        vertical-align: middle;\n",
              "    }\n",
              "\n",
              "    .dataframe tbody tr th {\n",
              "        vertical-align: top;\n",
              "    }\n",
              "\n",
              "    .dataframe thead th {\n",
              "        text-align: right;\n",
              "    }\n",
              "</style>\n",
              "<table border=\"1\" class=\"dataframe\">\n",
              "  <thead>\n",
              "    <tr style=\"text-align: right;\">\n",
              "      <th></th>\n",
              "      <th>article_link</th>\n",
              "      <th>headline</th>\n",
              "      <th>is_sarcastic</th>\n",
              "    </tr>\n",
              "  </thead>\n",
              "  <tbody>\n",
              "    <tr>\n",
              "      <th>0</th>\n",
              "      <td>https://www.huffingtonpost.com/entry/versace-b...</td>\n",
              "      <td>former versace store clerk sues over secret 'b...</td>\n",
              "      <td>0</td>\n",
              "    </tr>\n",
              "    <tr>\n",
              "      <th>1</th>\n",
              "      <td>https://www.huffingtonpost.com/entry/roseanne-...</td>\n",
              "      <td>the 'roseanne' revival catches up to our thorn...</td>\n",
              "      <td>0</td>\n",
              "    </tr>\n",
              "    <tr>\n",
              "      <th>2</th>\n",
              "      <td>https://local.theonion.com/mom-starting-to-fea...</td>\n",
              "      <td>mom starting to fear son's web series closest ...</td>\n",
              "      <td>1</td>\n",
              "    </tr>\n",
              "    <tr>\n",
              "      <th>3</th>\n",
              "      <td>https://politics.theonion.com/boehner-just-wan...</td>\n",
              "      <td>boehner just wants wife to listen, not come up...</td>\n",
              "      <td>1</td>\n",
              "    </tr>\n",
              "    <tr>\n",
              "      <th>4</th>\n",
              "      <td>https://www.huffingtonpost.com/entry/jk-rowlin...</td>\n",
              "      <td>j.k. rowling wishes snape happy birthday in th...</td>\n",
              "      <td>0</td>\n",
              "    </tr>\n",
              "  </tbody>\n",
              "</table>\n",
              "</div>"
            ],
            "text/plain": [
              "                                        article_link  ... is_sarcastic\n",
              "0  https://www.huffingtonpost.com/entry/versace-b...  ...            0\n",
              "1  https://www.huffingtonpost.com/entry/roseanne-...  ...            0\n",
              "2  https://local.theonion.com/mom-starting-to-fea...  ...            1\n",
              "3  https://politics.theonion.com/boehner-just-wan...  ...            1\n",
              "4  https://www.huffingtonpost.com/entry/jk-rowlin...  ...            0\n",
              "\n",
              "[5 rows x 3 columns]"
            ]
          },
          "metadata": {
            "tags": []
          },
          "execution_count": 29
        }
      ]
    },
    {
      "cell_type": "markdown",
      "metadata": {
        "id": "v00Wak24iCxu",
        "colab_type": "text"
      },
      "source": [
        "## Xóa những headlines trùng ở dataf"
      ]
    },
    {
      "cell_type": "code",
      "metadata": {
        "id": "B3hnT-lQfo-r",
        "colab_type": "code",
        "colab": {
          "base_uri": "https://localhost:8080/",
          "height": 407
        },
        "outputId": "35a27b0b-2661-4658-e905-ae1e78a625b4"
      },
      "source": [
        "df=df.drop_duplicates(['headline'])\n",
        "df"
      ],
      "execution_count": 30,
      "outputs": [
        {
          "output_type": "execute_result",
          "data": {
            "text/html": [
              "<div>\n",
              "<style scoped>\n",
              "    .dataframe tbody tr th:only-of-type {\n",
              "        vertical-align: middle;\n",
              "    }\n",
              "\n",
              "    .dataframe tbody tr th {\n",
              "        vertical-align: top;\n",
              "    }\n",
              "\n",
              "    .dataframe thead th {\n",
              "        text-align: right;\n",
              "    }\n",
              "</style>\n",
              "<table border=\"1\" class=\"dataframe\">\n",
              "  <thead>\n",
              "    <tr style=\"text-align: right;\">\n",
              "      <th></th>\n",
              "      <th>article_link</th>\n",
              "      <th>headline</th>\n",
              "      <th>is_sarcastic</th>\n",
              "    </tr>\n",
              "  </thead>\n",
              "  <tbody>\n",
              "    <tr>\n",
              "      <th>0</th>\n",
              "      <td>https://www.huffingtonpost.com/entry/versace-b...</td>\n",
              "      <td>former versace store clerk sues over secret 'b...</td>\n",
              "      <td>0</td>\n",
              "    </tr>\n",
              "    <tr>\n",
              "      <th>1</th>\n",
              "      <td>https://www.huffingtonpost.com/entry/roseanne-...</td>\n",
              "      <td>the 'roseanne' revival catches up to our thorn...</td>\n",
              "      <td>0</td>\n",
              "    </tr>\n",
              "    <tr>\n",
              "      <th>2</th>\n",
              "      <td>https://local.theonion.com/mom-starting-to-fea...</td>\n",
              "      <td>mom starting to fear son's web series closest ...</td>\n",
              "      <td>1</td>\n",
              "    </tr>\n",
              "    <tr>\n",
              "      <th>3</th>\n",
              "      <td>https://politics.theonion.com/boehner-just-wan...</td>\n",
              "      <td>boehner just wants wife to listen, not come up...</td>\n",
              "      <td>1</td>\n",
              "    </tr>\n",
              "    <tr>\n",
              "      <th>4</th>\n",
              "      <td>https://www.huffingtonpost.com/entry/jk-rowlin...</td>\n",
              "      <td>j.k. rowling wishes snape happy birthday in th...</td>\n",
              "      <td>0</td>\n",
              "    </tr>\n",
              "    <tr>\n",
              "      <th>...</th>\n",
              "      <td>...</td>\n",
              "      <td>...</td>\n",
              "      <td>...</td>\n",
              "    </tr>\n",
              "    <tr>\n",
              "      <th>28497</th>\n",
              "      <td>https://www.theonion.com/tyson-holds-contest-t...</td>\n",
              "      <td>tyson holds contest to let fans submit new ide...</td>\n",
              "      <td>1</td>\n",
              "    </tr>\n",
              "    <tr>\n",
              "      <th>28509</th>\n",
              "      <td>https://politics.theonion.com/increasingly-coc...</td>\n",
              "      <td>increasingly cocky bernie sanders announces he...</td>\n",
              "      <td>1</td>\n",
              "    </tr>\n",
              "    <tr>\n",
              "      <th>28520</th>\n",
              "      <td>https://www.theonion.com/cash-strapped-zuckerb...</td>\n",
              "      <td>cash-strapped zuckerberg forced to sell 11 mil...</td>\n",
              "      <td>1</td>\n",
              "    </tr>\n",
              "    <tr>\n",
              "      <th>28544</th>\n",
              "      <td>https://local.theonion.com/grocery-store-bar-a...</td>\n",
              "      <td>grocery store bar actually has great little ha...</td>\n",
              "      <td>1</td>\n",
              "    </tr>\n",
              "    <tr>\n",
              "      <th>28589</th>\n",
              "      <td>https://www.theonion.com/study-83-of-marathon-...</td>\n",
              "      <td>study: 83% of marathon spectators only attend ...</td>\n",
              "      <td>1</td>\n",
              "    </tr>\n",
              "  </tbody>\n",
              "</table>\n",
              "<p>28503 rows × 3 columns</p>\n",
              "</div>"
            ],
            "text/plain": [
              "                                            article_link  ... is_sarcastic\n",
              "0      https://www.huffingtonpost.com/entry/versace-b...  ...            0\n",
              "1      https://www.huffingtonpost.com/entry/roseanne-...  ...            0\n",
              "2      https://local.theonion.com/mom-starting-to-fea...  ...            1\n",
              "3      https://politics.theonion.com/boehner-just-wan...  ...            1\n",
              "4      https://www.huffingtonpost.com/entry/jk-rowlin...  ...            0\n",
              "...                                                  ...  ...          ...\n",
              "28497  https://www.theonion.com/tyson-holds-contest-t...  ...            1\n",
              "28509  https://politics.theonion.com/increasingly-coc...  ...            1\n",
              "28520  https://www.theonion.com/cash-strapped-zuckerb...  ...            1\n",
              "28544  https://local.theonion.com/grocery-store-bar-a...  ...            1\n",
              "28589  https://www.theonion.com/study-83-of-marathon-...  ...            1\n",
              "\n",
              "[28503 rows x 3 columns]"
            ]
          },
          "metadata": {
            "tags": []
          },
          "execution_count": 30
        }
      ]
    },
    {
      "cell_type": "markdown",
      "metadata": {
        "id": "C_I4AN-zPV-L",
        "colab_type": "text"
      },
      "source": [
        "##Lấy dữ liệu cột Headline và cột Is_sarcastic"
      ]
    },
    {
      "cell_type": "code",
      "metadata": {
        "id": "bBN5fZgZ2Xxp",
        "colab_type": "code",
        "colab": {}
      },
      "source": [
        "X=df['headline']\n",
        "y=df['is_sarcastic']"
      ],
      "execution_count": 31,
      "outputs": []
    },
    {
      "cell_type": "markdown",
      "metadata": {
        "id": "umaP7VZpPgXR",
        "colab_type": "text"
      },
      "source": [
        "#**Biểu đồ thống kê số tiêu đề là châm biếm và không châm biếm**"
      ]
    },
    {
      "cell_type": "code",
      "metadata": {
        "id": "gT2bYAiK9Eyp",
        "colab_type": "code",
        "colab": {
          "base_uri": "https://localhost:8080/",
          "height": 371
        },
        "outputId": "6c6ffe94-cfa9-4151-e229-42c4d911f13f"
      },
      "source": [
        "import matplotlib.pyplot as plt\n",
        "import seaborn as sns\n",
        "sns.countplot(x = \"is_sarcastic\", data = df)\n",
        "plt.title(\"Data Distribution\")"
      ],
      "execution_count": 32,
      "outputs": [
        {
          "output_type": "stream",
          "text": [
            "/usr/local/lib/python3.6/dist-packages/statsmodels/tools/_testing.py:19: FutureWarning: pandas.util.testing is deprecated. Use the functions in the public API at pandas.testing instead.\n",
            "  import pandas.util.testing as tm\n"
          ],
          "name": "stderr"
        },
        {
          "output_type": "execute_result",
          "data": {
            "text/plain": [
              "Text(0.5, 1.0, 'Data Distribution')"
            ]
          },
          "metadata": {
            "tags": []
          },
          "execution_count": 32
        },
        {
          "output_type": "display_data",
          "data": {
            "image/png": "[encoded data removed]",
            "text/plain": [
              "<Figure size 432x288 with 1 Axes>"
            ]
          },
          "metadata": {
            "tags": [],
            "needs_background": "light"
          }
        }
      ]
    },
    {
      "cell_type": "markdown",
      "metadata": {
        "id": "dssguF_rPkAI",
        "colab_type": "text"
      },
      "source": [
        "#**Tiền xử lí dữ liệu**"
      ]
    },
    {
      "cell_type": "markdown",
      "metadata": {
        "id": "W-sf5_A3WD6W",
        "colab_type": "text"
      },
      "source": [
        "- Ta sẽ sử dụng thư viện nltk để hỗ trợ việc xử lí dữ liệu dạng text \n",
        "  - Thư viện Natural Language Toolkit (tạm dịch là Bộ công cụ Ngôn ngữ Tự nhiên, viết tắt NLTK) là một nền tảng dẫn đầu để xây dựng các chương trình Python làm việc với dữ liệu ngôn ngữ của con người. Thư viện cung cấp giao diện dễ sử dụng với hơn 50 tài nguyên từ vựng và ngữ liệu (corpora), điển hình là WordNet cùng với các thư viện thích hợp để xử lý bài toán phân loại, token hóa (tokenization), tìm từ gốc (stemming),… Thư viện NLTK còn là công cụ tuyệt vời để giảng dạy và giải quyết các bài toán về tính toán ngôn ngữ sử dụng Python.\n",
        "\n",
        "- Trước hết ta sẽ tách các headline thành các token(từng chữ) bằng hàm RegexpTokenizer\n",
        "- Sau đó ta sẽ tìm kiếm các stopwords và loại bỏ chúng\n",
        "  - Stopword là gì? \n",
        "    - Stopword là những từ trong câu khi mất đi không gây ảnh hưởng đến nghĩa của câu.\n",
        "    - Những stopword này đã được thống kê trong corpus của thư viện nltk.\n",
        "- Tiếp đến sử dụng hàm PorterStemmer để đưa các token về dạng chuẩn của từ đó \n",
        "- Sau khi tiến hành xong các bước trên ta sẽ dùng thư viện TfidfVectorizer của sklearn để chuyển các token thành các ma trận TF-IDF và sử dụng hàm fit_transforms để tính tần suất xuất hiện của token này trong câu\n",
        "  - tf–idf(term frequency – inverse document frequence) của một từ ,là một con số thu được qua thống kê thể hiện mức độ quan trọng của từ này trong một văn bản, mà bản thân văn bản đang xét nằm trong một tập hợp các văn bản.\n",
        "- Cuối cùng tiến hành chia dữ liệu thành 2 phần train và test để tránh model bị overfitting"
      ]
    },
    {
      "cell_type": "code",
      "metadata": {
        "id": "Vv_xxf34-N0R",
        "colab_type": "code",
        "colab": {
          "base_uri": "https://localhost:8080/",
          "height": 72
        },
        "outputId": "4bd7d3c6-0676-4185-b409-843ce886ca5e"
      },
      "source": [
        "# import thư viện nltk và tiến hành download các stopword từ corpus\n",
        "import nltk\n",
        "nltk.download('stopwords')"
      ],
      "execution_count": 33,
      "outputs": [
        {
          "output_type": "stream",
          "text": [
            "[nltk_data] Downloading package stopwords to /root/nltk_data...\n",
            "[nltk_data]   Unzipping corpora/stopwords.zip.\n"
          ],
          "name": "stdout"
        },
        {
          "output_type": "execute_result",
          "data": {
            "text/plain": [
              "True"
            ]
          },
          "metadata": {
            "tags": []
          },
          "execution_count": 33
        }
      ]
    },
    {
      "cell_type": "markdown",
      "metadata": {
        "id": "AaqVOPdWQBuZ",
        "colab_type": "text"
      },
      "source": [
        "## Hàm xóa stopwords ra khỏi data:\n"
      ]
    },
    {
      "cell_type": "code",
      "metadata": {
        "id": "xLlvawJc-SR6",
        "colab_type": "code",
        "colab": {}
      },
      "source": [
        "\n",
        "from nltk.tokenize import RegexpTokenizer\n",
        "from nltk.corpus import stopwords\n",
        "from nltk.stem import PorterStemmer \n",
        "# hàm xóa stopwords\n",
        "\n",
        "# lấy các stopwords của tiếng anh từ thư viện \n",
        "stop_words =set(stopwords.words(\"english\"))\n",
        "\n",
        "# sử dụng hàm PorterStemmer của thư viện nltk để đưa các từ về dạng chuẩn.\n",
        "  # ví dụ như walk , walked , walking đều chuẩn hóa về thành walk.\n",
        "stemmer = PorterStemmer()\n",
        "\n",
        "# dùng RegexpTokenizer để chia các headline thành các token\n",
        "tokenizer = RegexpTokenizer(r'\\w+')\n",
        "\n",
        "#Hàm xóa stopwords \n",
        "def preprocess(text):\n",
        "  word_list = []\n",
        "\n",
        "  # tách thành các token của headline \n",
        "  tok = tokenizer.tokenize(text)\n",
        "\n",
        "  # tìm xem trong các token này có từ nào là stopword không nếu phải loại bỏ , nếu không đưa chúng về dạng chuẩn\n",
        "  for word in tok:\n",
        "    if word not in stop_words:\n",
        "      word_list.append(stemmer.stem(word))\n",
        "\n",
        "  return \" \".join(word_list)"
      ],
      "execution_count": 34,
      "outputs": []
    },
    {
      "cell_type": "markdown",
      "metadata": {
        "id": "l8xL0UusQK8I",
        "colab_type": "text"
      },
      "source": [
        "## Tiến hành xóa những stopwords ra khỏi Data"
      ]
    },
    {
      "cell_type": "code",
      "metadata": {
        "id": "2KGp-FZB8y9s",
        "colab_type": "code",
        "colab": {
          "base_uri": "https://localhost:8080/",
          "height": 126
        },
        "outputId": "6915c4c2-66fb-4cde-8360-1c2d00cff081"
      },
      "source": [
        "# preprocess dữ liệu cần train \n",
        "x_data = X.apply(preprocess)\n",
        "x_data.tail()"
      ],
      "execution_count": 35,
      "outputs": [
        {
          "output_type": "execute_result",
          "data": {
            "text/plain": [
              "28497    tyson hold contest let fan submit new idea tor...\n",
              "28509    increasingli cocki berni sander announc take d...\n",
              "28520    cash strap zuckerberg forc sell 11 million fac...\n",
              "28544    groceri store bar actual great littl happi hou...\n",
              "28589    studi 83 marathon spectat attend sick thrill w...\n",
              "Name: headline, dtype: object"
            ]
          },
          "metadata": {
            "tags": []
          },
          "execution_count": 35
        }
      ]
    },
    {
      "cell_type": "markdown",
      "metadata": {
        "id": "rqzZs2BoQ1Wi",
        "colab_type": "text"
      },
      "source": [
        "## Xử lí dữ liệu chuyển đổi ngôn ngữ tự nhiên thành  thành ma trận TF-IDF "
      ]
    },
    {
      "cell_type": "code",
      "metadata": {
        "id": "oWp8_i14Qa_p",
        "colab_type": "code",
        "colab": {
          "base_uri": "https://localhost:8080/",
          "height": 54
        },
        "outputId": "0c8f6683-88e9-4a30-d02d-a648809d2b63"
      },
      "source": [
        "from sklearn.feature_extraction.text import TfidfVectorizer\n",
        "\n",
        "# sử dụng hàm TfidfVectorizer để chuyển các token thành các ma trận tf-idf feature.\n",
        "vectorizer = TfidfVectorizer()\n",
        "\n",
        "# sử dụng hàm fit_transform để tìm tần suất xuất hiện của token trong câu\n",
        "x_data_tfidf=vectorizer.fit_transform(x_data)\n",
        "\n",
        "x_data_tfidf"
      ],
      "execution_count": 36,
      "outputs": [
        {
          "output_type": "execute_result",
          "data": {
            "text/plain": [
              "<28503x17940 sparse matrix of type '<class 'numpy.float64'>'\n",
              "\twith 205584 stored elements in Compressed Sparse Row format>"
            ]
          },
          "metadata": {
            "tags": []
          },
          "execution_count": 36
        }
      ]
    },
    {
      "cell_type": "markdown",
      "metadata": {
        "id": "WGDr8HOg521H",
        "colab_type": "text"
      },
      "source": [
        "### Công thức tính tfidf của một từ: tfidf=tf(t,d)*idf(t,D) với TF(t, d) = ( số lần từ t xuất hiện trong văn bản d) / (tổng số từ trong văn bản d) và IDF(t, D) = log_e( Tổng số văn bản trong tập mẫu D/ Số văn bản có chứa từ t )"
      ]
    },
    {
      "cell_type": "markdown",
      "metadata": {
        "id": "vhIvKu3yRhyj",
        "colab_type": "text"
      },
      "source": [
        "##Chia dữ liệu thành 70% để train 30% để test ,sử dụng tham số random_state để để đảm bảo dữ liệu train và test một cách ngẫu nhiên"
      ]
    },
    {
      "cell_type": "code",
      "metadata": {
        "id": "QfAwaK8d-Yzy",
        "colab_type": "code",
        "colab": {}
      },
      "source": [
        "from sklearn.model_selection import train_test_split\n",
        "X_train, X_test, y_train, y_test = train_test_split(x_data_tfidf, df['is_sarcastic'].values, test_size=0.3, random_state=42)"
      ],
      "execution_count": 37,
      "outputs": []
    },
    {
      "cell_type": "markdown",
      "metadata": {
        "id": "LeRjWjI3RsDC",
        "colab_type": "text"
      },
      "source": [
        "#**Chọn model để train cho data**"
      ]
    },
    {
      "cell_type": "markdown",
      "metadata": {
        "id": "qNvgB5EuU4U_",
        "colab_type": "text"
      },
      "source": [
        "## DecisionTree"
      ]
    },
    {
      "cell_type": "code",
      "metadata": {
        "id": "ZjfNsByvVL3i",
        "colab_type": "code",
        "colab": {
          "base_uri": "https://localhost:8080/",
          "height": 35
        },
        "outputId": "1ad3bb6d-92d0-4c5f-c5e1-e11b09436de0"
      },
      "source": [
        "from sklearn.metrics import f1_score\n",
        "from sklearn.tree import DecisionTreeClassifier\n",
        "\n",
        "dt=DecisionTreeClassifier()\n",
        "dt.fit(X_train,y_train)\n",
        "predict=dt.predict(X_test)\n",
        "\n",
        "print(f\"Test Score : {f1_score(y_test, predict)}\")"
      ],
      "execution_count": 49,
      "outputs": [
        {
          "output_type": "stream",
          "text": [
            "Test Score : 0.6959724950884087\n"
          ],
          "name": "stdout"
        }
      ]
    },
    {
      "cell_type": "markdown",
      "metadata": {
        "id": "V_WWimefWOB-",
        "colab_type": "text"
      },
      "source": [
        "\n",
        "## K-Nearest neighbors"
      ]
    },
    {
      "cell_type": "code",
      "metadata": {
        "id": "P6fYi_oSWRiO",
        "colab_type": "code",
        "colab": {
          "base_uri": "https://localhost:8080/",
          "height": 35
        },
        "outputId": "1f43ff3f-7c1c-4840-f735-ae9fdfbfd5ec"
      },
      "source": [
        "from sklearn.neighbors import KNeighborsClassifier\n",
        "KN=KNeighborsClassifier()\n",
        "KN.fit(X_train,y_train)\n",
        "predict=KN.predict(X_test)\n",
        "\n",
        "print(f\"Test Score : {f1_score(y_test, predict)}\")"
      ],
      "execution_count": 50,
      "outputs": [
        {
          "output_type": "stream",
          "text": [
            "Test Score : 0.5235411140583555\n"
          ],
          "name": "stdout"
        }
      ]
    },
    {
      "cell_type": "markdown",
      "metadata": {
        "id": "BZOZATypKK9Z",
        "colab_type": "text"
      },
      "source": [
        "## Naive Bayes Classifier:"
      ]
    },
    {
      "cell_type": "code",
      "metadata": {
        "id": "WCvzsHtsJrjU",
        "colab_type": "code",
        "colab": {
          "base_uri": "https://localhost:8080/",
          "height": 35
        },
        "outputId": "6d67c5dc-ebe0-41dd-af8c-6dcb37e6ac02"
      },
      "source": [
        "from sklearn.naive_bayes import BernoulliNB\n",
        "BernModel = BernoulliNB()\n",
        "BernModel.fit(X_train, y_train)\n",
        "predict=BernModel.predict(X_test)\n",
        "\n",
        "print(f\"Test Score : {f1_score(y_test, predict)}\")"
      ],
      "execution_count": 51,
      "outputs": [
        {
          "output_type": "stream",
          "text": [
            "Test Score : 0.777834008097166\n"
          ],
          "name": "stdout"
        }
      ]
    },
    {
      "cell_type": "markdown",
      "metadata": {
        "id": "DENT8alcKW3R",
        "colab_type": "text"
      },
      "source": [
        "## Logistic Regression:"
      ]
    },
    {
      "cell_type": "code",
      "metadata": {
        "id": "_RIk9TSQKPQc",
        "colab_type": "code",
        "colab": {
          "base_uri": "https://localhost:8080/",
          "height": 35
        },
        "outputId": "0e647cd6-815d-47ee-8dd8-7844d387f44c"
      },
      "source": [
        "from sklearn.linear_model import LogisticRegression\n",
        "LogModel = LogisticRegression()\n",
        "LogModel.fit(X_train,y_train)\n",
        "predict=LogModel.predict(X_test)\n",
        "\n",
        "print(f\"Test Score : {f1_score(y_test, predict)}\")"
      ],
      "execution_count": 52,
      "outputs": [
        {
          "output_type": "stream",
          "text": [
            "Test Score : 0.766220651350669\n"
          ],
          "name": "stdout"
        }
      ]
    },
    {
      "cell_type": "markdown",
      "metadata": {
        "id": "_9P1VWFZLNBq",
        "colab_type": "text"
      },
      "source": [
        "## Random Forest Classifier:"
      ]
    },
    {
      "cell_type": "code",
      "metadata": {
        "id": "o4Fhq58mLJGu",
        "colab_type": "code",
        "colab": {
          "base_uri": "https://localhost:8080/",
          "height": 35
        },
        "outputId": "cd7ae0d4-ebe1-429d-9b10-ece792a27d32"
      },
      "source": [
        "from sklearn.ensemble import RandomForestClassifier\n",
        "rf_model = RandomForestClassifier()\n",
        "rf_model.fit(X_train,y_train)\n",
        "predict=rf_model.predict(X_test)\n",
        "\n",
        "print(f\"Test Score : {f1_score(y_test, predict)}\")"
      ],
      "execution_count": 53,
      "outputs": [
        {
          "output_type": "stream",
          "text": [
            "Test Score : 0.7265295358649789\n"
          ],
          "name": "stdout"
        }
      ]
    },
    {
      "cell_type": "markdown",
      "metadata": {
        "id": "vBpsyM_fg2HK",
        "colab_type": "text"
      },
      "source": [
        "## Vẻ biểu đồ trực quan dữ liệu test trên model BernoulliNB"
      ]
    },
    {
      "cell_type": "code",
      "metadata": {
        "id": "w65dZJ5GNlum",
        "colab_type": "code",
        "colab": {
          "base_uri": "https://localhost:8080/",
          "height": 299
        },
        "outputId": "14a64e5d-69f4-437f-e907-0904d743a5da"
      },
      "source": [
        "from sklearn import metrics\n",
        "pred = BernModel.predict(X_test)\n",
        "cm=metrics.confusion_matrix(y_test,pred)\n",
        "cm = pd.DataFrame(cm, index = [\"Fake\", \"True\"], columns=[\"Fake\", \"True\"])\n",
        "sns.heatmap(cm, annot = True)\n",
        "plt.title(\"Confusion Matrix for Random Forest Classifier\")"
      ],
      "execution_count": 54,
      "outputs": [
        {
          "output_type": "execute_result",
          "data": {
            "text/plain": [
              "Text(0.5, 1.0, 'Confusion Matrix for Random Forest Classifier')"
            ]
          },
          "metadata": {
            "tags": []
          },
          "execution_count": 54
        },
        {
          "output_type": "display_data",
          "data": {
            "image/png": "[encoded data removed]",
            "text/plain": [
              "<Figure size 432x288 with 2 Axes>"
            ]
          },
          "metadata": {
            "tags": [],
            "needs_background": "light"
          }
        }
      ]
    },
    {
      "cell_type": "markdown",
      "metadata": {
        "id": "eaxEAgt_e2d2",
        "colab_type": "text"
      },
      "source": [
        "## Cách chọn model để train"
      ]
    },
    {
      "cell_type": "markdown",
      "metadata": {
        "id": "70Q_jRs4ez9D",
        "colab_type": "text"
      },
      "source": [
        "- Bài toán này biết trước label nên nó sẽ thuộc về supervised learning.\n",
        "- Khi quan sát dữ liệu ta thấy label của ta được chia thành 2 nhóm là 1 và 0, dữ liệu đầu ra không liên tục  nên ta sẽ dùng các model classification để giải bài toán này.\n",
        "- Vì các label có dạng 0 và 1 nên ta sẽ ưu tiên hàm model xử lí dạng binary, decision hay các model để xác lí dạng text .\n",
        "- Trong bài toán này ta sẽ sử dụng một số model như\n",
        "\t- DecisionTree:\n",
        "\t\t- Decision tree là một mô hình supervised learning, có thể được áp dụng vào cả hai bài toán classification và regression.\n",
        "\t\t- Việc xây dựng một decision tree trên dữ liệu huấn luyện cho trước là việc đi xác định các câu hỏi và thứ tự của chúng.\n",
        "\t- K-Nearest neighbors\n",
        "\t\t- K-nearest neighbor là một trong những thuật toán supervised-learning đơn giản nhất.\n",
        "\t\t- Khi training, thuật toán này không học một điều gì từ dữ liệu training , mọi tính toán được thực hiện khi nó cần dự đoán kết quả của dữ liệu mới. \n",
        "\t- Naive Bayes Classifier\n",
        "\t\t- Naive Bayes Classifiers (NBC) thường được sử dụng trong các bài toán Text Classification.\n",
        "\t\t- Là thuật toán tiêu biểu phân loại dựa trên lý thuyết xác suất.\n",
        "\t- Logistic Regression\n",
        "\t\t- Logistic Regression là model có dạng tuyến tính \n",
        "\t\t- Nó thực hiện dựa trên hàm y = f(w^Tx)\n",
        "\t- Random Forest Classifier.\n",
        "\t\t- là phương pháp xây dựng một tập hợp rất nhiều cây quyết định và sử dụng phương pháp voting để đưa ra quyết định về biến target cần được dự báo\n",
        "- Sau khi train cho các model này xong ta sẽ đánh giá model thông qua hàm score (độ chính xác) trên tập train và tập test để chọn ra model tốt nhất"
      ]
    },
    {
      "cell_type": "markdown",
      "metadata": {
        "id": "E-qz6jQyYyPa",
        "colab_type": "text"
      },
      "source": [
        "# **Thu thập dữ liệu từ 2 trang web :** \n",
        "  - HuffPost : non-sarcastic\n",
        "  - TheOnion : sarcastic"
      ]
    },
    {
      "cell_type": "markdown",
      "metadata": {
        "id": "-4fY5_C7Y1nZ",
        "colab_type": "text"
      },
      "source": [
        "####**import thư viện :**\n",
        "  - Request : gửi yêu cầu đến url\n",
        "  - urlopen : mở url\n",
        "  - BeautifulSoup : lấy headline từ các thẻ trong source của url"
      ]
    },
    {
      "cell_type": "code",
      "metadata": {
        "id": "_vKceRp-Y8X6",
        "colab_type": "code",
        "colab": {}
      },
      "source": [
        "from urllib.request import Request , urlopen \n",
        "from bs4 import BeautifulSoup"
      ],
      "execution_count": null,
      "outputs": []
    },
    {
      "cell_type": "markdown",
      "metadata": {
        "id": "Ld1Wh17dY8EQ",
        "colab_type": "text"
      },
      "source": [
        "####**Scrap dữ liệu từ trang HuffPost**\n",
        "- Ý tưởng : Scrap dữ liệu từng tab trong mục News của trang HuffPost UK\n",
        "- Thực hiện :\n",
        "  - Sử dụng vòng for để kiểm soát số tab cần scrap để tránh dữ liệu quá ít hoặc quá nhiều\n",
        "  - Sau khi tìm được url của website cần scrap thì ta sẽ gửi yêu cầu đến url đó \n",
        "  - Tiếp đến mở url vừa được yêu cầu\n",
        "  - Sử dụng BeautifullSoup để lấy source của website vừa mới được mở \n",
        "  - Một đoạn code chứa headline : **Judge Rejects White House Demand To Block John Bolton's New Book**\n",
        "\n",
        "      ```<a class=\"card__link yr-card-headline\" href=\"/entry/john-bolton-white-house-trump-book_uk_5eee269bc5b697d43e591553?utm_hp_ref=uk-news\" target=\"_self\" data-cpid=\"0d6874cb-8dbc-355e-89b3-76c1cbedf86a\" data-rapid-pos=\"2\" data-ylk=\"cpos:18;pos:2;elm:hdln;g:0d6874cb-8dbc-355e-89b3-76c1cbedf86a\" data-rapid-sec=\"{&quot;col2&quot;:&quot;col2&quot;}\" data-rapid-elm=\"hdln\" data-rapid-g=\"0d6874cb-8dbc-355e-89b3-76c1cbedf86a\" data-rapid_p=\"37\" data-v9y=\"1\">Judge Rejects White House Demand To Block John Bolton's New Book</a>```\n",
        "\n",
        "  - Sau khi lấy được source của web, ta quan sát thấy các headline của trang này nằm trong thẻ <\\a> với class_name = card__link yr-card-headline \n",
        "  - Vì thế ta dùng hàm find_all của thư viện BeautifullSoup để lấy ra tất các thẻ này\n",
        "  - Tiếp theo ta tách headline bằng hàm text \n",
        "  - Cuối cùng kiểm tra xem headline vừa mới lấy ra có nằm trong Data chưa , nếu chưa thì đẩy nó và label của dữ liệu này là 0 vào data\n",
        "- Kết quả : từ 50 tab của mục News ta lấy được 1600 headline"
      ]
    },
    {
      "cell_type": "code",
      "metadata": {
        "id": "5cW9j3X4ZIOQ",
        "colab_type": "code",
        "colab": {}
      },
      "source": [
        "# scrap data form HuffPost\n",
        "huff_data = []\n",
        "\n",
        "# sử dụng vòng lặp để load trang tiếp theo trong phần news \n",
        "for i in range(50):\n",
        "\n",
        "  # định dạng url của phần news trong trang HuffPost với i tương ứng với số trang\n",
        "  url = 'https://www.huffingtonpost.co.uk/news/'+ str(i) +'/?guccounter=2'\n",
        "\n",
        "  # gửi request HTTP 1.1 đến url với header tự chỉnh \n",
        "  req = Request(url,headers={'User-Agent': 'ScrapData/3.0'})\n",
        "\n",
        "  # mở url với thời gian chờ là 10s \n",
        "  page = urlopen(req,timeout=10)\n",
        "\n",
        "  # sử dụng BeautifulSoup để lấy source của website với định dạng văn bản html\n",
        "  soup = BeautifulSoup(page,\"html.parser\")\n",
        "\n",
        "  # sử dụng hàm find_all để tìm tất cả thẻ a có name_class : card__link yr-card-headline\n",
        "  headlines = soup.find_all('a',attrs={'class':'card__link yr-card-headline'})\n",
        "\n",
        "  # tách headline từ thẻ và gán label cho nó \n",
        "  for hl in range(len(headlines)):\n",
        "\n",
        "    # hàm text sẽ lấy ra phần text trong thẻ \n",
        "    headline = headlines[hl].text\n",
        "\n",
        "    # kiểm tra headline có tồn tại trong data chưa \n",
        "    if headline not in huff_data:\n",
        "      data = [headline,0]\n",
        "      huff_data.append(data)"
      ],
      "execution_count": null,
      "outputs": []
    },
    {
      "cell_type": "code",
      "metadata": {
        "id": "ciz2_ObVZMuh",
        "colab_type": "code",
        "colab": {
          "base_uri": "https://localhost:8080/",
          "height": 74
        },
        "outputId": "4132face-927f-45dd-daf1-bcf7b30fe86d"
      },
      "source": [
        "print(huff_data[:10])\n",
        "print(len(huff_data))"
      ],
      "execution_count": null,
      "outputs": [
        {
          "output_type": "stream",
          "text": [
            "[['I’m A Black Midwife, And I’m Tired Of Women Like Me Receiving Worse Healthcare', 0], ['What Is PizzaGate And Why Does Robbie Williams Think It Might Be True?', 0], ['The Calls From Children The NSPCC Receive Every Hour During Lockdown', 0], ['Shame, Stigma And Stereotypes: How Child Sexual Abuse In Ethnic Minorities Is Being Hidden', 0], ['US Daily Coronavirus Cases Once Again At Peak As Lockdown Measures Lift', 0], [\"Tory Donor Pressured Robert Jenrick To Approve Housing Plan With Swipe At 'Marxist' Council\", 0], ['The Pandemic May Be Causing Children PTSD', 0], ['UK Records 154 More Coronavirus Deaths In 24 Hours As Latest Care Home Data Released', 0], ['Revealed: The Government Isn’t Certain The Coronavirus R Rate Is Below 1 In England', 0], ['Asifa Lahore: What It’s Like To Be An Out Muslim Drag Queen', 0]]\n",
            "1600\n"
          ],
          "name": "stdout"
        }
      ]
    },
    {
      "cell_type": "markdown",
      "metadata": {
        "id": "C1-uXysxZOBZ",
        "colab_type": "text"
      },
      "source": [
        "####**Scrap dữ liệu từ trang TheOnion**\n",
        "- Ý tưởng : tương tự trang HuffPost lấy dữ liệu của từng tab của mục News-in-Brief\n",
        "- Thực hiện : \n",
        "   - Khá giống với scrap dữ liệu của trang HuffPost\n",
        "   - Tuy nhiên phần url của tab mới có dạng url gốc + 1 chuỗi ứng với tab đó \n",
        "   - Code của một More-Stroies button:\n",
        "\n",
        "    ```<a class=\"sc-1out364-0 hMndXN js_link\" data-ga=\"[[&quot;Story type page click&quot;,&quot;More stories click&quot;]]\" href=\"?startTime=1592331480884\" rel=\"next\"><button class=\"j48i5d-2 fUFqcv button button--tertiary\"><div class=\"j48i5d-1 fuDdQ\"><span class=\"j48i5d-0 keLEgo\">More stories</span><span class=\"iyvn34-0 bYIjtl\"><svg xmlns=\"http://www.w3.org/2000/svg\" width=\"18\" height=\"18\" aria-label=\"ChevronRight icon\" viewBox=\"0 0 18 18\"><path fill-rule=\"evenodd\" d=\"M6.16 14.13a.5.5 0 1 0 .68.74l6-5.5a.5.5 0 0 0 0-.74l-6-5.5a.5.5 0 1 0-.68.74L11.76 9l-5.6 5.13z\"></path></svg></span></div></button></a>```\n",
        "\n",
        "   - Từ đây có thể thấy tail_url tab tiếp theo nằm trong href (?startTime=1592331480884)\n",
        "   - Ta có thể tìm thông qua thẻ a và class_name = sc-1out364-0 hMndXN js_link tuy nhiên khi quan sát source có rất nhiều thẻ với class_name như vậy\n",
        "   - Vì thế ta sẽ tìm thông qua data-ga=\"[[&quot;Story type page click&quot;,&quot;More stories click&quot;]]\"\n",
        "   -Từ đó có thể dùng hàm get('href') để lấy tail_url\n",
        "   - Kiểm tra và đẩy dữ liệu vào data với label = 1\n",
        "- Kết quả : sau khi scrap 80 tab ta cũng thu được 1600 headline "
      ]
    },
    {
      "cell_type": "code",
      "metadata": {
        "id": "t9LhaAfxZslJ",
        "colab_type": "code",
        "colab": {}
      },
      "source": [
        "# scrap dữ liệu từ trang onion\n",
        "onion_data= []\n",
        "\n",
        "# đuôi url của mỗi tab \n",
        "tail_url = ''\n",
        "\n",
        "# Sử dụng vòng lặp để scrap từng tab\n",
        "for i in range(80):\n",
        "  # url có định dạng url gốc của mục news-in-brief cộng với tail_url của mỗi tab, tab đầu tiên có đuôi trong từ tab 2 đuôi url sẽ ứng với 1 chuỗi số \n",
        "  url = 'https://www.theonion.com/c/news-in-brief' + tail_url\n",
        "\n",
        "  # gửi yêu cầu đến url\n",
        "  req = Request(url, headers={'ScrapData':'XYZ/3.0'})\n",
        "\n",
        "  # mở url\n",
        "  page = urlopen(req,timeout=10)\n",
        "\n",
        "  # lấy source của web\n",
        "  soup = BeautifulSoup(page,'html.parser')\n",
        "\n",
        "  # tìm tất cả thẻ h2 với class_name = sc-759qgu-0 cYlVdn cw4lnv-6 eXwNRE\n",
        "  headlines = soup.find_all('h2',attrs={'class':'sc-759qgu-0 cYlVdn cw4lnv-6 eXwNRE'})\n",
        "\n",
        "  # tách headline và gắn label\n",
        "  for hl in range(len(headlines)):\n",
        "\n",
        "    # tách headline \n",
        "    headline = headlines[hl].text\n",
        "\n",
        "    # kiểm tra headline có tồn tại trong data chưa \n",
        "    if headline not in onion_data:\n",
        "      data = [headline,1]\n",
        "      onion_data.append(data)\n",
        "\n",
        "  # lấy tail_url của tab tiếp theo nằm trong href của thẻ a với data-ga = [[\"Story type page click\",\"More stories click\"]]\n",
        "  # sử dụng hàm get('href') để lấy dữ liệu của href \n",
        "  tail_url = str(soup.find('a',attrs={'data-ga':'[[\"Story type page click\",\"More stories click\"]]'}).get('href'))"
      ],
      "execution_count": null,
      "outputs": []
    },
    {
      "cell_type": "code",
      "metadata": {
        "id": "HxzjzyqmZ-hx",
        "colab_type": "code",
        "colab": {
          "base_uri": "https://localhost:8080/",
          "height": 70
        },
        "outputId": "5d468f3a-fa08-4ea5-909a-2033b1695e5f"
      },
      "source": [
        "print(onion_data[:10])\n",
        "print(len(onion_data))\n"
      ],
      "execution_count": null,
      "outputs": [
        {
          "output_type": "stream",
          "text": [
            "[['Nancy Pelosi Calls Jamaal Bowman To Scold Him For Winning Primary', 1], ['Gamers, We Just Spent 4 Days Trapped In A Rolled-Over Minivan And We’re Genuinely Pissed That Nobody Reported Us Missing When We Didn’t Cover The ‘Ratchet & Clank’ News', 1], ['Defiant Florida Officials Announce They Will Ignore Saudi Government Lockdown By Holding Hajj To Mecca', 1], ['Employee Leaves Performance Review With Clear, Identifiable Goal Of Surrendering To The Void', 1], ['Officials Warn Defunding Police Could Lead To Spike In Crime From Ex-Officers With No Outlet For Violence', 1], ['Realtor Thinks Flourishing Neighborhood Full Of Middle-Class Latino Families Has Real Turnaround Potential', 1], ['Study Finds Gap Widening Between Rich Pets And Poor Americans', 1], ['Heavily Armed Self-Help Gurus Demand America Reopens Their Hearts', 1], ['White House Announces Entire U.S. Populace Of 6,200 Attended Trump’s Tulsa Rally', 1], ['Facebook Announces Plan To Break Up U.S. Government Before It Becomes Too Powerful', 1]]\n",
            "1600\n"
          ],
          "name": "stdout"
        }
      ]
    },
    {
      "cell_type": "markdown",
      "metadata": {
        "id": "d9XTrESbaJNi",
        "colab_type": "text"
      },
      "source": [
        "##**Ghi dữ liệu vào file CSV**\n",
        "- Mount đến drive để lấy tệp cần ghi vào\n",
        "- Dùng thư viện csv để chuyển data từ dạng list sang csv"
      ]
    },
    {
      "cell_type": "code",
      "metadata": {
        "id": "YfQcRcYqAhoI",
        "colab_type": "code",
        "colab": {
          "base_uri": "https://localhost:8080/",
          "height": 35
        },
        "outputId": "93fa7e86-9126-40d9-e500-9351b498323f"
      },
      "source": [
        "from google.colab import drive\n",
        "drive.mount('/content/drive')"
      ],
      "execution_count": 76,
      "outputs": [
        {
          "output_type": "stream",
          "text": [
            "Drive already mounted at /content/drive; to attempt to forcibly remount, call drive.mount(\"/content/drive\", force_remount=True).\n"
          ],
          "name": "stdout"
        }
      ]
    },
    {
      "cell_type": "code",
      "metadata": {
        "id": "P2hqirQdaM0j",
        "colab_type": "code",
        "colab": {}
      },
      "source": [
        "# impor thư viện csv\n",
        "import csv\n",
        "\n",
        "# các header của dữ liệu\n",
        "Headers = [[ \"Headline\", \"label\"]]\n",
        "\n",
        "# mở tệp Headlines_Data trong Drive với chế độ ghi\n",
        "with open('/content/drive/My Drive/Sarcasm/Headline_sarcasm.xlsx', 'w', newline='') as file:\n",
        "  # Sử dụng hàm writer để thực hiện ghi vào file   \n",
        "    writer = csv.writer(file)\n",
        "\n",
        "  # sử dụng wrirerows để ghi thành nhiều cột \n",
        "    \n",
        "\n",
        "    # ghi onion data\n",
        "    writer.writerows(onion_data)\n",
        "\n",
        "    # ghi huffpost data\n",
        "    writer.writerows(huff_data)"
      ],
      "execution_count": null,
      "outputs": []
    },
    {
      "cell_type": "markdown",
      "metadata": {
        "id": "yTrp4m6oXrWj",
        "colab_type": "text"
      },
      "source": [
        "## Up test data lên google driver.\n",
        "https://drive.google.com/file/d/1rCAcCSEJr0YEVSqUHoQ-2PbJ-3DtdX9r/view?usp=sharing\n",
        "\n",
        "\n"
      ]
    },
    {
      "cell_type": "code",
      "metadata": {
        "id": "iihkaSO7-0W5",
        "colab_type": "code",
        "colab": {
          "base_uri": "https://localhost:8080/",
          "height": 272
        },
        "outputId": "dada1b7b-2f0d-4d90-e797-e1bb0cab8d0c"
      },
      "source": [
        "import pandas as pd\n",
        "#Đọc file data đã lưu ở github\n",
        "dataf=pd.read_csv('/content/drive/My Drive/Sarcasm/Headline_sarcasm.xlsx',header=None)\n",
        "#Đặt tên cho 2 cột của data\n",
        "dataf.columns=['headline','is_sarcastic']\n",
        "print(dataf)"
      ],
      "execution_count": 82,
      "outputs": [
        {
          "output_type": "stream",
          "text": [
            "                                               headline  is_sarcastic\n",
            "0     Officials Warn Defunding Police Could Lead To ...             1\n",
            "1     Realtor Thinks Flourishing Neighborhood Full O...             1\n",
            "2     Study Finds Gap Widening Between Rich Pets And...             1\n",
            "3     Heavily Armed Self-Help Gurus Demand America R...             1\n",
            "4     White House Announces Entire U.S. Populace Of ...             1\n",
            "...                                                 ...           ...\n",
            "3195  I Have Zero Patience For Middle-Class Whinging...             0\n",
            "3196  Why Boris Johnson Doesn’t Want To Peak Too Soo...             0\n",
            "3197  Coronavirus Hides The Budget In Plain Sight, W...             0\n",
            "3198  Why Donald Trump’s Coronavirus Travel Ban Won’...             0\n",
            "3199    Two New Coronavirus Deaths Confirmed In England             0\n",
            "\n",
            "[3200 rows x 2 columns]\n"
          ],
          "name": "stdout"
        }
      ]
    },
    {
      "cell_type": "code",
      "metadata": {
        "id": "REQyCF0nQxqr",
        "colab_type": "code",
        "colab": {}
      },
      "source": [
        "x1=dataf[:1000]\n",
        "x2=dataf[2200:3200]\n",
        "test=pd.concat([x1,x2])"
      ],
      "execution_count": 69,
      "outputs": []
    },
    {
      "cell_type": "code",
      "metadata": {
        "id": "pvA9reOY_7g7",
        "colab_type": "code",
        "colab": {
          "base_uri": "https://localhost:8080/",
          "height": 235
        },
        "outputId": "8d9693ac-c564-4c91-a44c-633cc2e99d9a"
      },
      "source": [
        "#Tiến hành xóa những stop_words của dữ liệu\n",
        "x1_test=test['headline'].apply(preprocess)\n",
        "x1_test"
      ],
      "execution_count": 70,
      "outputs": [
        {
          "output_type": "execute_result",
          "data": {
            "text/plain": [
              "0       offici warn defund polic could lead To spike I...\n",
              "1       realtor think flourish neighborhood full Of mi...\n",
              "2       studi find gap widen between rich pet and poor...\n",
              "3       heavili arm self help guru demand america reop...\n",
              "4       white hous announc entir U S populac Of 6 200 ...\n",
              "                              ...                        \n",
              "3195    I have zero patienc for middl class whing abou...\n",
              "3196    whi bori johnson doesn want To peak too soon O...\n",
              "3197    coronaviru hide the budget In plain sight with...\n",
              "3198      whi donald trump coronaviru travel ban won work\n",
              "3199          two new coronaviru death confirm In england\n",
              "Name: headline, Length: 2000, dtype: object"
            ]
          },
          "metadata": {
            "tags": []
          },
          "execution_count": 70
        }
      ]
    },
    {
      "cell_type": "code",
      "metadata": {
        "id": "FMZTTAS-Ai5u",
        "colab_type": "code",
        "colab": {
          "base_uri": "https://localhost:8080/",
          "height": 54
        },
        "outputId": "13c26db3-48f3-4ef9-b792-0f4de1906035"
      },
      "source": [
        "#Số hóa dữ liệu: chuyển đổi ngôn ngữ tự nhiên thành thành ma trận các tính năng TF-IDF\n",
        "x1_test_tfidf = vectorizer.transform(x1_test)\n",
        "x1_test_tfidf"
      ],
      "execution_count": 71,
      "outputs": [
        {
          "output_type": "execute_result",
          "data": {
            "text/plain": [
              "<2000x17940 sparse matrix of type '<class 'numpy.float64'>'\n",
              "\twith 17795 stored elements in Compressed Sparse Row format>"
            ]
          },
          "metadata": {
            "tags": []
          },
          "execution_count": 71
        }
      ]
    },
    {
      "cell_type": "code",
      "metadata": {
        "id": "FCAi6fXwMmkb",
        "colab_type": "code",
        "colab": {
          "base_uri": "https://localhost:8080/",
          "height": 945
        },
        "outputId": "ee6c8aa4-2999-46ea-a5d0-b5ce0e851fe3"
      },
      "source": [
        "print(x1_test_tfidf)"
      ],
      "execution_count": 72,
      "outputs": [
        {
          "output_type": "stream",
          "text": [
            "  (0, 17318)\t0.22942030427058457\n",
            "  (0, 17136)\t0.24898552485755943\n",
            "  (0, 14952)\t0.33756129026478837\n",
            "  (0, 12174)\t0.21446602972029108\n",
            "  (0, 11394)\t0.33756129026478837\n",
            "  (0, 11196)\t0.23200693656225832\n",
            "  (0, 11193)\t0.21570285883803228\n",
            "  (0, 9095)\t0.2358511741982797\n",
            "  (0, 7934)\t0.393597281295386\n",
            "  (0, 5528)\t0.2585686342009036\n",
            "  (0, 4294)\t0.35266732085195573\n",
            "  (0, 3878)\t0.25957561592055756\n",
            "  (0, 3743)\t0.204867246815277\n",
            "  (1, 16441)\t0.38392407546444796\n",
            "  (1, 15956)\t0.2126334005163242\n",
            "  (1, 12934)\t0.36461955363148074\n",
            "  (1, 12926)\t0.22775362926796314\n",
            "  (1, 12296)\t0.2995147823515757\n",
            "  (1, 10804)\t0.287974157827523\n",
            "  (1, 10155)\t0.24678965387801918\n",
            "  (1, 9050)\t0.285102587702597\n",
            "  (1, 6348)\t0.24885148291251866\n",
            "  (1, 6059)\t0.3730523325638946\n",
            "  (1, 5701)\t0.20352936370202962\n",
            "  (1, 3220)\t0.2553900198928622\n",
            "  :\t:\n",
            "  (1995, 7258)\t0.5420159974375397\n",
            "  (1995, 3220)\t0.36055430022293894\n",
            "  (1996, 17296)\t0.2957885669782575\n",
            "  (1996, 14832)\t0.4121657349049647\n",
            "  (1996, 11761)\t0.48382052030939965\n",
            "  (1996, 8482)\t0.44117949737986767\n",
            "  (1996, 2113)\t0.5602739382073632\n",
            "  (1997, 14430)\t0.34055813277416985\n",
            "  (1997, 12057)\t0.38189970267791984\n",
            "  (1997, 10551)\t0.42820578152867833\n",
            "  (1997, 8724)\t0.38686421162492823\n",
            "  (1997, 7934)\t0.44529597746126726\n",
            "  (1997, 7437)\t0.3271354323951574\n",
            "  (1997, 2384)\t0.3159787446230705\n",
            "  (1998, 17676)\t0.43659007734370947\n",
            "  (1998, 16374)\t0.3023688979659721\n",
            "  (1998, 16274)\t0.5322293920777705\n",
            "  (1998, 4786)\t0.4100771654762391\n",
            "  (1998, 1448)\t0.516266158557151\n",
            "  (1999, 16485)\t0.339252283957901\n",
            "  (1999, 10856)\t0.21065517308345783\n",
            "  (1999, 7934)\t0.5785252767846883\n",
            "  (1999, 5319)\t0.5183647578492152\n",
            "  (1999, 4199)\t0.31282584707786454\n",
            "  (1999, 3533)\t0.3732006929571099\n"
          ],
          "name": "stdout"
        }
      ]
    },
    {
      "cell_type": "code",
      "metadata": {
        "id": "eHFZmWiTMqBi",
        "colab_type": "code",
        "colab": {
          "base_uri": "https://localhost:8080/",
          "height": 35
        },
        "outputId": "45d1ada5-26b0-4b67-9d80-e0363eb7d3d1"
      },
      "source": [
        "y1_test=test['is_sarcastic']\n",
        "y1_test.shape"
      ],
      "execution_count": 73,
      "outputs": [
        {
          "output_type": "execute_result",
          "data": {
            "text/plain": [
              "(2000,)"
            ]
          },
          "metadata": {
            "tags": []
          },
          "execution_count": 73
        }
      ]
    },
    {
      "cell_type": "markdown",
      "metadata": {
        "id": "waHWHvYFa5V9",
        "colab_type": "text"
      },
      "source": [
        "#**Đối chiếu performance của model trên dataset đã cho và trên 2000 headine mới**"
      ]
    },
    {
      "cell_type": "code",
      "metadata": {
        "id": "iwybbOOyMskv",
        "colab_type": "code",
        "colab": {
          "base_uri": "https://localhost:8080/",
          "height": 35
        },
        "outputId": "0b6b5299-602a-480f-a9cc-0942377efc91"
      },
      "source": [
        "predict1=BernModel.predict(X_test)\n",
        "predict2=BernModel.predict(x1_test_tfidf)\n",
        "print(f\"Test Score : {f1_score(y_test, predict)}\")"
      ],
      "execution_count": 74,
      "outputs": [
        {
          "output_type": "stream",
          "text": [
            "Test Score : 0.7265295358649789\n"
          ],
          "name": "stdout"
        }
      ]
    },
    {
      "cell_type": "code",
      "metadata": {
        "id": "O7vcc-IK78BO",
        "colab_type": "code",
        "colab": {
          "base_uri": "https://localhost:8080/",
          "height": 299
        },
        "outputId": "c124644d-bf38-4d11-bce6-a59d1b6a8094"
      },
      "source": [
        "pred= BernModel.predict(x1_test_tfidf)\n",
        "cm=metrics.confusion_matrix(y1_test,pred)\n",
        "cm = pd.DataFrame(cm, index = [\"Fake\", \"True\"], columns=[\"Fake\", \"True\"])\n",
        "sns.heatmap(cm, annot = True)\n",
        "plt.title(\"Confusion Matrix for Voting Classifier\")"
      ],
      "execution_count": 75,
      "outputs": [
        {
          "output_type": "execute_result",
          "data": {
            "text/plain": [
              "Text(0.5, 1.0, 'Confusion Matrix for Voting Classifier')"
            ]
          },
          "metadata": {
            "tags": []
          },
          "execution_count": 75
        },
        {
          "output_type": "display_data",
          "data": {
            "image/png": "[encoded data removed]",
            "text/plain": [
              "<Figure size 432x288 with 2 Axes>"
            ]
          },
          "metadata": {
            "tags": [],
            "needs_background": "light"
          }
        }
      ]
    },
    {
      "cell_type": "markdown",
      "metadata": {
        "id": "J0B_6h7NiySV",
        "colab_type": "text"
      },
      "source": [
        "Với độ chính xác 72,6% thì model dự đoán sai khá nhiều. 240/1000 headlines is_sarcastic=1 và 330/1000 headlines is_sarcastic=0  được dự đoán sai"
      ]
    },
    {
      "cell_type": "markdown",
      "metadata": {
        "id": "vp3Ll0_-bOCi",
        "colab_type": "text"
      },
      "source": [
        "###Nhận xét: performance test trên 2000 headlines tự cào thấp hơn nhiều đối với test_set trên datasets có sẵn: 72,6% ~ 79.46%"
      ]
    },
    {
      "cell_type": "markdown",
      "metadata": {
        "id": "RwvRFbDf2LWD",
        "colab_type": "text"
      },
      "source": [
        "### Theo nhóm nghĩ: lí do khiến performance trên 2000 headlines mới thấp hơn\n",
        "\n",
        "\n",
        "*   Có thể xuất hiện nhiều từ mới mà trong dataset không có vì dataset trên kaggle do người ta thu thập lâu rồi còn mình thu thập dữ liệu là gần đây\n",
        "* Hàm PorterStemmer để chuyển về dạng chuẩn của từ   của nltk chưa được tối ưu .Ví dụ như các từ spoken thì nó không đưa về speak được \n",
        "nhưng với kết quả tạm chấp nhận được và tốc độ xử lí nhanh nên nó vẫn được dùng nhiều trong việc xử lí văn bản\n",
        "\n",
        "\n"
      ]
    },
    {
      "cell_type": "markdown",
      "metadata": {
        "id": "0x13G4pjbAoi",
        "colab_type": "text"
      },
      "source": [
        "#**Viết ứng dụng**"
      ]
    },
    {
      "cell_type": "markdown",
      "metadata": {
        "id": "v0LbmqJ2lwWI",
        "colab_type": "text"
      },
      "source": [
        "- Yêu cầu người dùng nhập headline cần kiểm tra vào \n",
        "- Chuyển headline từ dạng string sang list để dùng thư viện pandas tạo thành dataframe\n",
        "- Tiền xử lí dữ liệu cho headline giống như data được train\n",
        "- Dùng model của mình để predict headline \n",
        "\t- predict = 1 thì headline có tính chấm biếm\n",
        "\t- predict = 0 thì headline không có tính châm biếm"
      ]
    },
    {
      "cell_type": "code",
      "metadata": {
        "id": "FYgOIxHceuZz",
        "colab_type": "code",
        "colab": {
          "base_uri": "https://localhost:8080/",
          "height": 72
        },
        "outputId": "c88bebdd-be33-4985-fcbf-126932e51a41"
      },
      "source": [
        "print('Nhập vào headline cần kiểm tra!!!')\n",
        "\n",
        "# Nhập vào headline\n",
        "Headline_str = input()\n",
        "\n",
        "# Chuyển headline thành dạng dataframe\n",
        "Headline_list = [Headline_str]\n",
        "df_app = pd.DataFrame(Headline_list)\n",
        "\n",
        "# Tiền xử lí headline\n",
        "Test_app = df_app[0].apply(preprocess)\n",
        "Test_app_tfidf = vectorizer.transform(Test_app)\n",
        "\n",
        "# Predict healine\n",
        "result_app = BernModel.predict(Test_app_tfidf)\n",
        "\n",
        "# Kết quả \n",
        "if result_app:\n",
        "  print(\"Sarcastic\")\n",
        "else:\n",
        "  print(\"None-Sarcastic\")"
      ],
      "execution_count": 83,
      "outputs": [
        {
          "output_type": "stream",
          "text": [
            "Nhập vào headline cần kiểm tra!!!\n",
            "Medical Staff Share Cheerful Videos During Coronavirus\n",
            "None-Sarcastic\n"
          ],
          "name": "stdout"
        }
      ]
    },
    {
      "cell_type": "markdown",
      "metadata": {
        "id": "2pIKpmCPnYuQ",
        "colab_type": "text"
      },
      "source": [
        "#**Tham khảo**\n",
        "- Dataset : https://www.kaggle.com/rmisra/news-headlines-dataset-for-sarcasm-detection\n",
        "- Code : https://www.kaggle.com/ebshirani/tf-idf-random-forest-nb-logistic-reg-and-lstms"
      ]
    }
  ]
}