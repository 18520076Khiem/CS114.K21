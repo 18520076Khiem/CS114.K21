{
  "nbformat": 4,
  "nbformat_minor": 0,
  "metadata": {
    "colab": {
      "name": "Untitled28.ipynb",
      "provenance": [],
      "toc_visible": true,
      "authorship_tag": "ABX9TyOUZdwUJ1uQm+UvNqM3ThUv",
      "include_colab_link": true
    },
    "kernelspec": {
      "name": "python3",
      "display_name": "Python 3"
    }
  },
  "cells": [
    {
      "cell_type": "markdown",
      "metadata": {
        "id": "view-in-github",
        "colab_type": "text"
      },
      "source": [
        "<a href=\"https://colab.research.google.com/github/18520076Khiem/CS114.K21/blob/master/Sarcasm_Detection.ipynb\" target=\"_parent\"><img src=\"https://colab.research.google.com/assets/colab-badge.svg\" alt=\"Open In Colab\"/></a>"
      ]
    },
    {
      "cell_type": "markdown",
      "metadata": {
        "id": "CaNhvPj26GUY",
        "colab_type": "text"
      },
      "source": [
        "#**Danh sách thành viên**\n",
        "- 18521404 Lê Đại Thành\n",
        "- 18520076 Trần Đỗ Quốc Khiêm\n",
        "- 18521394 Nguyễn Hoàng Thắng"
      ]
    },
    {
      "cell_type": "markdown",
      "metadata": {
        "id": "eUnD6LDQ6Ieu",
        "colab_type": "text"
      },
      "source": [
        "#**Mô tả bài toán**\n",
        "-Giới thiệu bài toán: Hiện nay số lượng thông tin rất nhiều.Vấn nạn về việc lựa chọn tin tức chính xác để đọc là một vấn đề rất nan giải. Cho nên việc phân biệt đâu là thông tin chính thống đâu là thông tin châm biếm để không bị nhầm lẫn thật sự cần thiết. Do đó ý tưởng để cho máy tính có thể phân biệt đâu là thông tin chính xác có thể hữu dụng.\n",
        "\n",
        "- Phát biểu bài toán: Dự đoán bài báo có phải thông tin chính thống hay là thông tin có tính chất mỉa mai châm biếm dựa vào tiêu đề của bài báo\n",
        "\n",
        "- Thu thập dữ liệu data: Dựa trên hai trang web tin tức đó là:\n",
        "    - TheOnion chuyên về những tin tức có tính châm biến không chính thống\n",
        "    - HuffPost chuyên về những tin tức chính thống \n",
        "    - Nội dung dữ liệu bao gồm ba thuộc tính:\n",
        "      - is_sarcastic:\n",
        "        - 1 nếu dữ liệu là tin có tính châm biếm mỉa mai\n",
        "        - 0 nếu dữ liệu là tin chính thống\n",
        "      - headline: là tiêu đề của những bài báo\n",
        "      - article_link: liên kết đến bài báo đó\n",
        "- Input: Tiêu đề của bài báo.\n",
        "\n",
        "- Output: Bài báo có tính châm biếm hay không"
      ]
    },
    {
      "cell_type": "markdown",
      "metadata": {
        "id": "QD29ttsV6N-e",
        "colab_type": "text"
      },
      "source": [
        "#**Lấy datasets trên Kaggle**\n"
      ]
    },
    {
      "cell_type": "markdown",
      "metadata": {
        "id": "D5h-UfQ86PE0",
        "colab_type": "text"
      },
      "source": [
        "###Lấy và giải nén file data từ kaggle"
      ]
    },
    {
      "cell_type": "code",
      "metadata": {
        "id": "FDGdVU8f6SOD",
        "colab_type": "code",
        "colab": {
          "resources": {
            "http://localhost:8080/nbextensions/google.colab/files.js": {
              "data": "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",
              "ok": true,
              "headers": [
                [
                  "content-type",
                  "application/javascript"
                ]
              ],
              "status": 200,
              "status_text": ""
            }
          },
          "base_uri": "https://localhost:8080/",
          "height": 91
        },
        "outputId": "85eb9e0a-230d-4f4b-e746-a399b3c3b193"
      },
      "source": [
        "from google.colab import files\n",
        "files.upload()"
      ],
      "execution_count": 1,
      "outputs": [
        {
          "output_type": "display_data",
          "data": {
            "text/html": [
              "\n",
              "     <input type=\"file\" id=\"files-2efd1b7f-349f-42c5-8795-74a71814b04a\" name=\"files[]\" multiple disabled\n",
              "        style=\"border:none\" />\n",
              "     <output id=\"result-2efd1b7f-349f-42c5-8795-74a71814b04a\">\n",
              "      Upload widget is only available when the cell has been executed in the\n",
              "      current browser session. Please rerun this cell to enable.\n",
              "      </output>\n",
              "      <script src=\"/nbextensions/google.colab/files.js\"></script> "
            ],
            "text/plain": [
              "<IPython.core.display.HTML object>"
            ]
          },
          "metadata": {
            "tags": []
          }
        },
        {
          "output_type": "stream",
          "text": [
            "Saving kaggle.json to kaggle.json\n"
          ],
          "name": "stdout"
        },
        {
          "output_type": "execute_result",
          "data": {
            "text/plain": [
              "{'kaggle.json': b'{\"username\":\"trandoquockhiem\",\"key\":\"94f23ee7b4ed300f910aada801fc5b46\"}'}"
            ]
          },
          "metadata": {
            "tags": []
          },
          "execution_count": 1
        }
      ]
    },
    {
      "cell_type": "code",
      "metadata": {
        "id": "STpNufWM6TnW",
        "colab_type": "code",
        "colab": {
          "base_uri": "https://localhost:8080/",
          "height": 217
        },
        "outputId": "6f960b26-a21c-475f-9e8c-8d5e1a5d2d03"
      },
      "source": [
        "!pip install kaggle"
      ],
      "execution_count": 2,
      "outputs": [
        {
          "output_type": "stream",
          "text": [
            "Requirement already satisfied: kaggle in /usr/local/lib/python3.6/dist-packages (1.5.6)\n",
            "Requirement already satisfied: certifi in /usr/local/lib/python3.6/dist-packages (from kaggle) (2020.4.5.2)\n",
            "Requirement already satisfied: six>=1.10 in /usr/local/lib/python3.6/dist-packages (from kaggle) (1.12.0)\n",
            "Requirement already satisfied: urllib3<1.25,>=1.21.1 in /usr/local/lib/python3.6/dist-packages (from kaggle) (1.24.3)\n",
            "Requirement already satisfied: python-slugify in /usr/local/lib/python3.6/dist-packages (from kaggle) (4.0.0)\n",
            "Requirement already satisfied: requests in /usr/local/lib/python3.6/dist-packages (from kaggle) (2.23.0)\n",
            "Requirement already satisfied: tqdm in /usr/local/lib/python3.6/dist-packages (from kaggle) (4.41.1)\n",
            "Requirement already satisfied: python-dateutil in /usr/local/lib/python3.6/dist-packages (from kaggle) (2.8.1)\n",
            "Requirement already satisfied: text-unidecode>=1.3 in /usr/local/lib/python3.6/dist-packages (from python-slugify->kaggle) (1.3)\n",
            "Requirement already satisfied: idna<3,>=2.5 in /usr/local/lib/python3.6/dist-packages (from requests->kaggle) (2.9)\n",
            "Requirement already satisfied: chardet<4,>=3.0.2 in /usr/local/lib/python3.6/dist-packages (from requests->kaggle) (3.0.4)\n"
          ],
          "name": "stdout"
        }
      ]
    },
    {
      "cell_type": "code",
      "metadata": {
        "id": "QIxBAyXk6atU",
        "colab_type": "code",
        "colab": {}
      },
      "source": [
        "!mkdir -p ~/.kaggle\n",
        "!cp kaggle.json ~/.kaggle/\n",
        "!chmod 600 ~/.kaggle/kaggle.json"
      ],
      "execution_count": 3,
      "outputs": []
    },
    {
      "cell_type": "code",
      "metadata": {
        "id": "l59XwyDG6cOR",
        "colab_type": "code",
        "colab": {
          "base_uri": "https://localhost:8080/",
          "height": 435
        },
        "outputId": "ea35051f-13b5-4590-c3d3-5b728a2c8a56"
      },
      "source": [
        "!kaggle datasets list -s headlines"
      ],
      "execution_count": 4,
      "outputs": [
        {
          "output_type": "stream",
          "text": [
            "Warning: Looks like you're using an outdated API Version, please consider updating (server 1.5.6 / client 1.5.4)\n",
            "ref                                                  title                                          size  lastUpdated          downloadCount  \n",
            "---------------------------------------------------  --------------------------------------------  -----  -------------------  -------------  \n",
            "therohk/million-headlines                            A Million News Headlines                       20MB  2020-04-27 13:07:30          20140  \n",
            "rmisra/news-headlines-dataset-for-sarcasm-detection  News Headlines Dataset For Sarcasm Detection    3MB  2019-07-03 23:52:57          15561  \n",
            "therohk/india-headlines-news-dataset                 India Headlines News Dataset                   68MB  2019-04-12 02:46:04           3892  \n",
            "aaron7sun/stocknews                                  Daily News for Stock Market Prediction          6MB  2019-11-13 18:22:52          31163  \n",
            "rmisra/news-category-dataset                         News Category Dataset                          25MB  2018-12-02 04:09:45          13209  \n",
            "adnanzaidi/urdu-news-headlines                       Urdu / Hindi News Headlines                    64KB  2019-08-06 15:03:48            124  \n",
            "uciml/news-aggregator-dataset                        News Aggregator Dataset                        28MB  2016-10-31 22:22:55           9502  \n",
            "chrisfilo/onion-or-not                               Onion Or Not                                  887KB  2020-02-26 02:34:12            376  \n",
            "therohk/ireland-historical-news                      Irish Times - Waxy-Wany News                   49MB  2020-03-11 19:42:17           2692  \n",
            "marlesson/news-of-the-site-folhauol                  News of the Brazilian Newspaper               187MB  2019-06-05 03:33:51           1372  \n",
            "antmarakis/fake-news-data                            Fake News Data                                125MB  2019-07-27 12:11:57            697  \n",
            "ibadia/dawn-news-headlines                           Dawn News Headlines                           787KB  2020-03-04 20:18:14             91  \n",
            "ankurzing/sentiment-analysis-for-financial-news      Sentiment Analysis for Financial News         903KB  2020-05-27 18:38:15            935  \n",
            "sunnysai12345/news-summary                           NEWS SUMMARY                                   20MB  2019-11-13 06:29:30           4039  \n",
            "rmisra/clothing-fit-dataset-for-size-recommendation  Clothing Fit Dataset for Size Recommendation   40MB  2018-08-21 19:00:16           3112  \n",
            "therohk/examine-the-examiner                         The Examiner - Spam Clickbait Catalog         142MB  2020-06-14 10:40:21           1390  \n",
            "blogdish/election-news-headlines                     Election News Headlines                        18KB  2017-11-17 19:09:39             66  \n",
            "hkapoor/covid19-india-news-headlines-for-nlp         COVID-19 Indian News Headlines                851KB  2020-05-04 06:42:13             21  \n",
            "rmisra/imdb-spoiler-dataset                          IMDB Spoiler Dataset                          331MB  2019-05-22 04:44:43            877  \n",
            "snapcrack/all-the-news                               All the news                                  244MB  2017-08-20 05:58:47          16235  \n"
          ],
          "name": "stdout"
        }
      ]
    },
    {
      "cell_type": "code",
      "metadata": {
        "id": "HG5iBxGG6eOj",
        "colab_type": "code",
        "colab": {
          "base_uri": "https://localhost:8080/",
          "height": 72
        },
        "outputId": "0a421a47-1ecb-484d-80a1-a989e5b10817"
      },
      "source": [
        "!kaggle datasets download -d rmisra/news-headlines-dataset-for-sarcasm-detection"
      ],
      "execution_count": 5,
      "outputs": [
        {
          "output_type": "stream",
          "text": [
            "Downloading news-headlines-dataset-for-sarcasm-detection.zip to /content\n",
            "\r  0% 0.00/3.30M [00:00<?, ?B/s]\n",
            "\r100% 3.30M/3.30M [00:00<00:00, 109MB/s]\n"
          ],
          "name": "stdout"
        }
      ]
    },
    {
      "cell_type": "code",
      "metadata": {
        "id": "Vs-VGxUJ6gHr",
        "colab_type": "code",
        "colab": {
          "base_uri": "https://localhost:8080/",
          "height": 72
        },
        "outputId": "47f3dd59-9b20-4068-c366-1297732d11ef"
      },
      "source": [
        "!unzip news-headlines-dataset-for-sarcasm-detection.zip"
      ],
      "execution_count": 6,
      "outputs": [
        {
          "output_type": "stream",
          "text": [
            "Archive:  news-headlines-dataset-for-sarcasm-detection.zip\n",
            "  inflating: Sarcasm_Headlines_Dataset.json  \n",
            "  inflating: Sarcasm_Headlines_Dataset_v2.json  \n"
          ],
          "name": "stdout"
        }
      ]
    },
    {
      "cell_type": "code",
      "metadata": {
        "id": "FhaVuzr06i01",
        "colab_type": "code",
        "colab": {
          "base_uri": "https://localhost:8080/",
          "height": 108
        },
        "outputId": "19bf585a-4681-49cf-a773-9ff88add528d"
      },
      "source": [
        "ls"
      ],
      "execution_count": 7,
      "outputs": [
        {
          "output_type": "stream",
          "text": [
            "kaggle.json\n",
            "news-headlines-dataset-for-sarcasm-detection.zip\n",
            "\u001b[0m\u001b[01;34msample_data\u001b[0m/\n",
            "Sarcasm_Headlines_Dataset.json\n",
            "Sarcasm_Headlines_Dataset_v2.json\n"
          ],
          "name": "stdout"
        }
      ]
    },
    {
      "cell_type": "markdown",
      "metadata": {
        "id": "2xhyRN5Y6qLB",
        "colab_type": "text"
      },
      "source": [
        "###Dùng thư viện pandas để đọc dữ liệu"
      ]
    },
    {
      "cell_type": "code",
      "metadata": {
        "id": "TkDzPCJW6rMd",
        "colab_type": "code",
        "colab": {}
      },
      "source": [
        "import pandas as pd\n",
        "# đọc file data \n",
        "df1=pd.read_json('Sarcasm_Headlines_Dataset.json',lines=True)\n",
        "df2=pd.read_json('Sarcasm_Headlines_Dataset_v2.json',lines=True)"
      ],
      "execution_count": 8,
      "outputs": []
    },
    {
      "cell_type": "code",
      "metadata": {
        "id": "GDul-niL6sxT",
        "colab_type": "code",
        "colab": {
          "base_uri": "https://localhost:8080/",
          "height": 198
        },
        "outputId": "d7838655-dd60-416d-f107-a755b35eb123"
      },
      "source": [
        "# tạo dataset bằng việc nối 2 file dữ liệu đã được đọc \n",
        "df=pd.concat([df1,df2],axis=0,sort=False)\n",
        "df.head()"
      ],
      "execution_count": 9,
      "outputs": [
        {
          "output_type": "execute_result",
          "data": {
            "text/html": [
              "<div>\n",
              "<style scoped>\n",
              "    .dataframe tbody tr th:only-of-type {\n",
              "        vertical-align: middle;\n",
              "    }\n",
              "\n",
              "    .dataframe tbody tr th {\n",
              "        vertical-align: top;\n",
              "    }\n",
              "\n",
              "    .dataframe thead th {\n",
              "        text-align: right;\n",
              "    }\n",
              "</style>\n",
              "<table border=\"1\" class=\"dataframe\">\n",
              "  <thead>\n",
              "    <tr style=\"text-align: right;\">\n",
              "      <th></th>\n",
              "      <th>article_link</th>\n",
              "      <th>headline</th>\n",
              "      <th>is_sarcastic</th>\n",
              "    </tr>\n",
              "  </thead>\n",
              "  <tbody>\n",
              "    <tr>\n",
              "      <th>0</th>\n",
              "      <td>https://www.huffingtonpost.com/entry/versace-b...</td>\n",
              "      <td>former versace store clerk sues over secret 'b...</td>\n",
              "      <td>0</td>\n",
              "    </tr>\n",
              "    <tr>\n",
              "      <th>1</th>\n",
              "      <td>https://www.huffingtonpost.com/entry/roseanne-...</td>\n",
              "      <td>the 'roseanne' revival catches up to our thorn...</td>\n",
              "      <td>0</td>\n",
              "    </tr>\n",
              "    <tr>\n",
              "      <th>2</th>\n",
              "      <td>https://local.theonion.com/mom-starting-to-fea...</td>\n",
              "      <td>mom starting to fear son's web series closest ...</td>\n",
              "      <td>1</td>\n",
              "    </tr>\n",
              "    <tr>\n",
              "      <th>3</th>\n",
              "      <td>https://politics.theonion.com/boehner-just-wan...</td>\n",
              "      <td>boehner just wants wife to listen, not come up...</td>\n",
              "      <td>1</td>\n",
              "    </tr>\n",
              "    <tr>\n",
              "      <th>4</th>\n",
              "      <td>https://www.huffingtonpost.com/entry/jk-rowlin...</td>\n",
              "      <td>j.k. rowling wishes snape happy birthday in th...</td>\n",
              "      <td>0</td>\n",
              "    </tr>\n",
              "  </tbody>\n",
              "</table>\n",
              "</div>"
            ],
            "text/plain": [
              "                                        article_link  ... is_sarcastic\n",
              "0  https://www.huffingtonpost.com/entry/versace-b...  ...            0\n",
              "1  https://www.huffingtonpost.com/entry/roseanne-...  ...            0\n",
              "2  https://local.theonion.com/mom-starting-to-fea...  ...            1\n",
              "3  https://politics.theonion.com/boehner-just-wan...  ...            1\n",
              "4  https://www.huffingtonpost.com/entry/jk-rowlin...  ...            0\n",
              "\n",
              "[5 rows x 3 columns]"
            ]
          },
          "metadata": {
            "tags": []
          },
          "execution_count": 9
        }
      ]
    },
    {
      "cell_type": "markdown",
      "metadata": {
        "id": "IMozb4gQ6xUg",
        "colab_type": "text"
      },
      "source": [
        "## Xóa những headlines trùng ở dataf"
      ]
    },
    {
      "cell_type": "code",
      "metadata": {
        "id": "ZCqMO3Uo6u03",
        "colab_type": "code",
        "colab": {
          "base_uri": "https://localhost:8080/",
          "height": 407
        },
        "outputId": "acb16fbe-0928-4fd8-a368-22d101f8a3ee"
      },
      "source": [
        "df=df.drop_duplicates(['headline'])\n",
        "df"
      ],
      "execution_count": 10,
      "outputs": [
        {
          "output_type": "execute_result",
          "data": {
            "text/html": [
              "<div>\n",
              "<style scoped>\n",
              "    .dataframe tbody tr th:only-of-type {\n",
              "        vertical-align: middle;\n",
              "    }\n",
              "\n",
              "    .dataframe tbody tr th {\n",
              "        vertical-align: top;\n",
              "    }\n",
              "\n",
              "    .dataframe thead th {\n",
              "        text-align: right;\n",
              "    }\n",
              "</style>\n",
              "<table border=\"1\" class=\"dataframe\">\n",
              "  <thead>\n",
              "    <tr style=\"text-align: right;\">\n",
              "      <th></th>\n",
              "      <th>article_link</th>\n",
              "      <th>headline</th>\n",
              "      <th>is_sarcastic</th>\n",
              "    </tr>\n",
              "  </thead>\n",
              "  <tbody>\n",
              "    <tr>\n",
              "      <th>0</th>\n",
              "      <td>https://www.huffingtonpost.com/entry/versace-b...</td>\n",
              "      <td>former versace store clerk sues over secret 'b...</td>\n",
              "      <td>0</td>\n",
              "    </tr>\n",
              "    <tr>\n",
              "      <th>1</th>\n",
              "      <td>https://www.huffingtonpost.com/entry/roseanne-...</td>\n",
              "      <td>the 'roseanne' revival catches up to our thorn...</td>\n",
              "      <td>0</td>\n",
              "    </tr>\n",
              "    <tr>\n",
              "      <th>2</th>\n",
              "      <td>https://local.theonion.com/mom-starting-to-fea...</td>\n",
              "      <td>mom starting to fear son's web series closest ...</td>\n",
              "      <td>1</td>\n",
              "    </tr>\n",
              "    <tr>\n",
              "      <th>3</th>\n",
              "      <td>https://politics.theonion.com/boehner-just-wan...</td>\n",
              "      <td>boehner just wants wife to listen, not come up...</td>\n",
              "      <td>1</td>\n",
              "    </tr>\n",
              "    <tr>\n",
              "      <th>4</th>\n",
              "      <td>https://www.huffingtonpost.com/entry/jk-rowlin...</td>\n",
              "      <td>j.k. rowling wishes snape happy birthday in th...</td>\n",
              "      <td>0</td>\n",
              "    </tr>\n",
              "    <tr>\n",
              "      <th>...</th>\n",
              "      <td>...</td>\n",
              "      <td>...</td>\n",
              "      <td>...</td>\n",
              "    </tr>\n",
              "    <tr>\n",
              "      <th>28497</th>\n",
              "      <td>https://www.theonion.com/tyson-holds-contest-t...</td>\n",
              "      <td>tyson holds contest to let fans submit new ide...</td>\n",
              "      <td>1</td>\n",
              "    </tr>\n",
              "    <tr>\n",
              "      <th>28509</th>\n",
              "      <td>https://politics.theonion.com/increasingly-coc...</td>\n",
              "      <td>increasingly cocky bernie sanders announces he...</td>\n",
              "      <td>1</td>\n",
              "    </tr>\n",
              "    <tr>\n",
              "      <th>28520</th>\n",
              "      <td>https://www.theonion.com/cash-strapped-zuckerb...</td>\n",
              "      <td>cash-strapped zuckerberg forced to sell 11 mil...</td>\n",
              "      <td>1</td>\n",
              "    </tr>\n",
              "    <tr>\n",
              "      <th>28544</th>\n",
              "      <td>https://local.theonion.com/grocery-store-bar-a...</td>\n",
              "      <td>grocery store bar actually has great little ha...</td>\n",
              "      <td>1</td>\n",
              "    </tr>\n",
              "    <tr>\n",
              "      <th>28589</th>\n",
              "      <td>https://www.theonion.com/study-83-of-marathon-...</td>\n",
              "      <td>study: 83% of marathon spectators only attend ...</td>\n",
              "      <td>1</td>\n",
              "    </tr>\n",
              "  </tbody>\n",
              "</table>\n",
              "<p>28503 rows × 3 columns</p>\n",
              "</div>"
            ],
            "text/plain": [
              "                                            article_link  ... is_sarcastic\n",
              "0      https://www.huffingtonpost.com/entry/versace-b...  ...            0\n",
              "1      https://www.huffingtonpost.com/entry/roseanne-...  ...            0\n",
              "2      https://local.theonion.com/mom-starting-to-fea...  ...            1\n",
              "3      https://politics.theonion.com/boehner-just-wan...  ...            1\n",
              "4      https://www.huffingtonpost.com/entry/jk-rowlin...  ...            0\n",
              "...                                                  ...  ...          ...\n",
              "28497  https://www.theonion.com/tyson-holds-contest-t...  ...            1\n",
              "28509  https://politics.theonion.com/increasingly-coc...  ...            1\n",
              "28520  https://www.theonion.com/cash-strapped-zuckerb...  ...            1\n",
              "28544  https://local.theonion.com/grocery-store-bar-a...  ...            1\n",
              "28589  https://www.theonion.com/study-83-of-marathon-...  ...            1\n",
              "\n",
              "[28503 rows x 3 columns]"
            ]
          },
          "metadata": {
            "tags": []
          },
          "execution_count": 10
        }
      ]
    },
    {
      "cell_type": "markdown",
      "metadata": {
        "id": "-mikZFIk64MX",
        "colab_type": "text"
      },
      "source": [
        "##Lấy dữ liệu cột Headline và cột Is_sarcastic"
      ]
    },
    {
      "cell_type": "code",
      "metadata": {
        "id": "b1_1hlMF65CW",
        "colab_type": "code",
        "colab": {}
      },
      "source": [
        "X=df['headline']\n",
        "y=df['is_sarcastic']"
      ],
      "execution_count": 11,
      "outputs": []
    },
    {
      "cell_type": "markdown",
      "metadata": {
        "id": "0qtawxkq698u",
        "colab_type": "text"
      },
      "source": [
        "##*Biểu đồ thống kê số tiêu đề là châm biếm và không châm biếm**"
      ]
    },
    {
      "cell_type": "code",
      "metadata": {
        "id": "z3k1R37a66Yx",
        "colab_type": "code",
        "colab": {
          "base_uri": "https://localhost:8080/",
          "height": 371
        },
        "outputId": "8124773d-4f54-4528-f92f-aad7e21b6e2f"
      },
      "source": [
        "import matplotlib.pyplot as plt\n",
        "import seaborn as sns\n",
        "sns.countplot(x = \"is_sarcastic\", data = df)\n",
        "plt.title(\"Data Distribution\")"
      ],
      "execution_count": 12,
      "outputs": [
        {
          "output_type": "stream",
          "text": [
            "/usr/local/lib/python3.6/dist-packages/statsmodels/tools/_testing.py:19: FutureWarning: pandas.util.testing is deprecated. Use the functions in the public API at pandas.testing instead.\n",
            "  import pandas.util.testing as tm\n"
          ],
          "name": "stderr"
        },
        {
          "output_type": "execute_result",
          "data": {
            "text/plain": [
              "Text(0.5, 1.0, 'Data Distribution')"
            ]
          },
          "metadata": {
            "tags": []
          },
          "execution_count": 12
        },
        {
          "output_type": "display_data",
          "data": {
            "image/png": "[encoded data removed]",
            "text/plain": [
              "<Figure size 432x288 with 1 Axes>"
            ]
          },
          "metadata": {
            "tags": [],
            "needs_background": "light"
          }
        }
      ]
    },
    {
      "cell_type": "markdown",
      "metadata": {
        "id": "fmcAaaU87HgF",
        "colab_type": "text"
      },
      "source": [
        "#**Tiền xử lí dữ liệu**"
      ]
    },
    {
      "cell_type": "markdown",
      "metadata": {
        "id": "HJv01CHO7I9G",
        "colab_type": "text"
      },
      "source": [
        "- Ta sẽ sử dụng thư viện nltk để hỗ trợ việc xử lí dữ liệu dạng text \n",
        "  - Thư viện Natural Language Toolkit (tạm dịch là Bộ công cụ Ngôn ngữ Tự nhiên, viết tắt NLTK) là một nền tảng dẫn đầu để xây dựng các chương trình Python làm việc với dữ liệu ngôn ngữ của con người. Thư viện cung cấp giao diện dễ sử dụng với hơn 50 tài nguyên từ vựng và ngữ liệu (corpora), điển hình là WordNet cùng với các thư viện thích hợp để xử lý bài toán phân loại, token hóa (tokenization), tìm từ gốc (stemming),… Thư viện NLTK còn là công cụ tuyệt vời để giảng dạy và giải quyết các bài toán về tính toán ngôn ngữ sử dụng Python.\n",
        "\n",
        "- Trước hết ta sẽ tách các headline thành các token(từng chữ) bằng hàm RegexpTokenizer\n",
        "- Sau đó ta sẽ tìm kiếm các stopwords và loại bỏ chúng\n",
        "  - Stopword là gì? \n",
        "    - Stopword là những từ trong câu khi mất đi không gây ảnh hưởng đến nghĩa của câu.\n",
        "    - Những stopword này đã được thống kê trong corpus của thư viện nltk.\n",
        "- Tiếp đến sử dụng hàm PorterStemmer để đưa các token về dạng chuẩn của từ đó \n",
        "- Sau khi tiến hành xong các bước trên ta sẽ dùng thư viện TfidfVectorizer của sklearn để chuyển các token thành các ma trận TF-IDF và sử dụng hàm fit_transforms để tính tần suất xuất hiện của token này trong câu\n",
        "  - tf–idf(term frequency – inverse document frequence) của một từ ,là một con số thu được qua thống kê thể hiện mức độ quan trọng của từ này trong một văn bản, mà bản thân văn bản đang xét nằm trong một tập hợp các văn bản.\n",
        "- Cuối cùng tiến hành chia dữ liệu thành 2 phần train và test để tránh model bị overfitting"
      ]
    },
    {
      "cell_type": "code",
      "metadata": {
        "id": "5q2pFQ6X7FX2",
        "colab_type": "code",
        "colab": {
          "base_uri": "https://localhost:8080/",
          "height": 72
        },
        "outputId": "f5378935-d2f2-4ac6-88d8-08283b4b525c"
      },
      "source": [
        "# import thư viện nltk và tiến hành download các stopword từ corpus\n",
        "import nltk\n",
        "nltk.download('stopwords')"
      ],
      "execution_count": 13,
      "outputs": [
        {
          "output_type": "stream",
          "text": [
            "[nltk_data] Downloading package stopwords to /root/nltk_data...\n",
            "[nltk_data]   Unzipping corpora/stopwords.zip.\n"
          ],
          "name": "stdout"
        },
        {
          "output_type": "execute_result",
          "data": {
            "text/plain": [
              "True"
            ]
          },
          "metadata": {
            "tags": []
          },
          "execution_count": 13
        }
      ]
    },
    {
      "cell_type": "markdown",
      "metadata": {
        "id": "LLitVYHI7UPg",
        "colab_type": "text"
      },
      "source": [
        "## Hàm xóa stopwords ra khỏi data:\n"
      ]
    },
    {
      "cell_type": "code",
      "metadata": {
        "id": "j2HmnkHv7OaB",
        "colab_type": "code",
        "colab": {}
      },
      "source": [
        "from nltk.tokenize import RegexpTokenizer\n",
        "from nltk.corpus import stopwords\n",
        "from nltk.stem import PorterStemmer \n",
        "# hàm xóa stopwords\n",
        "\n",
        "# lấy các stopwords của tiếng anh từ thư viện \n",
        "stop_words =set(stopwords.words(\"english\"))\n",
        "\n",
        "# sử dụng hàm PorterStemmer của thư viện nltk để đưa các từ về dạng chuẩn.\n",
        "  # ví dụ như walk , walked , walking đều chuẩn hóa về thành walk.\n",
        "stemmer = PorterStemmer()\n",
        "\n",
        "# dùng RegexpTokenizer để chia các headline thành các token\n",
        "tokenizer = RegexpTokenizer(r'\\w+')\n",
        "\n",
        "#Hàm xóa stopwords \n",
        "def preprocess(text):\n",
        "  word_list = []\n",
        "\n",
        "  # tách thành các token của headline \n",
        "  tok = tokenizer.tokenize(text)\n",
        "\n",
        "  # tìm xem trong các token này có từ nào là stopword không nếu phải loại bỏ , nếu không đưa chúng về dạng chuẩn\n",
        "  for word in tok:\n",
        "    if word not in stop_words:\n",
        "      word_list.append(stemmer.stem(word))\n",
        "\n",
        "  return \" \".join(word_list)\n"
      ],
      "execution_count": 14,
      "outputs": []
    },
    {
      "cell_type": "markdown",
      "metadata": {
        "id": "Yr58c-TZ7aCt",
        "colab_type": "text"
      },
      "source": [
        "## Tiến hành xóa những stopwords ra khỏi Data"
      ]
    },
    {
      "cell_type": "code",
      "metadata": {
        "id": "gn8UYOBO7Xtx",
        "colab_type": "code",
        "colab": {
          "base_uri": "https://localhost:8080/",
          "height": 126
        },
        "outputId": "9696252d-b0c7-4830-c16c-0ddb8d5c7cc7"
      },
      "source": [
        "# preprocess dữ liệu cần train \n",
        "x_data = X.apply(preprocess)\n",
        "x_data.tail()"
      ],
      "execution_count": 15,
      "outputs": [
        {
          "output_type": "execute_result",
          "data": {
            "text/plain": [
              "28497    tyson hold contest let fan submit new idea tor...\n",
              "28509    increasingli cocki berni sander announc take d...\n",
              "28520    cash strap zuckerberg forc sell 11 million fac...\n",
              "28544    groceri store bar actual great littl happi hou...\n",
              "28589    studi 83 marathon spectat attend sick thrill w...\n",
              "Name: headline, dtype: object"
            ]
          },
          "metadata": {
            "tags": []
          },
          "execution_count": 15
        }
      ]
    },
    {
      "cell_type": "markdown",
      "metadata": {
        "id": "1VZajJSg7e9p",
        "colab_type": "text"
      },
      "source": [
        "## Xử lí dữ liệu chuyển đổi ngôn ngữ tự nhiên thành  thành ma trận TF-IDF "
      ]
    },
    {
      "cell_type": "code",
      "metadata": {
        "id": "rb-CT2m07cTW",
        "colab_type": "code",
        "colab": {
          "base_uri": "https://localhost:8080/",
          "height": 54
        },
        "outputId": "7cbe70e1-77de-4958-9dd1-a053e15e483b"
      },
      "source": [
        "from sklearn.feature_extraction.text import TfidfVectorizer\n",
        "\n",
        "# sử dụng hàm TfidfVectorizer để chuyển các token thành các ma trận tf-idf feature.\n",
        "vectorizer = TfidfVectorizer()\n",
        "\n",
        "# sử dụng hàm fit_transform để tìm tần suất xuất hiện của token trong câu\n",
        "x_data_tfidf=vectorizer.fit_transform(x_data)\n",
        "\n",
        "x_data_tfidf"
      ],
      "execution_count": 16,
      "outputs": [
        {
          "output_type": "execute_result",
          "data": {
            "text/plain": [
              "<28503x17940 sparse matrix of type '<class 'numpy.float64'>'\n",
              "\twith 205584 stored elements in Compressed Sparse Row format>"
            ]
          },
          "metadata": {
            "tags": []
          },
          "execution_count": 16
        }
      ]
    },
    {
      "cell_type": "markdown",
      "metadata": {
        "id": "IXPIYbio7kpv",
        "colab_type": "text"
      },
      "source": [
        "### Công thức tính tfidf của một từ: tfidf=tf(t,d)*idf(t,D) với TF(t, d) = ( số lần từ t xuất hiện trong văn bản d) / (tổng số từ trong văn bản d) và IDF(t, D) = log_e( Tổng số văn bản trong tập mẫu D/ Số văn bản có chứa từ t )"
      ]
    },
    {
      "cell_type": "markdown",
      "metadata": {
        "id": "W2FcLd7N7w5w",
        "colab_type": "text"
      },
      "source": [
        "##Chia dữ liệu thành 70% để train 30% để test ,sử dụng tham số random_state để để đảm bảo dữ liệu train và test một cách ngẫu nhiên"
      ]
    },
    {
      "cell_type": "code",
      "metadata": {
        "id": "kMNIyhtA7huu",
        "colab_type": "code",
        "colab": {}
      },
      "source": [
        "from sklearn.model_selection import train_test_split\n",
        "X_train, X_test, y_train, y_test = train_test_split(x_data_tfidf, df['is_sarcastic'].values, test_size=0.3, random_state=42)"
      ],
      "execution_count": 17,
      "outputs": []
    },
    {
      "cell_type": "markdown",
      "metadata": {
        "id": "OOSxHt1-71va",
        "colab_type": "text"
      },
      "source": [
        "#**Chọn model để train cho data**"
      ]
    },
    {
      "cell_type": "markdown",
      "metadata": {
        "id": "XYCRi09f75EX",
        "colab_type": "text"
      },
      "source": [
        "## DecisionTree"
      ]
    },
    {
      "cell_type": "code",
      "metadata": {
        "id": "RXhq_XN97zmf",
        "colab_type": "code",
        "colab": {
          "base_uri": "https://localhost:8080/",
          "height": 35
        },
        "outputId": "267dcc6c-7f45-4c74-8e6e-840e93c03658"
      },
      "source": [
        "from sklearn.metrics import f1_score\n",
        "from sklearn.tree import DecisionTreeClassifier\n",
        "\n",
        "dt=DecisionTreeClassifier()\n",
        "dt.fit(X_train,y_train)\n",
        "predict=dt.predict(X_test)\n",
        "\n",
        "print(f\"Test Score : {f1_score(y_test, predict)}\")"
      ],
      "execution_count": 18,
      "outputs": [
        {
          "output_type": "stream",
          "text": [
            "Test Score : 0.6981898780938308\n"
          ],
          "name": "stdout"
        }
      ]
    },
    {
      "cell_type": "markdown",
      "metadata": {
        "id": "dlwgjo91786O",
        "colab_type": "text"
      },
      "source": [
        "## K-Nearest neighbors"
      ]
    },
    {
      "cell_type": "code",
      "metadata": {
        "id": "j5YTjwMu78Fe",
        "colab_type": "code",
        "colab": {
          "base_uri": "https://localhost:8080/",
          "height": 35
        },
        "outputId": "50f09e70-7fa0-4560-80ad-aea616a258e6"
      },
      "source": [
        "from sklearn.neighbors import KNeighborsClassifier\n",
        "KN=KNeighborsClassifier()\n",
        "KN.fit(X_train,y_train)\n",
        "predict=KN.predict(X_test)\n",
        "\n",
        "print(f\"Test Score : {f1_score(y_test, predict)}\")"
      ],
      "execution_count": 19,
      "outputs": [
        {
          "output_type": "stream",
          "text": [
            "Test Score : 0.5236279224009285\n"
          ],
          "name": "stdout"
        }
      ]
    },
    {
      "cell_type": "markdown",
      "metadata": {
        "id": "0eiN9_0i8Der",
        "colab_type": "text"
      },
      "source": [
        "## Naive Bayes Classifier:"
      ]
    },
    {
      "cell_type": "code",
      "metadata": {
        "id": "9vIhbb818Am7",
        "colab_type": "code",
        "colab": {
          "base_uri": "https://localhost:8080/",
          "height": 35
        },
        "outputId": "04cbcb15-01ed-4b70-e4ce-6b41f8aac7d4"
      },
      "source": [
        "from sklearn.naive_bayes import BernoulliNB\n",
        "BernModel = BernoulliNB()\n",
        "BernModel.fit(X_train, y_train)\n",
        "predict=BernModel.predict(X_test)\n",
        "\n",
        "print(f\"Test Score : {f1_score(y_test, predict)}\")"
      ],
      "execution_count": 20,
      "outputs": [
        {
          "output_type": "stream",
          "text": [
            "Test Score : 0.777834008097166\n"
          ],
          "name": "stdout"
        }
      ]
    },
    {
      "cell_type": "markdown",
      "metadata": {
        "id": "oyTKTb0X8Ief",
        "colab_type": "text"
      },
      "source": [
        "## Logistic Regression:"
      ]
    },
    {
      "cell_type": "code",
      "metadata": {
        "id": "AAKKP_UA8Fay",
        "colab_type": "code",
        "colab": {
          "base_uri": "https://localhost:8080/",
          "height": 35
        },
        "outputId": "37a51e16-0c0c-4e51-881a-4845dea9e478"
      },
      "source": [
        "from sklearn.linear_model import LogisticRegression\n",
        "LogModel = LogisticRegression()\n",
        "LogModel.fit(X_train,y_train)\n",
        "predict=LogModel.predict(X_test)\n",
        "\n",
        "print(f\"Test Score : {f1_score(y_test, predict)}\")"
      ],
      "execution_count": 21,
      "outputs": [
        {
          "output_type": "stream",
          "text": [
            "Test Score : 0.7663763725861417\n"
          ],
          "name": "stdout"
        }
      ]
    },
    {
      "cell_type": "markdown",
      "metadata": {
        "id": "I38r-_4g8QwD",
        "colab_type": "text"
      },
      "source": [
        "## Random Forest Classifier:"
      ]
    },
    {
      "cell_type": "code",
      "metadata": {
        "id": "CaLOqEeB8KSe",
        "colab_type": "code",
        "colab": {
          "base_uri": "https://localhost:8080/",
          "height": 35
        },
        "outputId": "412a5312-cae4-4f60-ef06-9c9f664284ee"
      },
      "source": [
        "from sklearn.ensemble import RandomForestClassifier\n",
        "rf_model = RandomForestClassifier()\n",
        "rf_model.fit(X_train,y_train)\n",
        "predict=rf_model.predict(X_test)\n",
        "\n",
        "print(f\"Test Score : {f1_score(y_test, predict)}\")"
      ],
      "execution_count": 22,
      "outputs": [
        {
          "output_type": "stream",
          "text": [
            "Test Score : 0.728633320204805\n"
          ],
          "name": "stdout"
        }
      ]
    },
    {
      "cell_type": "markdown",
      "metadata": {
        "id": "G9eqcHk68VrZ",
        "colab_type": "text"
      },
      "source": [
        "## Vẻ biểu đồ trực quan dữ liệu test trên model BernoulliNB"
      ]
    },
    {
      "cell_type": "code",
      "metadata": {
        "id": "JnQIYIxs8TEo",
        "colab_type": "code",
        "colab": {}
      },
      "source": [
        "from sklearn import metrics\n",
        "pred = BernModel.predict(X_test)\n",
        "cm=metrics.confusion_matrix(y_test,pred)\n",
        "cm = pd.DataFrame(cm, index = [\"Fake\", \"True\"], columns=[\"Fake\", \"True\"])\n",
        "sns.heatmap(cm, annot = True)\n",
        "plt.title(\"Confusion Matrix for Random Forest Classifier\")"
      ],
      "execution_count": null,
      "outputs": []
    },
    {
      "cell_type": "markdown",
      "metadata": {
        "id": "n65qq5q28b3H",
        "colab_type": "text"
      },
      "source": [
        "## Cách chọn model để train"
      ]
    },
    {
      "cell_type": "markdown",
      "metadata": {
        "id": "QMq2aAj18dpi",
        "colab_type": "text"
      },
      "source": [
        "- Bài toán này biết trước label nên nó sẽ thuộc về supervised learning.\n",
        "- Khi quan sát dữ liệu ta thấy label của ta được chia thành 2 nhóm là 1 và 0, dữ liệu đầu ra không liên tục  nên ta sẽ dùng các model classification để giải bài toán này.\n",
        "- Vì các label có dạng 0 và 1 nên ta sẽ ưu tiên hàm model xử lí dạng binary, decision hay các model để xác lí dạng text .\n",
        "- Trong bài toán này ta sẽ sử dụng một số model như\n",
        "\t- DecisionTree:\n",
        "\t\t- Decision tree là một mô hình supervised learning, có thể được áp dụng vào cả hai bài toán classification và regression.\n",
        "\t\t- Việc xây dựng một decision tree trên dữ liệu huấn luyện cho trước là việc đi xác định các câu hỏi và thứ tự của chúng.\n",
        "\t- K-Nearest neighbors\n",
        "\t\t- K-nearest neighbor là một trong những thuật toán supervised-learning đơn giản nhất.\n",
        "\t\t- Khi training, thuật toán này không học một điều gì từ dữ liệu training , mọi tính toán được thực hiện khi nó cần dự đoán kết quả của dữ liệu mới. \n",
        "\t- Naive Bayes Classifier\n",
        "\t\t- Naive Bayes Classifiers (NBC) thường được sử dụng trong các bài toán Text Classification.\n",
        "\t\t- Là thuật toán tiêu biểu phân loại dựa trên lý thuyết xác suất.\n",
        "\t- Logistic Regression\n",
        "\t\t- Logistic Regression là model có dạng tuyến tính \n",
        "\t\t- Nó thực hiện dựa trên hàm y = f(w^Tx)\n",
        "\t- Random Forest Classifier.\n",
        "\t\t- là phương pháp xây dựng một tập hợp rất nhiều cây quyết định và sử dụng phương pháp voting để đưa ra quyết định về biến target cần được dự báo\n",
        "- Sau khi train cho các model này xong ta sẽ đánh giá model thông qua hàm score (độ chính xác) trên tập train và tập test để chọn ra model tốt nhất"
      ]
    },
    {
      "cell_type": "markdown",
      "metadata": {
        "id": "fxg5AfRq8jgi",
        "colab_type": "text"
      },
      "source": [
        "# **Thu thập dữ liệu từ 2 trang web :** \n",
        "  - HuffPost : non-sarcastic\n",
        "  - TheOnion : sarcastic"
      ]
    },
    {
      "cell_type": "markdown",
      "metadata": {
        "id": "bDnYWEC98kw3",
        "colab_type": "text"
      },
      "source": [
        "####**import thư viện :**\n",
        "  - Request : gửi yêu cầu đến url\n",
        "  - urlopen : mở url\n",
        "  - BeautifulSoup : lấy headline từ các thẻ trong source của url"
      ]
    },
    {
      "cell_type": "code",
      "metadata": {
        "id": "dtseWHGn8clK",
        "colab_type": "code",
        "colab": {}
      },
      "source": [
        "from urllib.request import Request , urlopen \n",
        "from bs4 import BeautifulSoup"
      ],
      "execution_count": 23,
      "outputs": []
    },
    {
      "cell_type": "markdown",
      "metadata": {
        "id": "nOCo6GKV8sMA",
        "colab_type": "text"
      },
      "source": [
        "##**Scrap dữ liệu từ trang HuffPost**\n",
        "- Ý tưởng : Scrap dữ liệu từng tab trong mục News của trang HuffPost UK\n",
        "- Thực hiện :\n",
        "  - Sử dụng vòng for để kiểm soát số tab cần scrap để tránh dữ liệu quá ít hoặc quá nhiều\n",
        "  - Sau khi tìm được url của website cần scrap thì ta sẽ gửi yêu cầu đến url đó \n",
        "  - Tiếp đến mở url vừa được yêu cầu\n",
        "  - Sử dụng BeautifullSoup để lấy source của website vừa mới được mở \n",
        "  - Một đoạn code chứa headline : **Judge Rejects White House Demand To Block John Bolton's New Book**\n",
        "\n",
        "      ```<a class=\"card__link yr-card-headline\" href=\"/entry/john-bolton-white-house-trump-book_uk_5eee269bc5b697d43e591553?utm_hp_ref=uk-news\" target=\"_self\" data-cpid=\"0d6874cb-8dbc-355e-89b3-76c1cbedf86a\" data-rapid-pos=\"2\" data-ylk=\"cpos:18;pos:2;elm:hdln;g:0d6874cb-8dbc-355e-89b3-76c1cbedf86a\" data-rapid-sec=\"{&quot;col2&quot;:&quot;col2&quot;}\" data-rapid-elm=\"hdln\" data-rapid-g=\"0d6874cb-8dbc-355e-89b3-76c1cbedf86a\" data-rapid_p=\"37\" data-v9y=\"1\">Judge Rejects White House Demand To Block John Bolton's New Book</a>```\n",
        "\n",
        "  - Sau khi lấy được source của web, ta quan sát thấy các headline của trang này nằm trong thẻ <\\a> với class_name = card__link yr-card-headline \n",
        "  - Vì thế ta dùng hàm find_all của thư viện BeautifullSoup để lấy ra tất các thẻ này\n",
        "  - Tiếp theo ta tách headline bằng hàm text \n",
        "  - Cuối cùng kiểm tra xem headline vừa mới lấy ra có nằm trong Data chưa , nếu chưa thì đẩy nó và label của dữ liệu này là 0 vào data\n",
        "- Kết quả : từ 50 tab của mục News ta lấy được 1600 headline"
      ]
    },
    {
      "cell_type": "code",
      "metadata": {
        "id": "BKeANEo084QJ",
        "colab_type": "code",
        "colab": {}
      },
      "source": [
        "# scrap data form HuffPost\n",
        "huff_data = []\n",
        "\n",
        "# sử dụng vòng lặp để load trang tiếp theo trong phần news \n",
        "for i in range(50):\n",
        "\n",
        "  # định dạng url của phần news trong trang HuffPost với i tương ứng với số trang\n",
        "  url = 'https://www.huffingtonpost.co.uk/news/'+ str(i) +'/?guccounter=2'\n",
        "\n",
        "  # gửi request HTTP 1.1 đến url với header tự chỉnh \n",
        "  req = Request(url,headers={'User-Agent': 'ScrapData/3.0'})\n",
        "\n",
        "  # mở url với thời gian chờ là 10s \n",
        "  page = urlopen(req,timeout=10)\n",
        "\n",
        "  # sử dụng BeautifulSoup để lấy source của website với định dạng văn bản html\n",
        "  soup = BeautifulSoup(page,\"html.parser\")\n",
        "\n",
        "  # sử dụng hàm find_all để tìm tất cả thẻ a có name_class : card__link yr-card-headline\n",
        "  headlines = soup.find_all('a',attrs={'class':'card__link yr-card-headline'})\n",
        "\n",
        "  # tách headline từ thẻ và gán label cho nó \n",
        "  for hl in range(len(headlines)):\n",
        "\n",
        "    # hàm text sẽ lấy ra phần text trong thẻ \n",
        "    headline = headlines[hl].text\n",
        "\n",
        "    # kiểm tra headline có tồn tại trong data chưa \n",
        "    if headline not in huff_data:\n",
        "      data = [headline,0]\n",
        "      huff_data.append(data)"
      ],
      "execution_count": 24,
      "outputs": []
    },
    {
      "cell_type": "code",
      "metadata": {
        "id": "h2CKinGU87Ca",
        "colab_type": "code",
        "colab": {
          "base_uri": "https://localhost:8080/",
          "height": 74
        },
        "outputId": "51bc17ad-920f-475f-bc28-4a95f102d348"
      },
      "source": [
        "print(huff_data[:10])\n",
        "print(len(huff_data))"
      ],
      "execution_count": 25,
      "outputs": [
        {
          "output_type": "stream",
          "text": [
            "[['Running For Reelection, Trump Talks Like He’s Running For President Of The Confederacy', 0], ['I’m A Black Midwife, And I’m Tired Of Women Like Me Receiving Worse Healthcare', 0], ['What Is PizzaGate And Why Does Robbie Williams Think It Might Be True?', 0], ['The Calls From Children The NSPCC Receive Every Hour During Lockdown', 0], ['Shame, Stigma And Stereotypes: How Child Sexual Abuse In Ethnic Minorities Is Being Hidden', 0], [\"Coronavirus: Medical Experts Issue Warning Over Government's Antibody Tests\", 0], ['US Daily Coronavirus Cases Once Again At Peak As Lockdown Measures Lift', 0], [\"Tory Donor Pressured Robert Jenrick To Approve Housing Plan With Swipe At 'Marxist' Council\", 0], ['The Pandemic May Be Causing Children PTSD', 0], ['UK Records 154 More Coronavirus Deaths In 24 Hours As Latest Care Home Data Released', 0]]\n",
            "1600\n"
          ],
          "name": "stdout"
        }
      ]
    },
    {
      "cell_type": "markdown",
      "metadata": {
        "id": "HD9kVs1Z898W",
        "colab_type": "text"
      },
      "source": [
        "####**Scrap dữ liệu từ trang TheOnion**\n",
        "- Ý tưởng : tương tự trang HuffPost lấy dữ liệu của từng tab của mục News-in-Brief\n",
        "- Thực hiện : \n",
        "   - Khá giống với scrap dữ liệu của trang HuffPost\n",
        "   - Tuy nhiên phần url của tab mới có dạng url gốc + 1 chuỗi ứng với tab đó \n",
        "   - Code của một More-Stroies button:\n",
        "\n",
        "    ```<a class=\"sc-1out364-0 hMndXN js_link\" data-ga=\"[[&quot;Story type page click&quot;,&quot;More stories click&quot;]]\" href=\"?startTime=1592331480884\" rel=\"next\"><button class=\"j48i5d-2 fUFqcv button button--tertiary\"><div class=\"j48i5d-1 fuDdQ\"><span class=\"j48i5d-0 keLEgo\">More stories</span><span class=\"iyvn34-0 bYIjtl\"><svg xmlns=\"http://www.w3.org/2000/svg\" width=\"18\" height=\"18\" aria-label=\"ChevronRight icon\" viewBox=\"0 0 18 18\"><path fill-rule=\"evenodd\" d=\"M6.16 14.13a.5.5 0 1 0 .68.74l6-5.5a.5.5 0 0 0 0-.74l-6-5.5a.5.5 0 1 0-.68.74L11.76 9l-5.6 5.13z\"></path></svg></span></div></button></a>```\n",
        "\n",
        "   - Từ đây có thể thấy tail_url tab tiếp theo nằm trong href (?startTime=1592331480884)\n",
        "   - Ta có thể tìm thông qua thẻ a và class_name = sc-1out364-0 hMndXN js_link tuy nhiên khi quan sát source có rất nhiều thẻ với class_name như vậy\n",
        "   - Vì thế ta sẽ tìm thông qua data-ga=\"[[&quot;Story type page click&quot;,&quot;More stories click&quot;]]\"\n",
        "   -Từ đó có thể dùng hàm get('href') để lấy tail_url\n",
        "   - Kiểm tra và đẩy dữ liệu vào data với label = 1\n",
        "- Kết quả : sau khi scrap 80 tab ta cũng thu được 1600 headline "
      ]
    },
    {
      "cell_type": "code",
      "metadata": {
        "id": "KaXeWvd29AgJ",
        "colab_type": "code",
        "colab": {}
      },
      "source": [
        "# scrap dữ liệu từ trang onion\n",
        "onion_data= []\n",
        "\n",
        "# đuôi url của mỗi tab \n",
        "tail_url = ''\n",
        "\n",
        "# Sử dụng vòng lặp để scrap từng tab\n",
        "for i in range(80):\n",
        "  # url có định dạng url gốc của mục news-in-brief cộng với tail_url của mỗi tab, tab đầu tiên có đuôi trong từ tab 2 đuôi url sẽ ứng với 1 chuỗi số \n",
        "  url = 'https://www.theonion.com/c/news-in-brief' + tail_url\n",
        "\n",
        "  # gửi yêu cầu đến url\n",
        "  req = Request(url, headers={'ScrapData':'XYZ/3.0'})\n",
        "\n",
        "  # mở url\n",
        "  page = urlopen(req,timeout=10)\n",
        "\n",
        "  # lấy source của web\n",
        "  soup = BeautifulSoup(page,'html.parser')\n",
        "\n",
        "  # tìm tất cả thẻ h2 với class_name = sc-759qgu-0 cYlVdn cw4lnv-6 eXwNRE\n",
        "  headlines = soup.find_all('h2',attrs={'class':'sc-759qgu-0 cYlVdn cw4lnv-6 eXwNRE'})\n",
        "\n",
        "  # tách headline và gắn label\n",
        "  for hl in range(len(headlines)):\n",
        "\n",
        "    # tách headline \n",
        "    headline = headlines[hl].text\n",
        "\n",
        "    # kiểm tra headline có tồn tại trong data chưa \n",
        "    if headline not in onion_data:\n",
        "      data = [headline,1]\n",
        "      onion_data.append(data)\n",
        "\n",
        "  # lấy tail_url của tab tiếp theo nằm trong href của thẻ a với data-ga = [[\"Story type page click\",\"More stories click\"]]\n",
        "  # sử dụng hàm get('href') để lấy dữ liệu của href \n",
        "  tail_url = str(soup.find('a',attrs={'data-ga':'[[\"Story type page click\",\"More stories click\"]]'}).get('href'))"
      ],
      "execution_count": 26,
      "outputs": []
    },
    {
      "cell_type": "code",
      "metadata": {
        "id": "Iv81g_dV9Ipx",
        "colab_type": "code",
        "colab": {
          "base_uri": "https://localhost:8080/",
          "height": 74
        },
        "outputId": "aec85dd4-2580-4416-bd90-7352a3febb36"
      },
      "source": [
        "print(onion_data[:10])\n",
        "print(len(onion_data))"
      ],
      "execution_count": 28,
      "outputs": [
        {
          "output_type": "stream",
          "text": [
            "[['Heaven Flush With Cash After Trump Administration Sends $1.4 Billion In Stimulus To Dead Americans', 1], ['Jilted Lover Keying Cheater’s Car Realizes She Should Have Started Further Over', 1], ['Nancy Pelosi Calls Jamaal Bowman To Scold Him For Winning Primary', 1], ['Gamers, We Just Spent 4 Days Trapped In A Rolled-Over Minivan And We’re Genuinely Pissed That Nobody Reported Us Missing When We Didn’t Cover The ‘Ratchet & Clank’ News', 1], ['Defiant Florida Officials Announce They Will Ignore Saudi Government Lockdown By Holding Hajj To Mecca', 1], ['Employee Leaves Performance Review With Clear, Identifiable Goal Of Surrendering To The Void', 1], ['Officials Warn Defunding Police Could Lead To Spike In Crime From Ex-Officers With No Outlet For Violence', 1], ['Realtor Thinks Flourishing Neighborhood Full Of Middle-Class Latino Families Has Real Turnaround Potential', 1], ['Study Finds Gap Widening Between Rich Pets And Poor Americans', 1], ['Heavily Armed Self-Help Gurus Demand America Reopens Their Hearts', 1]]\n",
            "1600\n"
          ],
          "name": "stdout"
        }
      ]
    },
    {
      "cell_type": "markdown",
      "metadata": {
        "id": "PfoW99hq9Sa6",
        "colab_type": "text"
      },
      "source": [
        "##**Ghi dữ liệu vào file CSV**\n",
        "- Mount đến drive để lấy tệp cần ghi vào\n",
        "- Dùng thư viện csv để chuyển data từ dạng list sang csv"
      ]
    },
    {
      "cell_type": "code",
      "metadata": {
        "id": "TnDhxYZC9WU4",
        "colab_type": "code",
        "colab": {
          "base_uri": "https://localhost:8080/",
          "height": 128
        },
        "outputId": "729c8aae-faaa-4bba-8f4a-01fd403beb25"
      },
      "source": [
        "from google.colab import drive\n",
        "drive.mount('/content/drive')"
      ],
      "execution_count": 27,
      "outputs": [
        {
          "output_type": "stream",
          "text": [
            "Go to this URL in a browser: https://accounts.google.com/o/oauth2/auth?client_id=947318989803-6bn6qk8qdgf4n4g3pfee6491hc0brc4i.apps.googleusercontent.com&redirect_uri=urn%3aietf%3awg%3aoauth%3a2.0%3aoob&response_type=code&scope=email%20https%3a%2f%2fwww.googleapis.com%2fauth%2fdocs.test%20https%3a%2f%2fwww.googleapis.com%2fauth%2fdrive%20https%3a%2f%2fwww.googleapis.com%2fauth%2fdrive.photos.readonly%20https%3a%2f%2fwww.googleapis.com%2fauth%2fpeopleapi.readonly\n",
            "\n",
            "Enter your authorization code:\n",
            "··········\n",
            "Mounted at /content/drive\n"
          ],
          "name": "stdout"
        }
      ]
    },
    {
      "cell_type": "code",
      "metadata": {
        "id": "fBL826oR9W0n",
        "colab_type": "code",
        "colab": {}
      },
      "source": [
        "# impor thư viện csv\n",
        "import csv\n",
        "\n",
        "# các header của dữ liệu\n",
        "Headers = [[ \"Headline\", \"label\"]]\n",
        "\n",
        "# mở tệp Headlines_Data trong Drive với chế độ ghi\n",
        "with open('/content/drive/My Drive/Sarcasm/Headline_sarcasm.txt', 'w', newline='') as file:\n",
        "  # Sử dụng hàm writer để thực hiện ghi vào file   \n",
        "    writer = csv.writer(file)\n",
        "\n",
        "  # sử dụng wrirerows để ghi thành nhiều cột \n",
        "    \n",
        "\n",
        "    # ghi onion data\n",
        "    writer.writerows(onion_data)\n",
        "\n",
        "    # ghi huffpost data\n",
        "    writer.writerows(huff_data)"
      ],
      "execution_count": 47,
      "outputs": []
    },
    {
      "cell_type": "markdown",
      "metadata": {
        "id": "kxYU_Z3wC9J9",
        "colab_type": "text"
      },
      "source": [
        "### Link Data Test: https://drive.google.com/file/d/1sb2zD_dya4d-JGRXd-wMhZbSAGSaJo7c/view?usp=sharing"
      ]
    },
    {
      "cell_type": "markdown",
      "metadata": {
        "id": "gpWinHmC9lip",
        "colab_type": "text"
      },
      "source": [
        "## Tải test data"
      ]
    },
    {
      "cell_type": "code",
      "metadata": {
        "id": "uNcgWF6A9q6S",
        "colab_type": "code",
        "colab": {
          "base_uri": "https://localhost:8080/",
          "height": 346
        },
        "outputId": "00bb9993-4174-483e-8317-53ad75125a47"
      },
      "source": [
        "!wget --no-check-certificate 'https://docs.google.com/uc?export=download&id=1sb2zD_dya4d-JGRXd-wMhZbSAGSaJo7c' -O Headline_sarcasm.txt"
      ],
      "execution_count": 50,
      "outputs": [
        {
          "output_type": "stream",
          "text": [
            "--2020-06-26 09:51:46--  https://docs.google.com/uc?export=download&id=1sb2zD_dya4d-JGRXd-wMhZbSAGSaJo7c\n",
            "Resolving docs.google.com (docs.google.com)... 108.177.119.138, 108.177.119.101, 108.177.119.100, ...\n",
            "Connecting to docs.google.com (docs.google.com)|108.177.119.138|:443... connected.\n",
            "HTTP request sent, awaiting response... 302 Moved Temporarily\n",
            "Location: https://doc-0k-5o-docs.googleusercontent.com/docs/securesc/ha0ro937gcuc7l7deffksulhg5h7mbp1/rk8enhkok5lbkj7epp0on5n3ij54jmaq/1593165075000/14625539548729004994/*/1sb2zD_dya4d-JGRXd-wMhZbSAGSaJo7c?e=download [following]\n",
            "Warning: wildcards not supported in HTTP.\n",
            "--2020-06-26 09:51:47--  https://doc-0k-5o-docs.googleusercontent.com/docs/securesc/ha0ro937gcuc7l7deffksulhg5h7mbp1/rk8enhkok5lbkj7epp0on5n3ij54jmaq/1593165075000/14625539548729004994/*/1sb2zD_dya4d-JGRXd-wMhZbSAGSaJo7c?e=download\n",
            "Resolving doc-0k-5o-docs.googleusercontent.com (doc-0k-5o-docs.googleusercontent.com)... 108.177.119.132, 2a00:1450:4013:c00::84\n",
            "Connecting to doc-0k-5o-docs.googleusercontent.com (doc-0k-5o-docs.googleusercontent.com)|108.177.119.132|:443... connected.\n",
            "HTTP request sent, awaiting response... 200 OK\n",
            "Length: 271928 (266K) [text/plain]\n",
            "Saving to: ‘Headline_sarcasm.txt’\n",
            "\n",
            "\rHeadline_sarcasm.tx   0%[                    ]       0  --.-KB/s               \rHeadline_sarcasm.tx 100%[===================>] 265.55K  --.-KB/s    in 0.003s  \n",
            "\n",
            "2020-06-26 09:51:47 (103 MB/s) - ‘Headline_sarcasm.txt’ saved [271928/271928]\n",
            "\n"
          ],
          "name": "stdout"
        }
      ]
    },
    {
      "cell_type": "code",
      "metadata": {
        "id": "wOiGmT4t94mu",
        "colab_type": "code",
        "colab": {
          "base_uri": "https://localhost:8080/",
          "height": 407
        },
        "outputId": "1185a6a4-3d5e-49a7-ef4c-355bbb11bafb"
      },
      "source": [
        "#Đọc file data đã tải về\n",
        "dataf=pd.read_csv('/content/Headline_sarcasm.txt',header=None)\n",
        "dataf.columns=['headline','is_sarcastic']\n",
        "dataf"
      ],
      "execution_count": 52,
      "outputs": [
        {
          "output_type": "execute_result",
          "data": {
            "text/html": [
              "<div>\n",
              "<style scoped>\n",
              "    .dataframe tbody tr th:only-of-type {\n",
              "        vertical-align: middle;\n",
              "    }\n",
              "\n",
              "    .dataframe tbody tr th {\n",
              "        vertical-align: top;\n",
              "    }\n",
              "\n",
              "    .dataframe thead th {\n",
              "        text-align: right;\n",
              "    }\n",
              "</style>\n",
              "<table border=\"1\" class=\"dataframe\">\n",
              "  <thead>\n",
              "    <tr style=\"text-align: right;\">\n",
              "      <th></th>\n",
              "      <th>headline</th>\n",
              "      <th>is_sarcastic</th>\n",
              "    </tr>\n",
              "  </thead>\n",
              "  <tbody>\n",
              "    <tr>\n",
              "      <th>0</th>\n",
              "      <td>Heaven Flush With Cash After Trump Administrat...</td>\n",
              "      <td>1</td>\n",
              "    </tr>\n",
              "    <tr>\n",
              "      <th>1</th>\n",
              "      <td>Jilted Lover Keying Cheater’s Car Realizes She...</td>\n",
              "      <td>1</td>\n",
              "    </tr>\n",
              "    <tr>\n",
              "      <th>2</th>\n",
              "      <td>Nancy Pelosi Calls Jamaal Bowman To Scold Him ...</td>\n",
              "      <td>1</td>\n",
              "    </tr>\n",
              "    <tr>\n",
              "      <th>3</th>\n",
              "      <td>Gamers, We Just Spent 4 Days Trapped In A Roll...</td>\n",
              "      <td>1</td>\n",
              "    </tr>\n",
              "    <tr>\n",
              "      <th>4</th>\n",
              "      <td>Defiant Florida Officials Announce They Will I...</td>\n",
              "      <td>1</td>\n",
              "    </tr>\n",
              "    <tr>\n",
              "      <th>...</th>\n",
              "      <td>...</td>\n",
              "      <td>...</td>\n",
              "    </tr>\n",
              "    <tr>\n",
              "      <th>3195</th>\n",
              "      <td>UK To Ban Mass Gatherings As Coronavirus Fight...</td>\n",
              "      <td>0</td>\n",
              "    </tr>\n",
              "    <tr>\n",
              "      <th>3196</th>\n",
              "      <td>London Marathon Postponed Amid Coronavirus Chaos</td>\n",
              "      <td>0</td>\n",
              "    </tr>\n",
              "    <tr>\n",
              "      <th>3197</th>\n",
              "      <td>The Coronavirus Outbreak Means These Tourist S...</td>\n",
              "      <td>0</td>\n",
              "    </tr>\n",
              "    <tr>\n",
              "      <th>3198</th>\n",
              "      <td>Emiliano Sala Crash Flight Pilot Not Licensed ...</td>\n",
              "      <td>0</td>\n",
              "    </tr>\n",
              "    <tr>\n",
              "      <th>3199</th>\n",
              "      <td>Coronavirus Outbreak: 208 More Positive Cases ...</td>\n",
              "      <td>0</td>\n",
              "    </tr>\n",
              "  </tbody>\n",
              "</table>\n",
              "<p>3200 rows × 2 columns</p>\n",
              "</div>"
            ],
            "text/plain": [
              "                                               headline  is_sarcastic\n",
              "0     Heaven Flush With Cash After Trump Administrat...             1\n",
              "1     Jilted Lover Keying Cheater’s Car Realizes She...             1\n",
              "2     Nancy Pelosi Calls Jamaal Bowman To Scold Him ...             1\n",
              "3     Gamers, We Just Spent 4 Days Trapped In A Roll...             1\n",
              "4     Defiant Florida Officials Announce They Will I...             1\n",
              "...                                                 ...           ...\n",
              "3195  UK To Ban Mass Gatherings As Coronavirus Fight...             0\n",
              "3196   London Marathon Postponed Amid Coronavirus Chaos             0\n",
              "3197  The Coronavirus Outbreak Means These Tourist S...             0\n",
              "3198  Emiliano Sala Crash Flight Pilot Not Licensed ...             0\n",
              "3199  Coronavirus Outbreak: 208 More Positive Cases ...             0\n",
              "\n",
              "[3200 rows x 2 columns]"
            ]
          },
          "metadata": {
            "tags": []
          },
          "execution_count": 52
        }
      ]
    },
    {
      "cell_type": "markdown",
      "metadata": {
        "id": "JW1aQRFkDXQn",
        "colab_type": "text"
      },
      "source": [
        "### Lấy 1000 headline is_sarcastic và 1000 headline non_sarcastic"
      ]
    },
    {
      "cell_type": "code",
      "metadata": {
        "id": "cVZlsGjxDV6y",
        "colab_type": "code",
        "colab": {}
      },
      "source": [
        "x1=dataf[:1000]\n",
        "x2=dataf[2200:3200]\n",
        "test=pd.concat([x1,x2])"
      ],
      "execution_count": 53,
      "outputs": []
    },
    {
      "cell_type": "code",
      "metadata": {
        "id": "PZjtniNdDWX8",
        "colab_type": "code",
        "colab": {
          "base_uri": "https://localhost:8080/",
          "height": 235
        },
        "outputId": "e93f1569-d47f-4512-b9e9-eff1f577c071"
      },
      "source": [
        "#Tiến hành xóa những stop_words của dữ liệu\n",
        "x1_test=test['headline'].apply(preprocess)\n",
        "x1_test"
      ],
      "execution_count": 54,
      "outputs": [
        {
          "output_type": "execute_result",
          "data": {
            "text/plain": [
              "0       heaven flush with cash after trump administr s...\n",
              "1       jilt lover key cheater car realiz she should h...\n",
              "2       nanci pelosi call jamaal bowman To scold him f...\n",
              "3       gamer We just spent 4 day trap In A roll over ...\n",
              "4       defiant florida offici announc they will ignor...\n",
              "                              ...                        \n",
              "3195    UK To ban mass gather As coronaviru fight inte...\n",
              "3196         london marathon postpon amid coronaviru chao\n",
              "3197    the coronaviru outbreak mean these tourist spo...\n",
              "3198    emiliano sala crash flight pilot not licens To...\n",
              "3199    coronaviru outbreak 208 more posit case confir...\n",
              "Name: headline, Length: 2000, dtype: object"
            ]
          },
          "metadata": {
            "tags": []
          },
          "execution_count": 54
        }
      ]
    },
    {
      "cell_type": "code",
      "metadata": {
        "id": "6ljl_JmXDjli",
        "colab_type": "code",
        "colab": {
          "base_uri": "https://localhost:8080/",
          "height": 54
        },
        "outputId": "dde03d47-210c-4d0c-b851-308b4f2539e4"
      },
      "source": [
        "#Số hóa dữ liệu: chuyển đổi ngôn ngữ tự nhiên thành thành ma trận các tính năng TF-IDF\n",
        "x1_test_tfidf = vectorizer.transform(x1_test)\n",
        "x1_test_tfidf"
      ],
      "execution_count": 55,
      "outputs": [
        {
          "output_type": "execute_result",
          "data": {
            "text/plain": [
              "<2000x17940 sparse matrix of type '<class 'numpy.float64'>'\n",
              "\twith 17835 stored elements in Compressed Sparse Row format>"
            ]
          },
          "metadata": {
            "tags": []
          },
          "execution_count": 55
        }
      ]
    },
    {
      "cell_type": "code",
      "metadata": {
        "id": "Kv_uP5EyDmfJ",
        "colab_type": "code",
        "colab": {
          "base_uri": "https://localhost:8080/",
          "height": 945
        },
        "outputId": "2337b65d-9b63-4ffe-f2fd-4cbf404dcb2c"
      },
      "source": [
        "print(x1_test_tfidf)"
      ],
      "execution_count": 56,
      "outputs": [
        {
          "output_type": "stream",
          "text": [
            "  (0, 16374)\t0.14990446525411188\n",
            "  (0, 15207)\t0.394423871698392\n",
            "  (0, 14110)\t0.26786058456188255\n",
            "  (0, 7934)\t0.42211912029788423\n",
            "  (0, 7329)\t0.31963452237653167\n",
            "  (0, 6075)\t0.3620225079406858\n",
            "  (0, 4181)\t0.2385174406500898\n",
            "  (0, 2754)\t0.30343384049767863\n",
            "  (0, 1828)\t0.2778420142693289\n",
            "  (0, 828)\t0.19683416114511282\n",
            "  (0, 538)\t0.2718373689497468\n",
            "  (1, 15123)\t0.25673448112426817\n",
            "  (1, 12931)\t0.2767028502429181\n",
            "  (1, 11422)\t0.43161880397828944\n",
            "  (1, 9465)\t0.3510185920578778\n",
            "  (1, 8710)\t0.2984055648091726\n",
            "  (1, 8453)\t0.4488452176475421\n",
            "  (1, 7258)\t0.43161880397828944\n",
            "  (1, 2669)\t0.26685462800849913\n",
            "  (2, 17575)\t0.31803233974647344\n",
            "  (2, 13961)\t0.49103687415508057\n",
            "  (2, 12438)\t0.3986315484941438\n",
            "  (2, 11792)\t0.46109775189840363\n",
            "  (2, 10701)\t0.4539538993211935\n",
            "  (2, 2580)\t0.28310038524501185\n",
            "  :\t:\n",
            "  (1996, 9737)\t0.46514520267590603\n",
            "  (1996, 9398)\t0.40774954501372024\n",
            "  (1996, 2918)\t0.4540346404866897\n",
            "  (1996, 833)\t0.4036836197211638\n",
            "  (1997, 16191)\t0.40187845255273286\n",
            "  (1997, 15003)\t0.34399322980035646\n",
            "  (1997, 12743)\t0.4099717151532962\n",
            "  (1997, 11373)\t0.4170261707250147\n",
            "  (1997, 9946)\t0.33945311087735336\n",
            "  (1997, 5133)\t0.5127829155166176\n",
            "  (1998, 12003)\t0.40795106759031446\n",
            "  (1998, 11275)\t0.36896325125554996\n",
            "  (1998, 9242)\t0.4217822155476406\n",
            "  (1998, 8225)\t0.3165915264044612\n",
            "  (1998, 6026)\t0.35128381854657936\n",
            "  (1998, 5918)\t0.2507342360134135\n",
            "  (1998, 3829)\t0.33303875704053093\n",
            "  (1998, 3433)\t0.3494693430881676\n",
            "  (1999, 16176)\t0.3430584102374576\n",
            "  (1999, 12272)\t0.360397715470352\n",
            "  (1999, 11373)\t0.4137116379861929\n",
            "  (1999, 10475)\t0.5087073061647309\n",
            "  (1999, 3533)\t0.3412591644055538\n",
            "  (1999, 2752)\t0.3207600749126178\n",
            "  (1999, 2287)\t0.32115281121263517\n"
          ],
          "name": "stdout"
        }
      ]
    },
    {
      "cell_type": "code",
      "metadata": {
        "id": "OU5QFT_4Do77",
        "colab_type": "code",
        "colab": {
          "base_uri": "https://localhost:8080/",
          "height": 35
        },
        "outputId": "8f1d1145-37d7-40e3-f672-9584979c7999"
      },
      "source": [
        "y1_test=test['is_sarcastic']\n",
        "y1_test.shape"
      ],
      "execution_count": 57,
      "outputs": [
        {
          "output_type": "execute_result",
          "data": {
            "text/plain": [
              "(2000,)"
            ]
          },
          "metadata": {
            "tags": []
          },
          "execution_count": 57
        }
      ]
    },
    {
      "cell_type": "markdown",
      "metadata": {
        "id": "ppm0la3FDtvy",
        "colab_type": "text"
      },
      "source": [
        "#**Đối chiếu performance của model trên dataset đã cho và trên 2000 headine mới**"
      ]
    },
    {
      "cell_type": "code",
      "metadata": {
        "id": "KXywZkMsDrFq",
        "colab_type": "code",
        "colab": {
          "base_uri": "https://localhost:8080/",
          "height": 54
        },
        "outputId": "22f0b66a-4186-4133-a3f9-c77a734f1b58"
      },
      "source": [
        "predict1=BernModel.predict(X_test)\n",
        "predict2=BernModel.predict(x1_test_tfidf)\n",
        "print(f\"Test Score : {f1_score(y_test, predict1)}\")\n",
        "print(f\"New Test Score : {f1_score(y1_test, predict2)}\")"
      ],
      "execution_count": 58,
      "outputs": [
        {
          "output_type": "stream",
          "text": [
            "Test Score : 0.777834008097166\n",
            "New Test Score : 0.7272727272727273\n"
          ],
          "name": "stdout"
        }
      ]
    },
    {
      "cell_type": "markdown",
      "metadata": {
        "id": "r58HSAoDD9IX",
        "colab_type": "text"
      },
      "source": [
        "### Vẻ biểu đồ trực quan dữ liệu test được dự đoán\n"
      ]
    },
    {
      "cell_type": "code",
      "metadata": {
        "id": "AWHNUFutDwlT",
        "colab_type": "code",
        "colab": {
          "base_uri": "https://localhost:8080/",
          "height": 299
        },
        "outputId": "f3b7af19-92ed-45a7-ae50-7216e8e0d9ab"
      },
      "source": [
        "from sklearn import metrics\n",
        "pred= BernModel.predict(x1_test_tfidf)\n",
        "cm=metrics.confusion_matrix(y1_test,pred)\n",
        "cm = pd.DataFrame(cm, index = [\"Fake\", \"True\"], columns=[\"Fake\", \"True\"])\n",
        "sns.heatmap(cm, annot = True)\n",
        "plt.title(\"Confusion Matrix for Voting Classifier\")"
      ],
      "execution_count": 60,
      "outputs": [
        {
          "output_type": "execute_result",
          "data": {
            "text/plain": [
              "Text(0.5, 1.0, 'Confusion Matrix for Voting Classifier')"
            ]
          },
          "metadata": {
            "tags": []
          },
          "execution_count": 60
        },
        {
          "output_type": "display_data",
          "data": {
            "image/png": "[encoded data removed]",
            "text/plain": [
              "<Figure size 432x288 with 2 Axes>"
            ]
          },
          "metadata": {
            "tags": [],
            "needs_background": "light"
          }
        }
      ]
    },
    {
      "cell_type": "markdown",
      "metadata": {
        "id": "Dh-9HicLEHYJ",
        "colab_type": "text"
      },
      "source": [
        "### Với độ chính xác 72,7% thì model dự đoán sai khá nhiều. 240/1000 headlines is_sarcastic=1 và 330/1000 headlines is_sarcastic=0  được dự đoán sai"
      ]
    },
    {
      "cell_type": "markdown",
      "metadata": {
        "id": "a6ro3VyTELaW",
        "colab_type": "text"
      },
      "source": [
        "###Nhận xét: performance test trên 2000 headlines tự cào thấp hơn nhiều đối với test_set trên datasets có sẵn: 72,7% ~ 77.8%"
      ]
    },
    {
      "cell_type": "markdown",
      "metadata": {
        "id": "OMsDuGzNETRy",
        "colab_type": "text"
      },
      "source": [
        "### Theo nhóm nghĩ: lí do khiến performance trên 2000 headlines mới thấp hơn\n",
        "\n",
        "\n",
        "*   Có thể xuất hiện nhiều từ mới mà trong dataset không có vì dataset trên kaggle do người ta thu thập lâu rồi còn mình thu thập dữ liệu là gần đây\n",
        "* Hàm PorterStemmer để chuyển về dạng chuẩn của từ   của nltk chưa được tối ưu .Ví dụ như các từ spoken thì nó không đưa về speak được \n",
        "nhưng với kết quả tạm chấp nhận được và tốc độ xử lí nhanh nên nó vẫn được dùng nhiều trong việc xử lí văn bản\n",
        "\n",
        "\n"
      ]
    },
    {
      "cell_type": "markdown",
      "metadata": {
        "id": "jt0vJkjTEXTC",
        "colab_type": "text"
      },
      "source": [
        "#**Viết ứng dụng**"
      ]
    },
    {
      "cell_type": "markdown",
      "metadata": {
        "id": "zu-KjOsOEd6K",
        "colab_type": "text"
      },
      "source": [
        "- Yêu cầu người dùng nhập headline cần kiểm tra vào \n",
        "- Chuyển headline từ dạng string sang list để dùng thư viện pandas tạo thành dataframe\n",
        "- Tiền xử lí dữ liệu cho headline giống như data được train\n",
        "- Dùng model của mình để predict headline \n",
        "\t- predict = 1 thì headline có tính chấm biếm\n",
        "\t- predict = 0 thì headline không có tính châm biếm"
      ]
    },
    {
      "cell_type": "code",
      "metadata": {
        "id": "a7uHAprXD1Zj",
        "colab_type": "code",
        "colab": {
          "base_uri": "https://localhost:8080/",
          "height": 72
        },
        "outputId": "07945e76-7159-49ec-f420-3900ebff72d9"
      },
      "source": [
        "print('Nhập vào headline cần kiểm tra!!!')\n",
        "\n",
        "# Nhập vào headline\n",
        "Headline_str = input()\n",
        "\n",
        "# Chuyển headline thành dạng dataframe\n",
        "Headline_list = [Headline_str]\n",
        "df_app = pd.DataFrame(Headline_list)\n",
        "\n",
        "# Tiền xử lí headline\n",
        "Test_app = df_app[0].apply(preprocess)\n",
        "Test_app_tfidf = vectorizer.transform(Test_app)\n",
        "\n",
        "# Predict healine\n",
        "result_app = BernModel.predict(Test_app_tfidf)\n",
        "\n",
        "# Kết quả \n",
        "if result_app:\n",
        "  print(\"Sarcastic\")\n",
        "else:\n",
        "  print(\"None-Sarcastic\")"
      ],
      "execution_count": 61,
      "outputs": [
        {
          "output_type": "stream",
          "text": [
            "Nhập vào headline cần kiểm tra!!!\n",
            "Medical Staff Share Cheerful Videos During Coronavirus\n",
            "None-Sarcastic\n"
          ],
          "name": "stdout"
        }
      ]
    },
    {
      "cell_type": "markdown",
      "metadata": {
        "id": "NbPkX0k2Envj",
        "colab_type": "text"
      },
      "source": [
        "#**Tham khảo**\n",
        "- Dataset : https://www.kaggle.com/rmisra/news-headlines-dataset-for-sarcasm-detection\n",
        "- Code : https://www.kaggle.com/ebshirani/tf-idf-random-forest-nb-logistic-reg-and-lstms"
      ]
    }
  ]
}