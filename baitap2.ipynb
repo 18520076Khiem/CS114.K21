{
  "nbformat": 4,
  "nbformat_minor": 0,
  "metadata": {
    "colab": {
      "name": "Untitled13.ipynb",
      "provenance": [],
      "authorship_tag": "ABX9TyOko781bMliwsxDf8KMOX17",
      "include_colab_link": true
    },
    "kernelspec": {
      "name": "python3",
      "display_name": "Python 3"
    }
  },
  "cells": [
    {
      "cell_type": "markdown",
      "metadata": {
        "id": "view-in-github",
        "colab_type": "text"
      },
      "source": [
        "<a href=\"https://colab.research.google.com/github/18520076Khiem/CS114.K21/blob/master/baitap2.ipynb\" target=\"_parent\"><img src=\"https://colab.research.google.com/assets/colab-badge.svg\" alt=\"Open In Colab\"/></a>"
      ]
    },
    {
      "cell_type": "markdown",
      "metadata": {
        "id": "XGRmu_WOt796",
        "colab_type": "text"
      },
      "source": [
        "# Chuyển từ file txt sang file csv\n",
        "\n"
      ]
    },
    {
      "cell_type": "code",
      "metadata": {
        "id": "9T__UqXRtEio",
        "colab_type": "code",
        "colab": {
          "base_uri": "https://localhost:8080/",
          "height": 252
        },
        "outputId": "3edf2c25-9303-4f7c-978b-0c5a3bbe2e46"
      },
      "source": [
        "import pandas as pd\n",
        "dataframe=pd.read_csv('http://cs.uit.edu.vn/data2.txt')\n",
        "print(dataframe)"
      ],
      "execution_count": 36,
      "outputs": [
        {
          "output_type": "stream",
          "text": [
            "       6083695  0.521842\n",
            "0      1954367  0.152648\n",
            "1      3734185  0.298548\n",
            "2      5839301  0.460480\n",
            "3      6343427  0.527977\n",
            "4      1355574  0.098012\n",
            "...        ...       ...\n",
            "71109  4472112  0.350379\n",
            "71110  5471895  0.429955\n",
            "71111  9837364  0.801394\n",
            "71112  9466593  0.776407\n",
            "71113  4080801  0.314468\n",
            "\n",
            "[71114 rows x 2 columns]\n"
          ],
          "name": "stdout"
        }
      ]
    },
    {
      "cell_type": "markdown",
      "metadata": {
        "id": "iI0CzRmtuEiy",
        "colab_type": "text"
      },
      "source": [
        "# Dữ liệu x"
      ]
    },
    {
      "cell_type": "code",
      "metadata": {
        "id": "iZQDn28qtN2Z",
        "colab_type": "code",
        "colab": {
          "base_uri": "https://localhost:8080/",
          "height": 34
        },
        "outputId": "8649d40d-b093-458b-b0ff-55dc209b8daa"
      },
      "source": [
        "x=dataframe.values[:,0]\n",
        "print(x)"
      ],
      "execution_count": 50,
      "outputs": [
        {
          "output_type": "stream",
          "text": [
            "[1954367. 3734185. 5839301. ... 9837364. 9466593. 4080801.]\n"
          ],
          "name": "stdout"
        }
      ]
    },
    {
      "cell_type": "markdown",
      "metadata": {
        "id": "CabPCMt7uUqf",
        "colab_type": "text"
      },
      "source": [
        "# Dữ liệu y"
      ]
    },
    {
      "cell_type": "code",
      "metadata": {
        "id": "AF1SuIuRtQ_d",
        "colab_type": "code",
        "colab": {
          "base_uri": "https://localhost:8080/",
          "height": 34
        },
        "outputId": "1dd4b713-b59d-44b5-8663-3f603eec995c"
      },
      "source": [
        "y=dataframe.values[:,1]\n",
        "print(y)"
      ],
      "execution_count": 38,
      "outputs": [
        {
          "output_type": "stream",
          "text": [
            "[0.152648 0.298548 0.46048  ... 0.801394 0.776407 0.314468]\n"
          ],
          "name": "stdout"
        }
      ]
    },
    {
      "cell_type": "markdown",
      "metadata": {
        "id": "ftY7s6GRuYJ9",
        "colab_type": "text"
      },
      "source": [
        "# Import thư viện matplotlib vẽ đồ thị"
      ]
    },
    {
      "cell_type": "code",
      "metadata": {
        "id": "KhmcJH9ItbAc",
        "colab_type": "code",
        "colab": {
          "base_uri": "https://localhost:8080/",
          "height": 278
        },
        "outputId": "d2edd5fa-a0b3-4188-aabc-5fb34db8a52f"
      },
      "source": [
        "import matplotlib.pyplot as plt\n",
        "plt.plot(x,y,marker='o')\n",
        "plt.show()"
      ],
      "execution_count": 39,
      "outputs": [
        {
          "output_type": "display_data",
          "data": {
            "image/png": "[encoded data removed]",
            "text/plain": [
              "<Figure size 432x288 with 1 Axes>"
            ]
          },
          "metadata": {
            "tags": [],
            "needs_background": "light"
          }
        }
      ]
    },
    {
      "cell_type": "markdown",
      "metadata": {
        "id": "7lZW12Hpu9M2",
        "colab_type": "text"
      },
      "source": [
        "# Import thư viện sklearn"
      ]
    },
    {
      "cell_type": "code",
      "metadata": {
        "id": "UCaNd-MJtc3M",
        "colab_type": "code",
        "colab": {}
      },
      "source": [
        "from sklearn.model_selection import train_test_split\n",
        "x_train,x_test,y_train,y_test= train_test_split(x,y,test_size=0.2)"
      ],
      "execution_count": 0,
      "outputs": []
    },
    {
      "cell_type": "markdown",
      "metadata": {
        "id": "9ynntDwEvIGs",
        "colab_type": "text"
      },
      "source": [
        ""
      ]
    },
    {
      "cell_type": "code",
      "metadata": {
        "id": "jmWwINq8tgDl",
        "colab_type": "code",
        "colab": {}
      },
      "source": [
        "import pandas as pd\n",
        "x_train=pd.DataFrame(x_train)\n",
        "x_test=pd.DataFrame(x_test)"
      ],
      "execution_count": 0,
      "outputs": []
    },
    {
      "cell_type": "code",
      "metadata": {
        "id": "ARxSIleNtif2",
        "colab_type": "code",
        "colab": {
          "base_uri": "https://localhost:8080/",
          "height": 34
        },
        "outputId": "9244c7ba-7964-4172-f4aa-9e0705dcfc76"
      },
      "source": [
        "from sklearn.linear_model import LinearRegression\n",
        "model=LinearRegression()\n",
        "model.fit(x_train,y_train) "
      ],
      "execution_count": 42,
      "outputs": [
        {
          "output_type": "execute_result",
          "data": {
            "text/plain": [
              "LinearRegression(copy_X=True, fit_intercept=True, n_jobs=None, normalize=False)"
            ]
          },
          "metadata": {
            "tags": []
          },
          "execution_count": 42
        }
      ]
    },
    {
      "cell_type": "code",
      "metadata": {
        "id": "kOluLgHbtkDj",
        "colab_type": "code",
        "colab": {}
      },
      "source": [
        "predict=model.predict(x_test)"
      ],
      "execution_count": 0,
      "outputs": []
    },
    {
      "cell_type": "code",
      "metadata": {
        "id": "k7xScswztlrX",
        "colab_type": "code",
        "colab": {
          "base_uri": "https://localhost:8080/",
          "height": 34
        },
        "outputId": "2957a78f-f7f0-45b1-aaea-eb0df06a8fb5"
      },
      "source": [
        "model.score(x_test,y_test)"
      ],
      "execution_count": 44,
      "outputs": [
        {
          "output_type": "execute_result",
          "data": {
            "text/plain": [
              "0.9975299818325283"
            ]
          },
          "metadata": {
            "tags": []
          },
          "execution_count": 44
        }
      ]
    },
    {
      "cell_type": "code",
      "metadata": {
        "id": "hWlMVRK0tovP",
        "colab_type": "code",
        "colab": {
          "base_uri": "https://localhost:8080/",
          "height": 34
        },
        "outputId": "a82c4c52-787b-4f24-a2d3-4ce6c8627462"
      },
      "source": [
        "cost=((y_test-predict)**2).sum()/len(y_test)\n",
        "cost"
      ],
      "execution_count": 46,
      "outputs": [
        {
          "output_type": "execute_result",
          "data": {
            "text/plain": [
              "0.00014752422938175947"
            ]
          },
          "metadata": {
            "tags": []
          },
          "execution_count": 46
        }
      ]
    },
    {
      "cell_type": "code",
      "metadata": {
        "id": "zXKPgVO2tt9g",
        "colab_type": "code",
        "colab": {
          "base_uri": "https://localhost:8080/",
          "height": 50
        },
        "outputId": "36220a57-62fa-4244-8018-7c76eabb71e1"
      },
      "source": [
        "from sklearn.svm import SVR\n",
        "model=SVR()\n",
        "model.fit(x_train,y_train)"
      ],
      "execution_count": 47,
      "outputs": [
        {
          "output_type": "execute_result",
          "data": {
            "text/plain": [
              "SVR(C=1.0, cache_size=200, coef0=0.0, degree=3, epsilon=0.1, gamma='scale',\n",
              "    kernel='rbf', max_iter=-1, shrinking=True, tol=0.001, verbose=False)"
            ]
          },
          "metadata": {
            "tags": []
          },
          "execution_count": 47
        }
      ]
    },
    {
      "cell_type": "code",
      "metadata": {
        "id": "p95_XQrQtv9o",
        "colab_type": "code",
        "colab": {
          "base_uri": "https://localhost:8080/",
          "height": 349
        },
        "outputId": "7bf842f7-8ddb-4118-bac2-9f01fa3b003e"
      },
      "source": [
        "import seaborn as sns\n",
        "sns.scatterplot(x,y)"
      ],
      "execution_count": 48,
      "outputs": [
        {
          "output_type": "stream",
          "text": [
            "/usr/local/lib/python3.6/dist-packages/statsmodels/tools/_testing.py:19: FutureWarning: pandas.util.testing is deprecated. Use the functions in the public API at pandas.testing instead.\n",
            "  import pandas.util.testing as tm\n"
          ],
          "name": "stderr"
        },
        {
          "output_type": "execute_result",
          "data": {
            "text/plain": [
              "<matplotlib.axes._subplots.AxesSubplot at 0x7f3d867e15f8>"
            ]
          },
          "metadata": {
            "tags": []
          },
          "execution_count": 48
        },
        {
          "output_type": "display_data",
          "data": {
            "image/png": "[encoded data removed]",
            "text/plain": [
              "<Figure size 432x288 with 1 Axes>"
            ]
          },
          "metadata": {
            "tags": [],
            "needs_background": "light"
          }
        }
      ]
    },
    {
      "cell_type": "code",
      "metadata": {
        "id": "Y6MZ36gEtx8o",
        "colab_type": "code",
        "colab": {
          "base_uri": "https://localhost:8080/",
          "height": 50
        },
        "outputId": "31ed050d-b8fb-41e0-f463-4d84eb6d43b7"
      },
      "source": [
        "n=int(input())\n",
        "p=model.predict([[n]])\n",
        "print(p)"
      ],
      "execution_count": 49,
      "outputs": [
        {
          "output_type": "stream",
          "text": [
            "86868686\n",
            "[0.50134861]\n"
          ],
          "name": "stdout"
        }
      ]
    },
    {
      "cell_type": "code",
      "metadata": {
        "id": "3s9ygfest0ab",
        "colab_type": "code",
        "colab": {}
      },
      "source": [
        ""
      ],
      "execution_count": 0,
      "outputs": []
    }
  ]
}