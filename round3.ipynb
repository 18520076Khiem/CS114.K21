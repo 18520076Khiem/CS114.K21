{
  "nbformat": 4,
  "nbformat_minor": 0,
  "metadata": {
    "colab": {
      "name": "Untitled15.ipynb",
      "provenance": [],
      "authorship_tag": "ABX9TyMoVyyCTH4DtFBDC6EQtTav",
      "include_colab_link": true
    },
    "kernelspec": {
      "name": "python3",
      "display_name": "Python 3"
    }
  },
  "cells": [
    {
      "cell_type": "markdown",
      "metadata": {
        "id": "view-in-github",
        "colab_type": "text"
      },
      "source": [
        "<a href=\"https://colab.research.google.com/github/18520076Khiem/CS114.K21/blob/master/round3.ipynb\" target=\"_parent\"><img src=\"https://colab.research.google.com/assets/colab-badge.svg\" alt=\"Open In Colab\"/></a>"
      ]
    },
    {
      "cell_type": "code",
      "metadata": {
        "id": "NE3_A-7tzHuq",
        "colab_type": "code",
        "outputId": "6ca98955-db10-44bb-c2b1-3880aeadf19f",
        "colab": {
          "base_uri": "https://localhost:8080/",
          "height": 252
        }
      },
      "source": [
        "import pandas as pd\n",
        "dataframe=pd.read_csv('https://cs.uit.edu.vn/data3.txt',header=None)\n",
        "dataframe.columns=['x','y']\n",
        "print(dataframe)"
      ],
      "execution_count": 20,
      "outputs": [
        {
          "output_type": "stream",
          "text": [
            "              x        y\n",
            "0      37837612  4.12166\n",
            "1      37395246  3.92089\n",
            "2      36610827  3.21540\n",
            "3      29555651  2.54506\n",
            "4      25928216  2.21831\n",
            "...         ...      ...\n",
            "10585  26872494  2.35117\n",
            "10586  20753811  1.79155\n",
            "10587  33520323  2.90918\n",
            "10588  21243264  1.80292\n",
            "10589  21380484  1.82795\n",
            "\n",
            "[10590 rows x 2 columns]\n"
          ],
          "name": "stdout"
        }
      ]
    },
    {
      "cell_type": "code",
      "metadata": {
        "id": "VfhpUCyJzkQI",
        "colab_type": "code",
        "outputId": "80f4f0bf-ce47-4b9f-c623-4e4b37cede02",
        "colab": {
          "base_uri": "https://localhost:8080/",
          "height": 50
        }
      },
      "source": [
        "import numpy as np\n",
        "x=dataframe.values[:,0]\n",
        "x"
      ],
      "execution_count": 21,
      "outputs": [
        {
          "output_type": "execute_result",
          "data": {
            "text/plain": [
              "array([37837612., 37395246., 36610827., ..., 33520323., 21243264.,\n",
              "       21380484.])"
            ]
          },
          "metadata": {
            "tags": []
          },
          "execution_count": 21
        }
      ]
    },
    {
      "cell_type": "code",
      "metadata": {
        "id": "QdFu6I9M0bJ7",
        "colab_type": "code",
        "outputId": "41189e8e-8c9a-4618-82ab-39250f57a7fb",
        "colab": {
          "base_uri": "https://localhost:8080/",
          "height": 34
        }
      },
      "source": [
        "y=dataframe.values[:,1]\n",
        "y"
      ],
      "execution_count": 22,
      "outputs": [
        {
          "output_type": "execute_result",
          "data": {
            "text/plain": [
              "array([4.12166, 3.92089, 3.2154 , ..., 2.90918, 1.80292, 1.82795])"
            ]
          },
          "metadata": {
            "tags": []
          },
          "execution_count": 22
        }
      ]
    },
    {
      "cell_type": "code",
      "metadata": {
        "id": "gkpV-cba0cNn",
        "colab_type": "code",
        "outputId": "3227c89b-1820-4c65-ece9-376e6ca37210",
        "colab": {
          "base_uri": "https://localhost:8080/",
          "height": 278
        }
      },
      "source": [
        "import matplotlib.pyplot as plt\n",
        "plt.plot(x,y,marker='o')\n",
        "plt.show()"
      ],
      "execution_count": 23,
      "outputs": [
        {
          "output_type": "display_data",
          "data": {
            "image/png": "[encoded data removed]",
            "text/plain": [
              "<Figure size 432x288 with 1 Axes>"
            ]
          },
          "metadata": {
            "tags": [],
            "needs_background": "light"
          }
        }
      ]
    },
    {
      "cell_type": "code",
      "metadata": {
        "id": "3oKyw5ut0fO9",
        "colab_type": "code",
        "colab": {}
      },
      "source": [
        "from sklearn.model_selection import train_test_split\n",
        "x_train,x_test,y_train,y_test= train_test_split(x,y,test_size=0.2)"
      ],
      "execution_count": 0,
      "outputs": []
    },
    {
      "cell_type": "code",
      "metadata": {
        "id": "rZG3SlhY0xMN",
        "colab_type": "code",
        "colab": {}
      },
      "source": [
        "import pandas as pd\n",
        "x_train=pd.DataFrame(x_train)\n",
        "x_test=pd.DataFrame(x_test)"
      ],
      "execution_count": 0,
      "outputs": []
    },
    {
      "cell_type": "code",
      "metadata": {
        "id": "oPMxpmMM0xxg",
        "colab_type": "code",
        "outputId": "52169eb8-e167-4491-ada7-ba44418abec1",
        "colab": {
          "base_uri": "https://localhost:8080/",
          "height": 34
        }
      },
      "source": [
        "from sklearn.linear_model import LinearRegression\n",
        "model=LinearRegression()\n",
        "model.fit(x_train,y_train) "
      ],
      "execution_count": 26,
      "outputs": [
        {
          "output_type": "execute_result",
          "data": {
            "text/plain": [
              "LinearRegression(copy_X=True, fit_intercept=True, n_jobs=None, normalize=False)"
            ]
          },
          "metadata": {
            "tags": []
          },
          "execution_count": 26
        }
      ]
    },
    {
      "cell_type": "code",
      "metadata": {
        "id": "emadwZJq0z7j",
        "colab_type": "code",
        "colab": {}
      },
      "source": [
        "predict=model.predict(x_test)"
      ],
      "execution_count": 0,
      "outputs": []
    },
    {
      "cell_type": "code",
      "metadata": {
        "id": "2lfOJpVG01eU",
        "colab_type": "code",
        "outputId": "37eee480-ad28-4e30-a336-1c9622749d1d",
        "colab": {
          "base_uri": "https://localhost:8080/",
          "height": 34
        }
      },
      "source": [
        "model.score(x_test,y_test)"
      ],
      "execution_count": 28,
      "outputs": [
        {
          "output_type": "execute_result",
          "data": {
            "text/plain": [
              "0.9891182777689022"
            ]
          },
          "metadata": {
            "tags": []
          },
          "execution_count": 28
        }
      ]
    },
    {
      "cell_type": "code",
      "metadata": {
        "id": "jVIikbcD03dL",
        "colab_type": "code",
        "outputId": "33eb2fbb-fe32-4300-b94c-22856467476a",
        "colab": {
          "base_uri": "https://localhost:8080/",
          "height": 34
        }
      },
      "source": [
        "cost=((y_test-predict)**2).sum()/len(y_test)\n",
        "cost"
      ],
      "execution_count": 29,
      "outputs": [
        {
          "output_type": "execute_result",
          "data": {
            "text/plain": [
              "0.0031335632308211524"
            ]
          },
          "metadata": {
            "tags": []
          },
          "execution_count": 29
        }
      ]
    },
    {
      "cell_type": "code",
      "metadata": {
        "id": "Q9Do2wWI12e9",
        "colab_type": "code",
        "outputId": "aee7c5a0-7ff6-436f-bd38-233855a3507b",
        "colab": {
          "base_uri": "https://localhost:8080/",
          "height": 50
        }
      },
      "source": [
        "n=int(input())\n",
        "p=model.predict([[n]])\n",
        "print(p)\n"
      ],
      "execution_count": 30,
      "outputs": [
        {
          "output_type": "stream",
          "text": [
            "7747474474\n",
            "[718.67857107]\n"
          ],
          "name": "stdout"
        }
      ]
    },
    {
      "cell_type": "markdown",
      "metadata": {
        "id": "bd9icF6-1ZgR",
        "colab_type": "text"
      },
      "source": [
        "# Kết quả tốt hơn hay tệ hơn?\n"
      ]
    },
    {
      "cell_type": "markdown",
      "metadata": {
        "id": "wNtYtXtf1khO",
        "colab_type": "text"
      },
      "source": [
        "Kết quả tệ hơn 0,98 < 0,997\n"
      ]
    },
    {
      "cell_type": "markdown",
      "metadata": {
        "id": "BixqVbtA2D6Q",
        "colab_type": "text"
      },
      "source": [
        "MSE lớn hơn MSE cũ. Độ chênh lệch quá lớn.\n",
        "\n"
      ]
    },
    {
      "cell_type": "markdown",
      "metadata": {
        "id": "JKNmBuLt1wpk",
        "colab_type": "text"
      },
      "source": [
        "# Vấn đề gặp phải nếu tệ hơn là gì?"
      ]
    },
    {
      "cell_type": "markdown",
      "metadata": {
        "id": "z8NzQFPy3HQE",
        "colab_type": "text"
      },
      "source": [
        "Độ chênh lệch so với dữ liệu quá lớn"
      ]
    },
    {
      "cell_type": "markdown",
      "metadata": {
        "id": "4riq7pNG3UYa",
        "colab_type": "text"
      },
      "source": [
        "Giải thích: dữ liệu quá lớn dẫn đến underfiting(nhiều điểm chênh lệch so với data )\n",
        "\n",
        "\n",
        "\n"
      ]
    },
    {
      "cell_type": "code",
      "metadata": {
        "id": "7jKXWCe5Q-n4",
        "colab_type": "code",
        "colab": {
          "base_uri": "https://localhost:8080/",
          "height": 402
        },
        "outputId": "5f84b18c-15a5-41cb-a83d-589a7c83c869"
      },
      "source": [
        "dataframe['x^2']=x**2\n",
        "dataframe"
      ],
      "execution_count": 36,
      "outputs": [
        {
          "output_type": "execute_result",
          "data": {
            "text/html": [
              "<div>\n",
              "<style scoped>\n",
              "    .dataframe tbody tr th:only-of-type {\n",
              "        vertical-align: middle;\n",
              "    }\n",
              "\n",
              "    .dataframe tbody tr th {\n",
              "        vertical-align: top;\n",
              "    }\n",
              "\n",
              "    .dataframe thead th {\n",
              "        text-align: right;\n",
              "    }\n",
              "</style>\n",
              "<table border=\"1\" class=\"dataframe\">\n",
              "  <thead>\n",
              "    <tr style=\"text-align: right;\">\n",
              "      <th></th>\n",
              "      <th>x</th>\n",
              "      <th>y</th>\n",
              "      <th>x/2</th>\n",
              "      <th>x^2</th>\n",
              "    </tr>\n",
              "  </thead>\n",
              "  <tbody>\n",
              "    <tr>\n",
              "      <th>0</th>\n",
              "      <td>37837612</td>\n",
              "      <td>4.12166</td>\n",
              "      <td>18918806.0</td>\n",
              "      <td>1.431685e+15</td>\n",
              "    </tr>\n",
              "    <tr>\n",
              "      <th>1</th>\n",
              "      <td>37395246</td>\n",
              "      <td>3.92089</td>\n",
              "      <td>18697623.0</td>\n",
              "      <td>1.398404e+15</td>\n",
              "    </tr>\n",
              "    <tr>\n",
              "      <th>2</th>\n",
              "      <td>36610827</td>\n",
              "      <td>3.21540</td>\n",
              "      <td>18305413.5</td>\n",
              "      <td>1.340353e+15</td>\n",
              "    </tr>\n",
              "    <tr>\n",
              "      <th>3</th>\n",
              "      <td>29555651</td>\n",
              "      <td>2.54506</td>\n",
              "      <td>14777825.5</td>\n",
              "      <td>8.735365e+14</td>\n",
              "    </tr>\n",
              "    <tr>\n",
              "      <th>4</th>\n",
              "      <td>25928216</td>\n",
              "      <td>2.21831</td>\n",
              "      <td>12964108.0</td>\n",
              "      <td>6.722724e+14</td>\n",
              "    </tr>\n",
              "    <tr>\n",
              "      <th>...</th>\n",
              "      <td>...</td>\n",
              "      <td>...</td>\n",
              "      <td>...</td>\n",
              "      <td>...</td>\n",
              "    </tr>\n",
              "    <tr>\n",
              "      <th>10585</th>\n",
              "      <td>26872494</td>\n",
              "      <td>2.35117</td>\n",
              "      <td>13436247.0</td>\n",
              "      <td>7.221309e+14</td>\n",
              "    </tr>\n",
              "    <tr>\n",
              "      <th>10586</th>\n",
              "      <td>20753811</td>\n",
              "      <td>1.79155</td>\n",
              "      <td>10376905.5</td>\n",
              "      <td>4.307207e+14</td>\n",
              "    </tr>\n",
              "    <tr>\n",
              "      <th>10587</th>\n",
              "      <td>33520323</td>\n",
              "      <td>2.90918</td>\n",
              "      <td>16760161.5</td>\n",
              "      <td>1.123612e+15</td>\n",
              "    </tr>\n",
              "    <tr>\n",
              "      <th>10588</th>\n",
              "      <td>21243264</td>\n",
              "      <td>1.80292</td>\n",
              "      <td>10621632.0</td>\n",
              "      <td>4.512763e+14</td>\n",
              "    </tr>\n",
              "    <tr>\n",
              "      <th>10589</th>\n",
              "      <td>21380484</td>\n",
              "      <td>1.82795</td>\n",
              "      <td>10690242.0</td>\n",
              "      <td>4.571251e+14</td>\n",
              "    </tr>\n",
              "  </tbody>\n",
              "</table>\n",
              "<p>10590 rows × 4 columns</p>\n",
              "</div>"
            ],
            "text/plain": [
              "              x        y         x/2           x^2\n",
              "0      37837612  4.12166  18918806.0  1.431685e+15\n",
              "1      37395246  3.92089  18697623.0  1.398404e+15\n",
              "2      36610827  3.21540  18305413.5  1.340353e+15\n",
              "3      29555651  2.54506  14777825.5  8.735365e+14\n",
              "4      25928216  2.21831  12964108.0  6.722724e+14\n",
              "...         ...      ...         ...           ...\n",
              "10585  26872494  2.35117  13436247.0  7.221309e+14\n",
              "10586  20753811  1.79155  10376905.5  4.307207e+14\n",
              "10587  33520323  2.90918  16760161.5  1.123612e+15\n",
              "10588  21243264  1.80292  10621632.0  4.512763e+14\n",
              "10589  21380484  1.82795  10690242.0  4.571251e+14\n",
              "\n",
              "[10590 rows x 4 columns]"
            ]
          },
          "metadata": {
            "tags": []
          },
          "execution_count": 36
        }
      ]
    },
    {
      "cell_type": "code",
      "metadata": {
        "id": "93O2cixwRLLT",
        "colab_type": "code",
        "colab": {
          "base_uri": "https://localhost:8080/",
          "height": 402
        },
        "outputId": "bc023304-3877-4b09-9846-9c649ace4286"
      },
      "source": [
        "dataframe['xlog(x)']=x*np.log10(x)\n",
        "dataframe"
      ],
      "execution_count": 38,
      "outputs": [
        {
          "output_type": "execute_result",
          "data": {
            "text/html": [
              "<div>\n",
              "<style scoped>\n",
              "    .dataframe tbody tr th:only-of-type {\n",
              "        vertical-align: middle;\n",
              "    }\n",
              "\n",
              "    .dataframe tbody tr th {\n",
              "        vertical-align: top;\n",
              "    }\n",
              "\n",
              "    .dataframe thead th {\n",
              "        text-align: right;\n",
              "    }\n",
              "</style>\n",
              "<table border=\"1\" class=\"dataframe\">\n",
              "  <thead>\n",
              "    <tr style=\"text-align: right;\">\n",
              "      <th></th>\n",
              "      <th>x</th>\n",
              "      <th>y</th>\n",
              "      <th>x/2</th>\n",
              "      <th>x^2</th>\n",
              "      <th>xlog(x)</th>\n",
              "    </tr>\n",
              "  </thead>\n",
              "  <tbody>\n",
              "    <tr>\n",
              "      <th>0</th>\n",
              "      <td>37837612</td>\n",
              "      <td>4.12166</td>\n",
              "      <td>18918806.0</td>\n",
              "      <td>1.431685e+15</td>\n",
              "      <td>2.867305e+08</td>\n",
              "    </tr>\n",
              "    <tr>\n",
              "      <th>1</th>\n",
              "      <td>37395246</td>\n",
              "      <td>3.92089</td>\n",
              "      <td>18697623.0</td>\n",
              "      <td>1.398404e+15</td>\n",
              "      <td>2.831873e+08</td>\n",
              "    </tr>\n",
              "    <tr>\n",
              "      <th>2</th>\n",
              "      <td>36610827</td>\n",
              "      <td>3.21540</td>\n",
              "      <td>18305413.5</td>\n",
              "      <td>1.340353e+15</td>\n",
              "      <td>2.769100e+08</td>\n",
              "    </tr>\n",
              "    <tr>\n",
              "      <th>3</th>\n",
              "      <td>29555651</td>\n",
              "      <td>2.54506</td>\n",
              "      <td>14777825.5</td>\n",
              "      <td>8.735365e+14</td>\n",
              "      <td>2.207996e+08</td>\n",
              "    </tr>\n",
              "    <tr>\n",
              "      <th>4</th>\n",
              "      <td>25928216</td>\n",
              "      <td>2.21831</td>\n",
              "      <td>12964108.0</td>\n",
              "      <td>6.722724e+14</td>\n",
              "      <td>1.922259e+08</td>\n",
              "    </tr>\n",
              "    <tr>\n",
              "      <th>...</th>\n",
              "      <td>...</td>\n",
              "      <td>...</td>\n",
              "      <td>...</td>\n",
              "      <td>...</td>\n",
              "      <td>...</td>\n",
              "    </tr>\n",
              "    <tr>\n",
              "      <th>10585</th>\n",
              "      <td>26872494</td>\n",
              "      <td>2.35117</td>\n",
              "      <td>13436247.0</td>\n",
              "      <td>7.221309e+14</td>\n",
              "      <td>1.996440e+08</td>\n",
              "    </tr>\n",
              "    <tr>\n",
              "      <th>10586</th>\n",
              "      <td>20753811</td>\n",
              "      <td>1.79155</td>\n",
              "      <td>10376905.5</td>\n",
              "      <td>4.307207e+14</td>\n",
              "      <td>1.518577e+08</td>\n",
              "    </tr>\n",
              "    <tr>\n",
              "      <th>10587</th>\n",
              "      <td>33520323</td>\n",
              "      <td>2.90918</td>\n",
              "      <td>16760161.5</td>\n",
              "      <td>1.123612e+15</td>\n",
              "      <td>2.522508e+08</td>\n",
              "    </tr>\n",
              "    <tr>\n",
              "      <th>10588</th>\n",
              "      <td>21243264</td>\n",
              "      <td>1.80292</td>\n",
              "      <td>10621632.0</td>\n",
              "      <td>4.512763e+14</td>\n",
              "      <td>1.556541e+08</td>\n",
              "    </tr>\n",
              "    <tr>\n",
              "      <th>10589</th>\n",
              "      <td>21380484</td>\n",
              "      <td>1.82795</td>\n",
              "      <td>10690242.0</td>\n",
              "      <td>4.571251e+14</td>\n",
              "      <td>1.567193e+08</td>\n",
              "    </tr>\n",
              "  </tbody>\n",
              "</table>\n",
              "<p>10590 rows × 5 columns</p>\n",
              "</div>"
            ],
            "text/plain": [
              "              x        y         x/2           x^2       xlog(x)\n",
              "0      37837612  4.12166  18918806.0  1.431685e+15  2.867305e+08\n",
              "1      37395246  3.92089  18697623.0  1.398404e+15  2.831873e+08\n",
              "2      36610827  3.21540  18305413.5  1.340353e+15  2.769100e+08\n",
              "3      29555651  2.54506  14777825.5  8.735365e+14  2.207996e+08\n",
              "4      25928216  2.21831  12964108.0  6.722724e+14  1.922259e+08\n",
              "...         ...      ...         ...           ...           ...\n",
              "10585  26872494  2.35117  13436247.0  7.221309e+14  1.996440e+08\n",
              "10586  20753811  1.79155  10376905.5  4.307207e+14  1.518577e+08\n",
              "10587  33520323  2.90918  16760161.5  1.123612e+15  2.522508e+08\n",
              "10588  21243264  1.80292  10621632.0  4.512763e+14  1.556541e+08\n",
              "10589  21380484  1.82795  10690242.0  4.571251e+14  1.567193e+08\n",
              "\n",
              "[10590 rows x 5 columns]"
            ]
          },
          "metadata": {
            "tags": []
          },
          "execution_count": 38
        }
      ]
    },
    {
      "cell_type": "code",
      "metadata": {
        "id": "abPCdGcjRVe9",
        "colab_type": "code",
        "colab": {
          "base_uri": "https://localhost:8080/",
          "height": 402
        },
        "outputId": "87141410-127a-4cfa-8150-3f2d0659bad6"
      },
      "source": [
        "x2=dataframe[['x','x^2','xlog(x)']]\n",
        "x2"
      ],
      "execution_count": 40,
      "outputs": [
        {
          "output_type": "execute_result",
          "data": {
            "text/html": [
              "<div>\n",
              "<style scoped>\n",
              "    .dataframe tbody tr th:only-of-type {\n",
              "        vertical-align: middle;\n",
              "    }\n",
              "\n",
              "    .dataframe tbody tr th {\n",
              "        vertical-align: top;\n",
              "    }\n",
              "\n",
              "    .dataframe thead th {\n",
              "        text-align: right;\n",
              "    }\n",
              "</style>\n",
              "<table border=\"1\" class=\"dataframe\">\n",
              "  <thead>\n",
              "    <tr style=\"text-align: right;\">\n",
              "      <th></th>\n",
              "      <th>x</th>\n",
              "      <th>x^2</th>\n",
              "      <th>xlog(x)</th>\n",
              "    </tr>\n",
              "  </thead>\n",
              "  <tbody>\n",
              "    <tr>\n",
              "      <th>0</th>\n",
              "      <td>37837612</td>\n",
              "      <td>1.431685e+15</td>\n",
              "      <td>2.867305e+08</td>\n",
              "    </tr>\n",
              "    <tr>\n",
              "      <th>1</th>\n",
              "      <td>37395246</td>\n",
              "      <td>1.398404e+15</td>\n",
              "      <td>2.831873e+08</td>\n",
              "    </tr>\n",
              "    <tr>\n",
              "      <th>2</th>\n",
              "      <td>36610827</td>\n",
              "      <td>1.340353e+15</td>\n",
              "      <td>2.769100e+08</td>\n",
              "    </tr>\n",
              "    <tr>\n",
              "      <th>3</th>\n",
              "      <td>29555651</td>\n",
              "      <td>8.735365e+14</td>\n",
              "      <td>2.207996e+08</td>\n",
              "    </tr>\n",
              "    <tr>\n",
              "      <th>4</th>\n",
              "      <td>25928216</td>\n",
              "      <td>6.722724e+14</td>\n",
              "      <td>1.922259e+08</td>\n",
              "    </tr>\n",
              "    <tr>\n",
              "      <th>...</th>\n",
              "      <td>...</td>\n",
              "      <td>...</td>\n",
              "      <td>...</td>\n",
              "    </tr>\n",
              "    <tr>\n",
              "      <th>10585</th>\n",
              "      <td>26872494</td>\n",
              "      <td>7.221309e+14</td>\n",
              "      <td>1.996440e+08</td>\n",
              "    </tr>\n",
              "    <tr>\n",
              "      <th>10586</th>\n",
              "      <td>20753811</td>\n",
              "      <td>4.307207e+14</td>\n",
              "      <td>1.518577e+08</td>\n",
              "    </tr>\n",
              "    <tr>\n",
              "      <th>10587</th>\n",
              "      <td>33520323</td>\n",
              "      <td>1.123612e+15</td>\n",
              "      <td>2.522508e+08</td>\n",
              "    </tr>\n",
              "    <tr>\n",
              "      <th>10588</th>\n",
              "      <td>21243264</td>\n",
              "      <td>4.512763e+14</td>\n",
              "      <td>1.556541e+08</td>\n",
              "    </tr>\n",
              "    <tr>\n",
              "      <th>10589</th>\n",
              "      <td>21380484</td>\n",
              "      <td>4.571251e+14</td>\n",
              "      <td>1.567193e+08</td>\n",
              "    </tr>\n",
              "  </tbody>\n",
              "</table>\n",
              "<p>10590 rows × 3 columns</p>\n",
              "</div>"
            ],
            "text/plain": [
              "              x           x^2       xlog(x)\n",
              "0      37837612  1.431685e+15  2.867305e+08\n",
              "1      37395246  1.398404e+15  2.831873e+08\n",
              "2      36610827  1.340353e+15  2.769100e+08\n",
              "3      29555651  8.735365e+14  2.207996e+08\n",
              "4      25928216  6.722724e+14  1.922259e+08\n",
              "...         ...           ...           ...\n",
              "10585  26872494  7.221309e+14  1.996440e+08\n",
              "10586  20753811  4.307207e+14  1.518577e+08\n",
              "10587  33520323  1.123612e+15  2.522508e+08\n",
              "10588  21243264  4.512763e+14  1.556541e+08\n",
              "10589  21380484  4.571251e+14  1.567193e+08\n",
              "\n",
              "[10590 rows x 3 columns]"
            ]
          },
          "metadata": {
            "tags": []
          },
          "execution_count": 40
        }
      ]
    },
    {
      "cell_type": "code",
      "metadata": {
        "id": "L5laT83HRiMx",
        "colab_type": "code",
        "colab": {
          "base_uri": "https://localhost:8080/",
          "height": 34
        },
        "outputId": "27667e00-6864-487c-ef2d-f09a3093e234"
      },
      "source": [
        "y2=dataframe['y']\n",
        "\n",
        "y2.shape"
      ],
      "execution_count": 45,
      "outputs": [
        {
          "output_type": "execute_result",
          "data": {
            "text/plain": [
              "(10590,)"
            ]
          },
          "metadata": {
            "tags": []
          },
          "execution_count": 45
        }
      ]
    },
    {
      "cell_type": "code",
      "metadata": {
        "id": "Aq1DwmEiR9j9",
        "colab_type": "code",
        "colab": {}
      },
      "source": [
        "from sklearn.model_selection import train_test_split \n",
        "x2_train, x2_test, y2_train, y2_test = train_test_split(x2, y2,test_size=0.2)"
      ],
      "execution_count": 0,
      "outputs": []
    },
    {
      "cell_type": "code",
      "metadata": {
        "id": "yyIaWk_USHrn",
        "colab_type": "code",
        "colab": {}
      },
      "source": [
        "from sklearn.linear_model import LinearRegression\n",
        "model2= LinearRegression()\n",
        "x2_test=pd.DataFrame(x2_test)\n",
        "x2_train=pd.DataFrame(x2_train)\n",
        "y2_test=pd.DataFrame(y2_test)\n",
        "y2_train=pd.DataFrame(y2_train)"
      ],
      "execution_count": 0,
      "outputs": []
    },
    {
      "cell_type": "code",
      "metadata": {
        "id": "VNEDXgNoSP0E",
        "colab_type": "code",
        "colab": {
          "base_uri": "https://localhost:8080/",
          "height": 34
        },
        "outputId": "a18af36b-cdd0-43c4-a9e1-f1ee1b5ca885"
      },
      "source": [
        "model2.fit(x2_train,y2_train)"
      ],
      "execution_count": 51,
      "outputs": [
        {
          "output_type": "execute_result",
          "data": {
            "text/plain": [
              "LinearRegression(copy_X=True, fit_intercept=True, n_jobs=None, normalize=False)"
            ]
          },
          "metadata": {
            "tags": []
          },
          "execution_count": 51
        }
      ]
    },
    {
      "cell_type": "code",
      "metadata": {
        "id": "1cPV-O-3SUgt",
        "colab_type": "code",
        "colab": {}
      },
      "source": [
        "ypre2=model2.predict(x2_test)"
      ],
      "execution_count": 0,
      "outputs": []
    },
    {
      "cell_type": "code",
      "metadata": {
        "id": "Wbfj4SPiSYRn",
        "colab_type": "code",
        "colab": {
          "base_uri": "https://localhost:8080/",
          "height": 34
        },
        "outputId": "86e0d69b-5f93-4f27-fb24-98b2903a4087"
      },
      "source": [
        "model2.score(x2_test,y2_test)"
      ],
      "execution_count": 53,
      "outputs": [
        {
          "output_type": "execute_result",
          "data": {
            "text/plain": [
              "0.9874495461394079"
            ]
          },
          "metadata": {
            "tags": []
          },
          "execution_count": 53
        }
      ]
    },
    {
      "cell_type": "code",
      "metadata": {
        "id": "DGpxB5RcSc3z",
        "colab_type": "code",
        "colab": {
          "base_uri": "https://localhost:8080/",
          "height": 50
        },
        "outputId": "35b24d4c-6f31-4bcb-eb41-bc5cdba1733d"
      },
      "source": [
        "pre=int(input())\n",
        "pre_model=model2.predict(pd.DataFrame([pre,pre**2,pre*np.log10(pre)]).T)\n",
        "print(pre_model)"
      ],
      "execution_count": 54,
      "outputs": [
        {
          "output_type": "stream",
          "text": [
            "5000120120\n",
            "[[17534.17709506]]\n"
          ],
          "name": "stdout"
        }
      ]
    },
    {
      "cell_type": "markdown",
      "metadata": {
        "id": "syKEMOL1SiuV",
        "colab_type": "text"
      },
      "source": [
        "# Model mới có performance cao hơn cũ"
      ]
    }
  ]
}